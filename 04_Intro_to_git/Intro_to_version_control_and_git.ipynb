{
 "cells": [
  {
   "cell_type": "code",
   "execution_count": 1,
   "metadata": {},
   "outputs": [],
   "source": [
    "__author__ = \"Guillermo Damke\"\n",
    "__version__ = \"20201022\""
   ]
  },
  {
   "cell_type": "markdown",
   "metadata": {},
   "source": [
    "# Introduction to Version Control and Git"
   ]
  },
  {
   "cell_type": "markdown",
   "metadata": {},
   "source": [
    "In this notebook, we will learn the basics about *Version Control* and *git*."
   ]
  },
  {
   "cell_type": "markdown",
   "metadata": {},
   "source": [
    "## What is Version Control"
   ]
  },
  {
   "cell_type": "markdown",
   "metadata": {},
   "source": [
    "Before we dig into *git*, let's first beging by learning what version control is."
   ]
  },
  {
   "cell_type": "markdown",
   "metadata": {},
   "source": [
    "\"In software engineering, **version control** (also known as revision control, source control, or source code management) is a class of systems responsible for **managing changes to computer programs**, documents, large web sites, or other collections of information. Version control is a component of software configuration management.\" (Wikipedia)"
   ]
  },
  {
   "cell_type": "markdown",
   "metadata": {},
   "source": [
    "## Types of version control systems:"
   ]
  },
  {
   "cell_type": "markdown",
   "metadata": {},
   "source": [
    "There are several types of version control systems. They have different principles and architectures.\n",
    "\n",
    "First, the simplest (and not good) system is to make local copies of files to another directory (which may include a time stamp). However, there is risk of overwriting a file(s) in the wrong directory.\n",
    "\n",
    "---\n",
    "\n",
    "To solve this problem, one approach developed by programers is a **local VCSs** containig a database with the changes. One of the implementations still avaibale is RCS (Revision Control System).\n",
    "\n",
    "![Image](Images/local.png)\n",
    "\n",
    "---\n",
    "\n",
    "The first approach may work if you are developing code on your own. However, how do you write code collaboratively? A second approach that seeks to solve this limitation is a **Centralized Version Control System**. In this architecture, there is a central server that contains all versions, and clients/users check out their files to the server. Some exmaples of these systems are CVS and Subversion (SVN).\n",
    "\n",
    "![Image](Images/centralized.png)\n",
    "\n",
    "\n",
    "This system has, obviously, more advantages over the local VCS approach. For instantce, administrators can  control what each user can contribute to the main version, and also everyone knows roughly what other parties are doing. However, there are some problems in this model. The most relevant is that the central server is a single point of failure. What if the server is down? What if the server disk fails (and there is no backup)? These are also problems of local VCSs.\n",
    "\n",
    "---\n",
    "\n",
    "Then, the third approach to the problem is a **Distributed Version Control System**. In these systems, clients do not only have the latest version of the code, but also have a complete copy of the repository, including its whole history. In case of any data loss, every client has a full copy of the repository where the server can be restored (i.e., clients act as a full backup). Some examples of these systems are Git and Mercurial.\n",
    "\n",
    "![Image](Images/Distributed.png)\n",
    "\n",
    "\"Furthermore, many of these systems deal pretty well with having several remote repositories they can work with, so you can collaborate with different groups of people in different ways simultaneously within the same project. This allows you to set up several types of workflows that aren’t possible in centralized systems, such as hierarchical models.\"\n",
    "\n",
    "(source of images and content: Git manual)."
   ]
  },
  {
   "cell_type": "markdown",
   "metadata": {},
   "source": [
    "## Useful documentation:\n",
    "\n",
    "The full Git book is available at:\n",
    "\n",
    "https://git-scm.com/book/en/v2\n",
    "\n",
    "The Git cheat-sheet can be reached at:\n",
    "\n",
    "https://training.github.com/downloads/github-git-cheat-sheet.pdf"
   ]
  },
  {
   "cell_type": "markdown",
   "metadata": {},
   "source": [
    "## Git\n",
    "\n",
    "Git is a Distributed Version Control System created by the Linux kernel community. Git was created in 2005 after the relantionship between the community and BitKeeper, a company-owned proprietary DVCS that offered the versioning system for free, broke down. \n",
    "\n",
    "The project was mainly pushed forward by Linus Torvalds (the Linux kernel creator), keeping in mind the following requeriments:\n",
    "\n",
    "* Speed\n",
    "\n",
    "* Simple design\n",
    "\n",
    "* Strong support for non-linear development (thousands of parallel branches)\n",
    "\n",
    "* Fully distributed\n",
    "\n",
    "* Able to handle large projects like the Linux kernel efficiently (speed and data size)\n",
    "\n"
   ]
  },
  {
   "cell_type": "markdown",
   "metadata": {},
   "source": [
    "## Common Git services"
   ]
  },
  {
   "cell_type": "markdown",
   "metadata": {},
   "source": [
    "Some of the most popular Git hosting services are:\n",
    "\n",
    "* www.github.com\n",
    "* www.bitbucket.com\n",
    "* www.gitlab.com"
   ]
  },
  {
   "cell_type": "markdown",
   "metadata": {},
   "source": [
    "## Using Git and Github\n",
    "\n",
    "The in-class exercises are found in:\n",
    "\n",
    "https://github.com/datascienceuls/tutorialgit"
   ]
  }
 ],
 "metadata": {
  "kernelspec": {
   "display_name": "Python 3",
   "language": "python",
   "name": "python3"
  },
  "language_info": {
   "codemirror_mode": {
    "name": "ipython",
    "version": 3
   },
   "file_extension": ".py",
   "mimetype": "text/x-python",
   "name": "python",
   "nbconvert_exporter": "python",
   "pygments_lexer": "ipython3",
   "version": "3.7.4"
  }
 },
 "nbformat": 4,
 "nbformat_minor": 4
}
