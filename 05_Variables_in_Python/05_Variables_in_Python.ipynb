{
 "cells": [
  {
   "cell_type": "code",
   "execution_count": 1,
   "metadata": {
    "scrolled": true
   },
   "outputs": [],
   "source": [
    "__version__ = \"20201111\"\n",
    "__author__ = \"Guillermo Damke <gdamke@gmail.com>\""
   ]
  },
  {
   "cell_type": "markdown",
   "metadata": {},
   "source": [
    "\n",
    "# Variables in Python"
   ]
  },
  {
   "cell_type": "markdown",
   "metadata": {},
   "source": [
    "## *Everything is an object*\n",
    "\n",
    "An important point to keep always in mind when coding in Python is that *everything is an object.*\n",
    "\n",
    "Even though we are not introducing object-oriented programming here, it is important to note that every object may have:\n",
    "\n",
    "* Atributes\n",
    "* Methods\n",
    "\n",
    "We will see them in action below."
   ]
  },
  {
   "cell_type": "markdown",
   "metadata": {},
   "source": [
    "## Variable names\n",
    "\n",
    "Some important rules about variable names:\n",
    "\n",
    "* Python is case sensitive, that is, case matters, for instance, `A` is diffent than `a`.\n",
    "* Variable names cannot start by numbers, but they can contain numbers. E.g.,\n",
    " * `1variable` is invalid.\n",
    " * `variable1` is valid\n",
    "* Variable names can contain underscore character, for example `a_variable`.\n",
    "\n",
    "The most important advise: **Use variable names that are self-explanatory!**:\n",
    "\n",
    "* Good practice: `perimeter = 2*pi*radius`\n",
    "* Bad use: `qwerty = 2*pi*ttt`\n",
    "\n"
   ]
  },
  {
   "cell_type": "markdown",
   "metadata": {},
   "source": [
    "## Python data types\n",
    "\n",
    "As we have mentioned earlier, Python has built-in functions and data types. The most common data types are:\n",
    "\n",
    "* Integer: `int`\n",
    "* Float: `float`\n",
    "* Complex: `complex`\n",
    "* String: `str`\n",
    "* Boolean: `bool`\n",
    "* Null: `None`\n",
    "* List: `list`\n",
    "* Tuple: `tuple`\n",
    "* Dictionary: `dict`\n",
    "* Set: `set`\n",
    "\n",
    "Each of these data types are defined as objects, therefore, they have *atrubutes* and *methods*. These objects are defined in a *class*, and each object of such class is called an *instance*. This is very important to remember to take the most of Python.\n",
    "\n",
    "Let's see the following example:"
   ]
  },
  {
   "cell_type": "code",
   "execution_count": 2,
   "metadata": {
    "scrolled": true
   },
   "outputs": [
    {
     "name": "stdout",
     "output_type": "stream",
     "text": [
      "1\n",
      "The data type is <class 'int'>\n"
     ]
    }
   ],
   "source": [
    "print(1)\n",
    "print(\"The data type is\",type(1))"
   ]
  },
  {
   "cell_type": "markdown",
   "metadata": {},
   "source": [
    "Now, we can create a variable with an integer value just by doing:"
   ]
  },
  {
   "cell_type": "code",
   "execution_count": 3,
   "metadata": {
    "scrolled": true
   },
   "outputs": [
    {
     "name": "stdout",
     "output_type": "stream",
     "text": [
      "The value of a is 123, and the datatype is <class 'int'>\n"
     ]
    }
   ],
   "source": [
    "a = 123\n",
    "print( f\"The value of a is {a}, and the datatype is {type(a)}\")"
   ]
  },
  {
   "cell_type": "markdown",
   "metadata": {},
   "source": [
    "Now, let's define a string containing the value 123. Strings are define by single or double quotes."
   ]
  },
  {
   "cell_type": "code",
   "execution_count": 4,
   "metadata": {
    "scrolled": true
   },
   "outputs": [
    {
     "name": "stdout",
     "output_type": "stream",
     "text": [
      "The value of b is 123, and the datatype is <class 'str'>\n"
     ]
    }
   ],
   "source": [
    "b = \"123\"\n",
    "print( f\"The value of b is {b}, and the datatype is {type(b)}\")"
   ]
  },
  {
   "cell_type": "markdown",
   "metadata": {},
   "source": [
    "Even though `a` and `b` are printed on screen as *123*, the data type is different (integer v/s string).\n",
    "\n"
   ]
  },
  {
   "cell_type": "markdown",
   "metadata": {},
   "source": [
    "## Methods and attributes\n",
    "\n",
    "In simple words, methods are functions inherent to a class. Then, objects of a class can perform actions defined in these functions. For example, type `a.` and `b.` and hit the `Tab` key. You will see a whole list of methods or attributes of the object, and these lists will differ because the methods and attributes belong to different classes."
   ]
  },
  {
   "cell_type": "code",
   "execution_count": null,
   "metadata": {},
   "outputs": [],
   "source": [
    "# Hit tab with cursor on the right of the dot\n",
    "a."
   ]
  },
  {
   "cell_type": "code",
   "execution_count": null,
   "metadata": {},
   "outputs": [],
   "source": [
    "# Hit tab with cursor on the right of the dot\n",
    "b."
   ]
  },
  {
   "cell_type": "code",
   "execution_count": 6,
   "metadata": {},
   "outputs": [],
   "source": [
    "c = \"a new string containing a newline\\n\""
   ]
  },
  {
   "cell_type": "code",
   "execution_count": 7,
   "metadata": {},
   "outputs": [
    {
     "name": "stdout",
     "output_type": "stream",
     "text": [
      "A new string containing a newline\n"
     ]
    }
   ],
   "source": [
    "print(c.strip().capitalize())"
   ]
  },
  {
   "cell_type": "code",
   "execution_count": 8,
   "metadata": {},
   "outputs": [],
   "source": [
    "d = \"E5\""
   ]
  },
  {
   "cell_type": "code",
   "execution_count": 9,
   "metadata": {},
   "outputs": [
    {
     "data": {
      "text/plain": [
       "0"
      ]
     },
     "execution_count": 9,
     "metadata": {},
     "output_type": "execute_result"
    }
   ],
   "source": [
    "d.count(\"S\")"
   ]
  },
  {
   "cell_type": "markdown",
   "metadata": {},
   "source": [
    "It is interesting to check that besides the different methods and attributes, the behaviour of the variables for operators (if they are defined). For example, check the results of addition and multiplication for `a` and `b`."
   ]
  },
  {
   "cell_type": "code",
   "execution_count": 10,
   "metadata": {},
   "outputs": [
    {
     "name": "stdout",
     "output_type": "stream",
     "text": [
      "246\n"
     ]
    }
   ],
   "source": [
    "print(a+a)"
   ]
  },
  {
   "cell_type": "code",
   "execution_count": 11,
   "metadata": {},
   "outputs": [
    {
     "name": "stdout",
     "output_type": "stream",
     "text": [
      "369\n"
     ]
    }
   ],
   "source": [
    "print(3*a)"
   ]
  },
  {
   "cell_type": "markdown",
   "metadata": {},
   "source": [
    "The results are what we expect for a integer number. However, what happens if we add or multiply a string?"
   ]
  },
  {
   "cell_type": "code",
   "execution_count": 12,
   "metadata": {},
   "outputs": [
    {
     "name": "stdout",
     "output_type": "stream",
     "text": [
      "123123\n"
     ]
    }
   ],
   "source": [
    "print(b+b)"
   ]
  },
  {
   "cell_type": "code",
   "execution_count": 13,
   "metadata": {},
   "outputs": [
    {
     "name": "stdout",
     "output_type": "stream",
     "text": [
      "A                                                                                                      B\n"
     ]
    }
   ],
   "source": [
    "print(\"A\",100*' ',\"B\")"
   ]
  },
  {
   "cell_type": "markdown",
   "metadata": {},
   "source": [
    "### Aside: What is happening under the hood?\n",
    "\n",
    "As mentioned above, the behaviour of an object depends on the properties defined in its class.\n",
    "\n",
    "For example, how does Python know what to do in the case of *addition* or *multiplication*? Well, when the Python interpreter sees the `+` operation, it will execute what is defined under the **hidden attribute** `<object>.__add__` function for the object (defined in its class). Check below:"
   ]
  },
  {
   "cell_type": "raw",
   "metadata": {},
   "source": [
    "b.__add__"
   ]
  },
  {
   "cell_type": "code",
   "execution_count": 14,
   "metadata": {},
   "outputs": [
    {
     "data": {
      "text/plain": [
       "148"
      ]
     },
     "execution_count": 14,
     "metadata": {},
     "output_type": "execute_result"
    }
   ],
   "source": [
    "# Basically, what is happening is this:\n",
    "a.__add__(25)"
   ]
  },
  {
   "cell_type": "markdown",
   "metadata": {},
   "source": [
    "However, you **should not** access these **hidden attributes** in this way, because they are meant to be executed as intended. Nevertheless, you can check all the defined methods if you type `a.__?` to learn/understand more about Python."
   ]
  },
  {
   "cell_type": "code",
   "execution_count": null,
   "metadata": {},
   "outputs": [],
   "source": [
    "# Hit tab with cursor on the right of the dot\n",
    "a.__"
   ]
  },
  {
   "cell_type": "markdown",
   "metadata": {},
   "source": [
    "## Binary operators "
   ]
  },
  {
   "cell_type": "markdown",
   "metadata": {},
   "source": [
    "According to the Python 3.9 documentation, the built-in binary operators are:\n",
    "\n",
    "![](Images/binary_operators.png)"
   ]
  },
  {
   "cell_type": "markdown",
   "metadata": {},
   "source": [
    "## Defining variables using it's class name\n",
    "\n",
    "There are usually equivalent way to define objects. For example, to define an integer 1 and a float 1:"
   ]
  },
  {
   "cell_type": "code",
   "execution_count": 15,
   "metadata": {},
   "outputs": [],
   "source": [
    "c_int = 1\n",
    "c_float = 1."
   ]
  },
  {
   "cell_type": "code",
   "execution_count": 16,
   "metadata": {},
   "outputs": [
    {
     "name": "stdout",
     "output_type": "stream",
     "text": [
      "Value c_int is 1 with type <class 'int'>; value c_float is 1.0 with type <class 'float'>\n"
     ]
    }
   ],
   "source": [
    "print( f\"Value c_int is {c_int} with type {type(c_int)}; value c_float is {c_float} with type {type(c_float)}\")"
   ]
  },
  {
   "cell_type": "markdown",
   "metadata": {},
   "source": [
    "However, we could also do:\n",
    "    "
   ]
  },
  {
   "cell_type": "code",
   "execution_count": 17,
   "metadata": {},
   "outputs": [
    {
     "name": "stdout",
     "output_type": "stream",
     "text": [
      "Value d_int is 1 with type <class 'int'>\n"
     ]
    }
   ],
   "source": [
    "d_int = int(1.4)\n",
    "print( f\"Value d_int is {d_int} with type {type(d_int)}\")"
   ]
  },
  {
   "cell_type": "markdown",
   "metadata": {},
   "source": [
    "The option above is very useful to convert types. For example:"
   ]
  },
  {
   "cell_type": "code",
   "execution_count": 18,
   "metadata": {},
   "outputs": [
    {
     "name": "stdout",
     "output_type": "stream",
     "text": [
      "Value d_float is 1.0 with type <class 'float'>\n"
     ]
    }
   ],
   "source": [
    "d_float = float(d_int)\n",
    "print( f\"Value d_float is {d_float} with type {type(d_float)}\")"
   ]
  },
  {
   "cell_type": "code",
   "execution_count": 19,
   "metadata": {},
   "outputs": [
    {
     "name": "stdout",
     "output_type": "stream",
     "text": [
      "Value b_float is 123.0 with type <class 'float'>\n"
     ]
    }
   ],
   "source": [
    "b_float = float(b)\n",
    "print( f\"Value b_float is {b_float} with type {type(b_float)}\")"
   ]
  },
  {
   "cell_type": "markdown",
   "metadata": {},
   "source": [
    "## Checking  what class a variable is\n",
    "\n",
    "Simply use the `isinstance` built-in method."
   ]
  },
  {
   "cell_type": "code",
   "execution_count": 20,
   "metadata": {},
   "outputs": [
    {
     "data": {
      "text/plain": [
       "False"
      ]
     },
     "execution_count": 20,
     "metadata": {},
     "output_type": "execute_result"
    }
   ],
   "source": [
    "isinstance(a, str)"
   ]
  },
  {
   "cell_type": "code",
   "execution_count": 21,
   "metadata": {},
   "outputs": [
    {
     "data": {
      "text/plain": [
       "True"
      ]
     },
     "execution_count": 21,
     "metadata": {},
     "output_type": "execute_result"
    }
   ],
   "source": [
    "isinstance(a, int)"
   ]
  },
  {
   "cell_type": "markdown",
   "metadata": {},
   "source": [
    "### Aside: Since we are taling about *classes*\n",
    "\n",
    "Following a question raised during the class, we implement a new object type by writting a `class`. In this case, the class is \"Car\", and we create \"cars\" as instances of this class."
   ]
  },
  {
   "cell_type": "code",
   "execution_count": 22,
   "metadata": {},
   "outputs": [],
   "source": [
    "class Car():\n",
    "    def __init__(self, model_, year_, color_): # underscore added to notice that this is passed to the self.* variables.\n",
    "        self.model = model_\n",
    "        self.year = year_\n",
    "        self.color = color_\n",
    "        \n",
    "    def paint(self, new_color):\n",
    "        self.color = new_color\n",
    "        return self.color\n",
    "    \n",
    "    def __repr__(self):\n",
    "        '''We explicitly implement the __repr__ method, which will be called by the print function'''\n",
    "        return f\"The car is a {self.year} {self.color} {self.model}.\""
   ]
  },
  {
   "cell_type": "code",
   "execution_count": 23,
   "metadata": {},
   "outputs": [
    {
     "name": "stdout",
     "output_type": "stream",
     "text": [
      "white\n"
     ]
    }
   ],
   "source": [
    "ford = Car(\"Escape\", 2011, 'white')\n",
    "print(ford.color)"
   ]
  },
  {
   "cell_type": "code",
   "execution_count": 24,
   "metadata": {},
   "outputs": [
    {
     "name": "stdout",
     "output_type": "stream",
     "text": [
      "The car is a 2011 white Escape.\n"
     ]
    }
   ],
   "source": [
    "print(ford)"
   ]
  },
  {
   "cell_type": "code",
   "execution_count": 25,
   "metadata": {},
   "outputs": [
    {
     "name": "stdout",
     "output_type": "stream",
     "text": [
      "Negro\n"
     ]
    }
   ],
   "source": [
    "print(ford.paint(\"Negro\"))\n"
   ]
  },
  {
   "cell_type": "code",
   "execution_count": 26,
   "metadata": {},
   "outputs": [
    {
     "data": {
      "text/plain": [
       "'Negro'"
      ]
     },
     "execution_count": 26,
     "metadata": {},
     "output_type": "execute_result"
    }
   ],
   "source": [
    "ford.color"
   ]
  },
  {
   "cell_type": "code",
   "execution_count": 27,
   "metadata": {},
   "outputs": [
    {
     "name": "stdout",
     "output_type": "stream",
     "text": [
      "The car is a 2011 Negro Escape.\n"
     ]
    }
   ],
   "source": [
    "print(ford)"
   ]
  },
  {
   "cell_type": "code",
   "execution_count": 28,
   "metadata": {},
   "outputs": [
    {
     "data": {
      "text/plain": [
       "__main__.Car"
      ]
     },
     "execution_count": 28,
     "metadata": {},
     "output_type": "execute_result"
    }
   ],
   "source": [
    "type(ford)"
   ]
  },
  {
   "cell_type": "markdown",
   "metadata": {},
   "source": [
    "## Reviewing the other data types:\n",
    "\n",
    "### Boolean:\n",
    "\n",
    "Boolean values are the ones used in Boolean algebra, i.e., true or false. In Python, these values are implemented as `True` and `False`, respectively. Additionally, they have the `and`, `or` and `not` operators.\n",
    "\n",
    "| Operator | Description |\n",
    "|----------|-------------|\n",
    "| x or y   | If x is false, then y, else x |\n",
    "| x and y  | If x is false, then x, else y |\n",
    "| not x    | If x is false, then True, else False |"
   ]
  },
  {
   "cell_type": "code",
   "execution_count": 29,
   "metadata": {},
   "outputs": [
    {
     "name": "stdout",
     "output_type": "stream",
     "text": [
      "And operator: False; or operator: True; not operator for b1: False\n"
     ]
    }
   ],
   "source": [
    "# Example:\n",
    "b1 = True\n",
    "b2 = False\n",
    "\n",
    "print( f\"And operator: {b1 and b2}; or operator: {b1 or b2}; not operator for b1: {not(b1)}\")"
   ]
  },
  {
   "cell_type": "markdown",
   "metadata": {},
   "source": [
    "### Null object:\n",
    "\n",
    "\"This object is returned by functions that don’t explicitly return a value. It supports no special operations. There is exactly one null object, named None (a built-in name). type(None)() produces the same singleton.\"\n",
    "\n",
    "It is written as None."
   ]
  },
  {
   "cell_type": "code",
   "execution_count": 30,
   "metadata": {},
   "outputs": [
    {
     "data": {
      "text/plain": [
       "NoneType"
      ]
     },
     "execution_count": 30,
     "metadata": {},
     "output_type": "execute_result"
    }
   ],
   "source": [
    "# Example:\n",
    "type(None)"
   ]
  },
  {
   "cell_type": "markdown",
   "metadata": {},
   "source": [
    "### List:\n",
    "\n",
    "This is a very useful data type. Lists are *ordered collections of objects*.  They are created using square brackets `[` and `]`. Objects within the list are comma-separated. **Important:** lists are mutable objects, i.e., they can change after they are created! "
   ]
  },
  {
   "cell_type": "code",
   "execution_count": 31,
   "metadata": {},
   "outputs": [
    {
     "name": "stdout",
     "output_type": "stream",
     "text": [
      "[1, 2, 3, 4]\n"
     ]
    }
   ],
   "source": [
    "a_list_of_numbers = [1,2,3,4]\n",
    "print(a_list_of_numbers)"
   ]
  },
  {
   "cell_type": "markdown",
   "metadata": {},
   "source": [
    "An interesting feature of lists is that **they can contain anything**:"
   ]
  },
  {
   "cell_type": "code",
   "execution_count": 32,
   "metadata": {},
   "outputs": [
    {
     "name": "stdout",
     "output_type": "stream",
     "text": [
      "[1, 2, 3.0, 'cat', 'dog', ['a', 'list', 'of', 'strings']]\n"
     ]
    }
   ],
   "source": [
    "a_list_of_whatever = [1,2,3.,'cat','dog',['a','list','of','strings']]\n",
    "print(a_list_of_whatever)"
   ]
  },
  {
   "cell_type": "markdown",
   "metadata": {},
   "source": [
    "Lists also can be created by the built-in function `list`:"
   ]
  },
  {
   "cell_type": "code",
   "execution_count": 33,
   "metadata": {},
   "outputs": [
    {
     "name": "stdout",
     "output_type": "stream",
     "text": [
      "['0', '1', '2', '3', '4', '5', '6', '7', '8', '9']\n"
     ]
    }
   ],
   "source": [
    "a_list_of_digits = list('0123456789')\n",
    "print(a_list_of_digits)"
   ]
  },
  {
   "cell_type": "code",
   "execution_count": 34,
   "metadata": {},
   "outputs": [
    {
     "name": "stdout",
     "output_type": "stream",
     "text": [
      "[]\n"
     ]
    }
   ],
   "source": [
    "an_empty_list = []\n",
    "print(an_empty_list)"
   ]
  },
  {
   "cell_type": "markdown",
   "metadata": {},
   "source": [
    "In addition, lists have several methods and atributes that we should review, in addition to some important built-in functions:\n",
    "\n"
   ]
  },
  {
   "cell_type": "code",
   "execution_count": 35,
   "metadata": {},
   "outputs": [
    {
     "name": "stdout",
     "output_type": "stream",
     "text": [
      "The list contains 10 elements.\n"
     ]
    }
   ],
   "source": [
    "# Return the number of elements in a list:\n",
    "n_digits = len(a_list_of_digits)\n",
    "print( f\"The list contains {n_digits} elements.\")"
   ]
  },
  {
   "cell_type": "code",
   "execution_count": 36,
   "metadata": {},
   "outputs": [
    {
     "name": "stdout",
     "output_type": "stream",
     "text": [
      "The list contains 0 elements.\n"
     ]
    }
   ],
   "source": [
    "another_empty_list = list()\n",
    "print( \"The list contains\",len(another_empty_list),\"elements.\")"
   ]
  },
  {
   "cell_type": "code",
   "execution_count": 37,
   "metadata": {},
   "outputs": [
    {
     "name": "stdout",
     "output_type": "stream",
     "text": [
      "['one', 'two']\n"
     ]
    }
   ],
   "source": [
    "# Add an element to a list:\n",
    "an_empty_list.append(\"one\")\n",
    "an_empty_list.append(\"two\")\n",
    "\n",
    "print(an_empty_list)"
   ]
  },
  {
   "cell_type": "code",
   "execution_count": 38,
   "metadata": {},
   "outputs": [
    {
     "name": "stdout",
     "output_type": "stream",
     "text": [
      "The last element was two.\n",
      "The updated list is ['one']\n"
     ]
    }
   ],
   "source": [
    "# Remove the last element. This returns the last element:\n",
    "last_element = an_empty_list.pop()\n",
    "print( f\"The last element was {last_element}.\\nThe updated list is {an_empty_list}\")"
   ]
  },
  {
   "cell_type": "markdown",
   "metadata": {},
   "source": [
    "#### Accesing elements in a list and list slicing:\n",
    "\n",
    "List elements are accesed by an `index` that gives the order an element appears in the list. **The index starts at 0, then the first element of a list is a_list[0]**"
   ]
  },
  {
   "cell_type": "code",
   "execution_count": 39,
   "metadata": {},
   "outputs": [
    {
     "name": "stdout",
     "output_type": "stream",
     "text": [
      "The first element is 1\n",
      "The list now is [-10, 2, 3, 4]\n"
     ]
    }
   ],
   "source": [
    "# First element:\n",
    "print( f\"The first element is {a_list_of_numbers[0]}\")\n",
    "\n",
    "# Change value of an element:\n",
    "a_list_of_numbers[0] = -10\n",
    "print( f\"The list now is {a_list_of_numbers}\")"
   ]
  },
  {
   "cell_type": "code",
   "execution_count": 40,
   "metadata": {},
   "outputs": [
    {
     "name": "stdout",
     "output_type": "stream",
     "text": [
      "['0', '1', '2', '3', '4', '5', '6', '7', '8', '9']\n",
      "['1', '2']\n"
     ]
    }
   ],
   "source": [
    "# Slicing:\n",
    "print(a_list_of_digits)\n",
    "subset = a_list_of_digits[1:3:]\n",
    "print(subset)"
   ]
  },
  {
   "cell_type": "markdown",
   "metadata": {},
   "source": [
    "An interesting feature of slicing is that one can omit the first or last index to mean \"from the beggining\" or \"to the end\"."
   ]
  },
  {
   "cell_type": "code",
   "execution_count": 41,
   "metadata": {},
   "outputs": [
    {
     "name": "stdout",
     "output_type": "stream",
     "text": [
      "['0', '1', '2', '3', '4']\n"
     ]
    }
   ],
   "source": [
    "# All elements until index 5\n",
    "sublist_1 = a_list_of_digits[:5]\n",
    "print(sublist_1)"
   ]
  },
  {
   "cell_type": "code",
   "execution_count": 42,
   "metadata": {},
   "outputs": [
    {
     "name": "stdout",
     "output_type": "stream",
     "text": [
      "['5', '6', '7', '8', '9']\n"
     ]
    }
   ],
   "source": [
    "# All elements from index 5\n",
    "sublist_2 = a_list_of_digits[5:]\n",
    "print(sublist_2)"
   ]
  },
  {
   "cell_type": "code",
   "execution_count": 43,
   "metadata": {},
   "outputs": [
    {
     "name": "stdout",
     "output_type": "stream",
     "text": [
      "9\n"
     ]
    }
   ],
   "source": [
    "# You can count from the last element using negative indices:\n",
    "print(a_list_of_digits[-1])"
   ]
  },
  {
   "cell_type": "code",
   "execution_count": 44,
   "metadata": {},
   "outputs": [
    {
     "name": "stdout",
     "output_type": "stream",
     "text": [
      "['0', '1', '2', '3', '4', '5', '6', '7', '8', '9']\n"
     ]
    }
   ],
   "source": [
    "# List concatenation: Use the addition operator!\n",
    "new_list = sublist_1 + sublist_2\n",
    "print(new_list)"
   ]
  },
  {
   "cell_type": "code",
   "execution_count": 45,
   "metadata": {},
   "outputs": [
    {
     "name": "stdout",
     "output_type": "stream",
     "text": [
      "['0', '1', '2', '3', '4', '5', '6', '7', '8', '9', '0', '1', '2', '3', '4', '5', '6', '7', '8', '9', '0', '1', '2', '3', '4', '5', '6', '7', '8', '9', '0', '1', '2', '3', '4', '5', '6', '7', '8', '9', '0', '1', '2', '3', '4', '5', '6', '7', '8', '9']\n"
     ]
    }
   ],
   "source": [
    "# Repeating a list: Use the multiplication operator:\n",
    "n_repeats = 5\n",
    "print(a_list_of_digits*n_repeats)"
   ]
  },
  {
   "cell_type": "code",
   "execution_count": 46,
   "metadata": {},
   "outputs": [
    {
     "name": "stdout",
     "output_type": "stream",
     "text": [
      "[['0', '1', '2', '3', '4', '5', '6', '7', '8', '9'], ['0', '1', '2', '3', '4', '5', '6', '7', '8', '9'], ['0', '1', '2', '3', '4', '5', '6', '7', '8', '9'], ['0', '1', '2', '3', '4', '5', '6', '7', '8', '9'], ['0', '1', '2', '3', '4', '5', '6', '7', '8', '9']]\n"
     ]
    }
   ],
   "source": [
    "# Compare the behavior above to this:\n",
    "n_repeats = 5\n",
    "print([a_list_of_digits]*n_repeats)"
   ]
  },
  {
   "cell_type": "code",
   "execution_count": null,
   "metadata": {},
   "outputs": [],
   "source": []
  },
  {
   "cell_type": "code",
   "execution_count": 49,
   "metadata": {},
   "outputs": [
    {
     "name": "stdout",
     "output_type": "stream",
     "text": [
      "['9', '7', '5', '3', '1']\n"
     ]
    }
   ],
   "source": [
    "# You can use \"strides\" to get only every n elements:\n",
    "inverted_list = a_list_of_digits[::2]\n",
    "\n",
    "print(inverted_list)\n",
    "\n",
    "# What would happen if the \"stride\" is negative? Try it!!!!"
   ]
  },
  {
   "cell_type": "code",
   "execution_count": 50,
   "metadata": {},
   "outputs": [
    {
     "name": "stdout",
     "output_type": "stream",
     "text": [
      "['0', '1', '2', '3', '4', '5', '6', '7', '8', '9']\n"
     ]
    }
   ],
   "source": [
    "# Reversing the list: Use the reverse method:\n",
    "a_list_of_digits.reverse()\n",
    "print(a_list_of_digits)"
   ]
  },
  {
   "cell_type": "markdown",
   "metadata": {},
   "source": [
    "Did you notice that the reversing occured *in place* (i.e., no value was returned)? What do you think the method returned? How would you check it?"
   ]
  },
  {
   "cell_type": "markdown",
   "metadata": {},
   "source": [
    "Another feature of lists is that they are **iterables**: they can be used for loops."
   ]
  },
  {
   "cell_type": "markdown",
   "metadata": {},
   "source": [
    "## Tuple:\n",
    "\n",
    "Tuples are ordered collections of objects, similar to lists, but **they are immutable**. They are defined using parenthesis, with elements separated by comma. They can contain any type of object."
   ]
  },
  {
   "cell_type": "code",
   "execution_count": 51,
   "metadata": {},
   "outputs": [
    {
     "name": "stdout",
     "output_type": "stream",
     "text": [
      "(1, 2, 3, 4)\n"
     ]
    }
   ],
   "source": [
    "a_tuple = (1,2,3,4)\n",
    "print(a_tuple)"
   ]
  },
  {
   "cell_type": "markdown",
   "metadata": {},
   "source": [
    "Tuples and lists share several characteristics. For example element access, concatenation, etc."
   ]
  },
  {
   "cell_type": "code",
   "execution_count": 52,
   "metadata": {},
   "outputs": [
    {
     "name": "stdout",
     "output_type": "stream",
     "text": [
      "The second element of the tuple is 3\n",
      "(1, 2, 3, 4, 1, 2, 3, 4)\n"
     ]
    }
   ],
   "source": [
    "print( f\"The second element of the tuple is {a_tuple[2]}\")\n",
    "print( a_tuple + a_tuple)"
   ]
  },
  {
   "cell_type": "markdown",
   "metadata": {},
   "source": [
    "However, they are immutable:"
   ]
  },
  {
   "cell_type": "code",
   "execution_count": 53,
   "metadata": {},
   "outputs": [
    {
     "ename": "TypeError",
     "evalue": "'tuple' object does not support item assignment",
     "output_type": "error",
     "traceback": [
      "\u001b[0;31m---------------------------------------------------------------------------\u001b[0m",
      "\u001b[0;31mTypeError\u001b[0m                                 Traceback (most recent call last)",
      "\u001b[0;32m<ipython-input-53-8574ac2cf320>\u001b[0m in \u001b[0;36m<module>\u001b[0;34m\u001b[0m\n\u001b[0;32m----> 1\u001b[0;31m \u001b[0ma_tuple\u001b[0m\u001b[0;34m[\u001b[0m\u001b[0;36m2\u001b[0m\u001b[0;34m]\u001b[0m \u001b[0;34m=\u001b[0m \u001b[0;36m3\u001b[0m\u001b[0;34m\u001b[0m\u001b[0;34m\u001b[0m\u001b[0m\n\u001b[0m",
      "\u001b[0;31mTypeError\u001b[0m: 'tuple' object does not support item assignment"
     ]
    }
   ],
   "source": [
    "a_tuple[2] = 3"
   ]
  },
  {
   "cell_type": "code",
   "execution_count": null,
   "metadata": {},
   "outputs": [],
   "source": []
  },
  {
   "cell_type": "markdown",
   "metadata": {},
   "source": [
    "## Dictionary:\n",
    "\n",
    "Python dictionaries are a very flexible data type. They are collections where indices can be *keys* instead of a sequence of integers (although integers can also be used). Then, each element in a dictionary is always defined as a **{key:value}** pair. Note that the **keys must be unique**."
   ]
  },
  {
   "cell_type": "code",
   "execution_count": 54,
   "metadata": {},
   "outputs": [
    {
     "name": "stdout",
     "output_type": "stream",
     "text": [
      "{'key': 10}\n"
     ]
    }
   ],
   "source": [
    "a_dictionary = {'key':10}\n",
    "print(a_dictionary)"
   ]
  },
  {
   "cell_type": "markdown",
   "metadata": {},
   "source": [
    "Access the elements in a dictionary by its key:"
   ]
  },
  {
   "cell_type": "code",
   "execution_count": 55,
   "metadata": {},
   "outputs": [
    {
     "name": "stdout",
     "output_type": "stream",
     "text": [
      "10\n"
     ]
    }
   ],
   "source": [
    "print(a_dictionary['key'])"
   ]
  },
  {
   "cell_type": "markdown",
   "metadata": {},
   "source": [
    "A *KeyError* exception is raised if the key is not present:"
   ]
  },
  {
   "cell_type": "code",
   "execution_count": 56,
   "metadata": {},
   "outputs": [
    {
     "ename": "KeyError",
     "evalue": "'another_key'",
     "output_type": "error",
     "traceback": [
      "\u001b[0;31m---------------------------------------------------------------------------\u001b[0m",
      "\u001b[0;31mKeyError\u001b[0m                                  Traceback (most recent call last)",
      "\u001b[0;32m<ipython-input-56-83369892056a>\u001b[0m in \u001b[0;36m<module>\u001b[0;34m\u001b[0m\n\u001b[0;32m----> 1\u001b[0;31m \u001b[0ma_dictionary\u001b[0m\u001b[0;34m[\u001b[0m\u001b[0;34m'another_key'\u001b[0m\u001b[0;34m]\u001b[0m\u001b[0;34m\u001b[0m\u001b[0;34m\u001b[0m\u001b[0m\n\u001b[0m",
      "\u001b[0;31mKeyError\u001b[0m: 'another_key'"
     ]
    }
   ],
   "source": [
    "a_dictionary['another_key']"
   ]
  },
  {
   "cell_type": "markdown",
   "metadata": {},
   "source": [
    "Some interesting features of dictionaries are:\n",
    "\n",
    "* keys can be either strings, integers or floats\n",
    "* values can be any data type. **Even other dictionaries!**"
   ]
  },
  {
   "cell_type": "code",
   "execution_count": 57,
   "metadata": {},
   "outputs": [
    {
     "data": {
      "text/plain": [
       "{'Una lista': [1, 2, 3, 4, 5], 'N': 3}"
      ]
     },
     "execution_count": 57,
     "metadata": {},
     "output_type": "execute_result"
    }
   ],
   "source": [
    "pets = {}\n",
    "pets['Una lista'] = [1,2,3,4,5]\n",
    "pets['N'] = 3\n",
    "\n",
    "pets"
   ]
  },
  {
   "cell_type": "code",
   "execution_count": 58,
   "metadata": {},
   "outputs": [],
   "source": [
    "pets['dog'] = {} # Dog is now a dictionary\n",
    "pets['dog']['owner'] = \"Juan Perez\"\n",
    "pets['dog']['weight'] = {'value':12.5,'unit':'kilograms'}\n",
    "\n",
    "pets['cat'] = {}\n",
    "pets['cat']['owner'] = \"Manuel Garcia\"\n",
    "pets['cat']['weight'] = {'value':9.3,'unit':'pounds'}\n",
    "\n",
    "pets['rat'] = {}\n",
    "pets['rat']['owner'] = \"Liliana Lopez\"\n",
    "pets['rat']['weight'] = {'value':0.9,'unit':'pounds'}\n"
   ]
  },
  {
   "cell_type": "code",
   "execution_count": 59,
   "metadata": {},
   "outputs": [
    {
     "name": "stdout",
     "output_type": "stream",
     "text": [
      "{'Una lista': [1, 2, 3, 4, 5], 'N': 3, 'dog': {'owner': 'Juan Perez', 'weight': {'value': 12.5, 'unit': 'kilograms'}}, 'cat': {'owner': 'Manuel Garcia', 'weight': {'value': 9.3, 'unit': 'pounds'}}, 'rat': {'owner': 'Liliana Lopez', 'weight': {'value': 0.9, 'unit': 'pounds'}}}\n"
     ]
    }
   ],
   "source": [
    "print(pets)"
   ]
  },
  {
   "cell_type": "code",
   "execution_count": 60,
   "metadata": {},
   "outputs": [
    {
     "name": "stdout",
     "output_type": "stream",
     "text": [
      "3\n"
     ]
    }
   ],
   "source": [
    "print(pets['N'])"
   ]
  },
  {
   "cell_type": "code",
   "execution_count": 61,
   "metadata": {},
   "outputs": [
    {
     "data": {
      "text/plain": [
       "{100: {0: {'flux': 12.4, 'masked': True}}}"
      ]
     },
     "execution_count": 61,
     "metadata": {},
     "output_type": "execute_result"
    }
   ],
   "source": [
    "# Defining elements of an image in dictionary form. The keyworks of the dictionary could represent the pixel coordinates\n",
    "image = {}\n",
    "image[100] = {}\n",
    "image[100][0] = {'flux':12.4, 'masked':True}\n",
    "image"
   ]
  },
  {
   "cell_type": "markdown",
   "metadata": {},
   "source": [
    "To get the keys of a dictionary, use the `list` function:"
   ]
  },
  {
   "cell_type": "code",
   "execution_count": 62,
   "metadata": {},
   "outputs": [
    {
     "name": "stdout",
     "output_type": "stream",
     "text": [
      "['Una lista', 'N', 'dog', 'cat', 'rat']\n"
     ]
    }
   ],
   "source": [
    "animals = list(pets)\n",
    "print(animals)"
   ]
  },
  {
   "cell_type": "markdown",
   "metadata": {},
   "source": [
    "Get the elements in order with the `sorted` method:"
   ]
  },
  {
   "cell_type": "code",
   "execution_count": 64,
   "metadata": {},
   "outputs": [
    {
     "name": "stdout",
     "output_type": "stream",
     "text": [
      "['N', 'Una lista', 'cat', 'dog', 'rat']\n"
     ]
    }
   ],
   "source": [
    "sorted_animals = sorted(pets)\n",
    "print( sorted_animals)"
   ]
  },
  {
   "cell_type": "markdown",
   "metadata": {},
   "source": [
    "**Important: In the past, dictionary elements used to be unordered structures. However, the keys are now ordered according to the order they were inserted.**"
   ]
  },
  {
   "cell_type": "markdown",
   "metadata": {},
   "source": [
    "Check if an element is in a dictionary with the `in` keyword."
   ]
  },
  {
   "cell_type": "code",
   "execution_count": 65,
   "metadata": {},
   "outputs": [],
   "source": [
    "if 'mouse' in pets:\n",
    "    print(pets['mouse'])\n",
    "else:\n",
    "    pets['mouse'] = {}\n"
   ]
  },
  {
   "cell_type": "code",
   "execution_count": 66,
   "metadata": {},
   "outputs": [
    {
     "data": {
      "text/plain": [
       "{'Una lista': [1, 2, 3, 4, 5],\n",
       " 'N': 3,\n",
       " 'dog': {'owner': 'Juan Perez',\n",
       "  'weight': {'value': 12.5, 'unit': 'kilograms'}},\n",
       " 'cat': {'owner': 'Manuel Garcia', 'weight': {'value': 9.3, 'unit': 'pounds'}},\n",
       " 'rat': {'owner': 'Liliana Lopez', 'weight': {'value': 0.9, 'unit': 'pounds'}},\n",
       " 'mouse': {}}"
      ]
     },
     "execution_count": 66,
     "metadata": {},
     "output_type": "execute_result"
    }
   ],
   "source": [
    "pets"
   ]
  },
  {
   "cell_type": "markdown",
   "metadata": {},
   "source": [
    "## Set:\n",
    "\n",
    "A set is an *unordered collection of unique elements.* They are defined by the `set()` function of using curly braces {<elements\\>} (only if they are not empty, otherwise a dictionary is created)."
   ]
  },
  {
   "cell_type": "code",
   "execution_count": 67,
   "metadata": {},
   "outputs": [
    {
     "name": "stdout",
     "output_type": "stream",
     "text": [
      "{'nebula', 'planet', 'star', 'galaxy'}\n"
     ]
    }
   ],
   "source": [
    "object_types = {'star','nebula','planet','galaxy','star'}\n",
    "print(object_types)"
   ]
  },
  {
   "cell_type": "code",
   "execution_count": 68,
   "metadata": {},
   "outputs": [
    {
     "name": "stdout",
     "output_type": "stream",
     "text": [
      "{'nebula', 'quasar', 'star'}\n"
     ]
    }
   ],
   "source": [
    "elements = 10000*['star'] + ['nebula','quasar']\n",
    "print(set(elements))"
   ]
  },
  {
   "cell_type": "code",
   "execution_count": 69,
   "metadata": {},
   "outputs": [],
   "source": [
    "other_objects = {'star','quasar','supernovae'}"
   ]
  },
  {
   "cell_type": "markdown",
   "metadata": {},
   "source": [
    "Sets support the usual set operations. For example:"
   ]
  },
  {
   "cell_type": "code",
   "execution_count": 70,
   "metadata": {},
   "outputs": [
    {
     "data": {
      "text/plain": [
       "{'star'}"
      ]
     },
     "execution_count": 70,
     "metadata": {},
     "output_type": "execute_result"
    }
   ],
   "source": [
    "# Intersection:\n",
    "object_types.intersection(other_objects)"
   ]
  },
  {
   "cell_type": "code",
   "execution_count": 71,
   "metadata": {},
   "outputs": [
    {
     "data": {
      "text/plain": [
       "{'galaxy', 'nebula', 'planet', 'quasar', 'star', 'supernovae'}"
      ]
     },
     "execution_count": 71,
     "metadata": {},
     "output_type": "execute_result"
    }
   ],
   "source": [
    "# Union:\n",
    "object_types.union(other_objects)"
   ]
  },
  {
   "cell_type": "code",
   "execution_count": 72,
   "metadata": {},
   "outputs": [
    {
     "name": "stdout",
     "output_type": "stream",
     "text": [
      "None\n"
     ]
    }
   ],
   "source": [
    "# Difference:\n",
    "print(object_types.difference_update( other_objects))\n"
   ]
  },
  {
   "cell_type": "code",
   "execution_count": 73,
   "metadata": {},
   "outputs": [
    {
     "data": {
      "text/plain": [
       "{'galaxy', 'nebula', 'planet'}"
      ]
     },
     "execution_count": 73,
     "metadata": {},
     "output_type": "execute_result"
    }
   ],
   "source": [
    "object_types"
   ]
  },
  {
   "cell_type": "code",
   "execution_count": 74,
   "metadata": {},
   "outputs": [
    {
     "data": {
      "text/plain": [
       "{'galaxy', 'nebula', 'planet'}"
      ]
     },
     "execution_count": 74,
     "metadata": {},
     "output_type": "execute_result"
    }
   ],
   "source": [
    "# or equivalently:\n",
    "object_types - other_objects\n"
   ]
  },
  {
   "cell_type": "code",
   "execution_count": 75,
   "metadata": {},
   "outputs": [
    {
     "data": {
      "text/plain": [
       "{'quasar', 'star', 'supernovae'}"
      ]
     },
     "execution_count": 75,
     "metadata": {},
     "output_type": "execute_result"
    }
   ],
   "source": [
    "# Remember that difference is not commutative:\n",
    "other_objects - object_types"
   ]
  },
  {
   "cell_type": "code",
   "execution_count": 76,
   "metadata": {},
   "outputs": [],
   "source": [
    "object_types.difference_update(other_objects)"
   ]
  },
  {
   "cell_type": "code",
   "execution_count": null,
   "metadata": {},
   "outputs": [],
   "source": [
    "# Hit tab with cursor on the right of the dot\n",
    "object_types."
   ]
  },
  {
   "cell_type": "markdown",
   "metadata": {},
   "source": [
    "### How do you think you can apply the datatypes reviewed today?"
   ]
  }
 ],
 "metadata": {
  "kernelspec": {
   "display_name": "Python 3",
   "language": "python",
   "name": "python3"
  },
  "language_info": {
   "codemirror_mode": {
    "name": "ipython",
    "version": 3
   },
   "file_extension": ".py",
   "mimetype": "text/x-python",
   "name": "python",
   "nbconvert_exporter": "python",
   "pygments_lexer": "ipython3",
   "version": "3.7.4"
  }
 },
 "nbformat": 4,
 "nbformat_minor": 4
}
