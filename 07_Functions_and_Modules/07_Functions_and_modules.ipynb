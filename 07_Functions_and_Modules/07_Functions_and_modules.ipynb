{
 "cells": [
  {
   "cell_type": "code",
   "execution_count": null,
   "metadata": {},
   "outputs": [],
   "source": [
    "__version__ = \"20201119\"\n",
    "__author__ = \"Guillermo Damke <gdamke@gmail.com>\""
   ]
  },
  {
   "cell_type": "markdown",
   "metadata": {},
   "source": [
    "# Functions and Modules in Python"
   ]
  },
  {
   "cell_type": "markdown",
   "metadata": {},
   "source": [
    "\"In computer programming, a *subroutine* is a sequence of program instructions that performs a specific task, packaged as a unit. This unit can then be used in programs wherever that particular task should be performed. \n",
    "\n",
    "\"In different programming languages, a subroutine may be called a routine, subprogram, **function**, **method**, or procedure.\"\n",
    "\n",
    "\"Subroutines (functions) **may be defined within programs**, or **separately in libraries that can be used by many programs**.\" (quotes from Wikipedia)\n",
    "\n"
   ]
  },
  {
   "cell_type": "markdown",
   "metadata": {},
   "source": [
    "### Why writing functions?\n",
    "\n",
    "There are several reasons why you want to write functions:\n",
    "\n",
    "* If you have to execute the same task several times, just write the code once and then call the function several times.\n",
    "* Following the previous case, you avoid typing errors if you were to write the same code many times. Instead, write one function correctly just once. Also, if you made a mistake, you just have to correct for it once.\n",
    "* You can write the function in a module (library) and then import it to multiple programs.\n",
    "* If your function is well tested, there is no problem in using it in multiple programs.\n",
    "* Programs are easier to read when using functions. As expected, remember to use meaningful names for functions.\n"
   ]
  },
  {
   "cell_type": "markdown",
   "metadata": {},
   "source": [
    "### How to write a function?\n",
    "\n",
    "(Text extracted from \"Python Programming Fundamentals\", Kent D. Lee, Second Edition).\n",
    "\n",
    "1. **What should our function be called?** \n",
    "    We should give it a name that makes sense and describes what the function does. Since a function does something, the name of a function is usually a verb or some description of what the function returns. It might be one word or several words long.\n",
    "\n",
    "\n",
    "2. **What should we give to our function?**\n",
    "    In other words, what arguments will we pass to the function? When thinking about arguments to pass to a function we should think about how the function will be used and what arguments would make it the most useful.\n",
    "\n",
    "\n",
    "3. **What should the function do? What is its purpose?**\n",
    "    The function needs to have a clearly defined purpose. Either it should return a value or it should have some well-defined side-effect.\n",
    "\n",
    "\n",
    "4. **Finally, what should our function return?**\n",
    "    The type and the value to be returned should be considered. If the function is going to return a value, we should decide what type of value it should return.\n",
    "\n",
    "By considering these questions and answering them, we can make sure that our functions make sense before writing them. It does us no good to define functions that don’t have a well-defined purpose in our program."
   ]
  },
  {
   "cell_type": "markdown",
   "metadata": {},
   "source": [
    "# Writing functions:\n",
    "\n",
    "Python functions are defined using the instruction `def`, followed by the function name, the function input *arguments* listed in parenthesis, and finally a colon. The body of the function is given according to the indentation level. For example:"
   ]
  },
  {
   "cell_type": "code",
   "execution_count": 1,
   "metadata": {},
   "outputs": [],
   "source": [
    "def calc_and_print_circle_area( radius):\n",
    "    area = 3.141592653*radius*radius\n",
    "    print(f\"The area of the circle is {area}\")\n",
    "    "
   ]
  },
  {
   "cell_type": "markdown",
   "metadata": {},
   "source": [
    "In this case, the function name is `calc_and_print_circle_area` and it has a single argument: radius."
   ]
  },
  {
   "cell_type": "markdown",
   "metadata": {},
   "source": [
    "# Calling a function:\n",
    "\n",
    "Once a function is defined, we can then call it to execute the code in it. For it, just pass the name of the function and the respective arguments. For example:"
   ]
  },
  {
   "cell_type": "code",
   "execution_count": 2,
   "metadata": {},
   "outputs": [
    {
     "name": "stdout",
     "output_type": "stream",
     "text": [
      "The area of the circle is 0.78539816325\n"
     ]
    }
   ],
   "source": [
    "calc_and_print_circle_area(0.5)"
   ]
  },
  {
   "cell_type": "markdown",
   "metadata": {},
   "source": [
    "## Some important considerations about arguments:\n",
    "\n",
    "* **Function arguments can be mandatory or optional.**\n",
    "* **Functions can have multiple arguments, or even zero arguments.**\n"
   ]
  },
  {
   "cell_type": "markdown",
   "metadata": {},
   "source": [
    "How can we specify optional arguments? In this case, we pass a predefined value to the argument. For example:"
   ]
  },
  {
   "cell_type": "code",
   "execution_count": 3,
   "metadata": {},
   "outputs": [],
   "source": [
    "def calc_and_print_square_area( side=2.5):\n",
    "    area = side*side\n",
    "    print(f\"The area of the square is {area}\")"
   ]
  },
  {
   "cell_type": "code",
   "execution_count": 63,
   "metadata": {},
   "outputs": [],
   "source": [
    "def calc_and_print_square_area( thickness, side, color='blue'):\n",
    "    area = side*side\n",
    "    print(f\"The area of the {color} square is {area}\")"
   ]
  },
  {
   "cell_type": "code",
   "execution_count": 18,
   "metadata": {},
   "outputs": [
    {
     "name": "stdout",
     "output_type": "stream",
     "text": [
      "The area of the red square is 4\n"
     ]
    }
   ],
   "source": [
    "# Now we execute it:\n",
    "calc_and_print_square_area( side=2, color='red', thickness=3)"
   ]
  },
  {
   "cell_type": "code",
   "execution_count": 5,
   "metadata": {},
   "outputs": [
    {
     "name": "stdout",
     "output_type": "stream",
     "text": [
      "The area of the square is 4\n"
     ]
    }
   ],
   "source": [
    "calc_and_print_square_area(2)"
   ]
  },
  {
   "cell_type": "markdown",
   "metadata": {},
   "source": [
    "It is not a problem to define a function that takes no argument. For example:"
   ]
  },
  {
   "cell_type": "code",
   "execution_count": 19,
   "metadata": {},
   "outputs": [],
   "source": [
    "def say_hello():\n",
    "    print(\"Hello!\")"
   ]
  },
  {
   "cell_type": "code",
   "execution_count": 22,
   "metadata": {},
   "outputs": [
    {
     "name": "stdout",
     "output_type": "stream",
     "text": [
      "Hello!\n"
     ]
    }
   ],
   "source": [
    "say_hello()"
   ]
  },
  {
   "cell_type": "code",
   "execution_count": 64,
   "metadata": {},
   "outputs": [],
   "source": [
    "elem = [3,54,'black']"
   ]
  },
  {
   "cell_type": "code",
   "execution_count": 68,
   "metadata": {},
   "outputs": [
    {
     "name": "stdout",
     "output_type": "stream",
     "text": [
      "The area of the black square is 2916\n"
     ]
    }
   ],
   "source": [
    "calc_and_print_square_area( *elem)"
   ]
  },
  {
   "cell_type": "markdown",
   "metadata": {},
   "source": [
    "# Writing the function documentation\n",
    "\n",
    "Probably, you have noticed that we usually resort to the documentation of functions or methods. It is possible to include this information in your own functions, so that other users (or your future self) can quickly see what a function does and how to use it. Python will interpret the first string within the function body as the help. For example:"
   ]
  },
  {
   "cell_type": "code",
   "execution_count": 30,
   "metadata": {},
   "outputs": [],
   "source": [
    "def a_test():\n",
    "    \"Here you write the documentation for users (and yourself!).\"\n",
    "    pass"
   ]
  },
  {
   "cell_type": "markdown",
   "metadata": {},
   "source": [
    "Try the documentation by typing (in a code cell):\n"
   ]
  },
  {
   "cell_type": "raw",
   "metadata": {},
   "source": [
    "a_test?"
   ]
  },
  {
   "cell_type": "code",
   "execution_count": 27,
   "metadata": {},
   "outputs": [],
   "source": [
    "a_test?"
   ]
  },
  {
   "cell_type": "markdown",
   "metadata": {},
   "source": [
    "However, one usually needs to write multiple lines. Then, you just use triple quotes `'''` to enclose the whole string. Below you see an example briefly describing numpy and astropy styles:"
   ]
  },
  {
   "cell_type": "raw",
   "metadata": {},
   "source": [
    "What the function does.\n",
    "\n",
    "Parameters\n",
    "----------\n",
    "argument1 : object_type\n",
    "    Describe argument 1. Also list default value if any.\n",
    "argumentn : object type\n",
    "    Describe argument n\n",
    "\n",
    "Returns\n",
    "-------\n",
    "output1 : object_type\n",
    "    Explain output 1 (if any)\n",
    "outputn :  object_type\n",
    "    Explain output n (if any)\n",
    "\n",
    "Notes\n",
    "-----\n",
    "Any relevant notes\n",
    "\n",
    "Examples\n",
    "--------\n",
    "Include some example that the user can replicate.\n",
    "\n",
    "See also\n",
    "--------\n",
    "Include other functions that may be relevant for the user."
   ]
  },
  {
   "cell_type": "markdown",
   "metadata": {},
   "source": [
    "How do we implement this?"
   ]
  },
  {
   "cell_type": "code",
   "execution_count": 32,
   "metadata": {},
   "outputs": [],
   "source": [
    "def even_or_odd(number=1):\n",
    "    '''\n",
    "    Evaluate if a number is even or odd and prints the result on the screen.\n",
    "    \n",
    "    Parameters\n",
    "    ----------\n",
    "    number : int or float, optional, default: 1\n",
    "        If a float is passed, it will be coverted to integer.\n",
    "        \n",
    "    '''\n",
    "    number = int(number)\n",
    "    if number % 2 == 0:\n",
    "        print (f\"{number} is even\")\n",
    "    else:\n",
    "        print (f\"{number} is odd\")"
   ]
  },
  {
   "cell_type": "markdown",
   "metadata": {},
   "source": [
    "Test the function help to see hoy it is displayed."
   ]
  },
  {
   "cell_type": "code",
   "execution_count": 34,
   "metadata": {},
   "outputs": [],
   "source": [
    "even_or_odd?"
   ]
  },
  {
   "cell_type": "code",
   "execution_count": 45,
   "metadata": {},
   "outputs": [],
   "source": [
    "import numpy as np\n",
    "def stat(list_of_values):\n",
    "    vals = np.array( list_of_values)\n",
    "    mean = np.mean(vals)\n",
    "    median = np.median( vals)\n",
    "    stdev = np.std( vals)\n",
    "    N = len(vals)\n",
    "    return mean, median,stdev, N, vals"
   ]
  },
  {
   "cell_type": "code",
   "execution_count": 48,
   "metadata": {},
   "outputs": [],
   "source": [
    "vals = [1,5,2,45,23]\n",
    "mean, median,stdev, N, vals = stat( vals)"
   ]
  },
  {
   "cell_type": "markdown",
   "metadata": {},
   "source": [
    "### Non-keyword and keyword arguments\n",
    "\n",
    "It is possible to pass a variable number of parameters in form of a a list of non-keyword arguments, or as a dictionary of keyword arguments. For example:"
   ]
  },
  {
   "cell_type": "code",
   "execution_count": 70,
   "metadata": {},
   "outputs": [],
   "source": [
    "def test_function( *args, **kwargs):\n",
    "    string = args[0]\n",
    "    product = 1\n",
    "    for i in args[1:]:\n",
    "        product *= i\n",
    "        \n",
    "    if \"sqrt\" in kwargs:\n",
    "        if kwargs['sqrt']:\n",
    "            product **= 0.5\n",
    "            \n",
    "    return product"
   ]
  },
  {
   "cell_type": "code",
   "execution_count": null,
   "metadata": {},
   "outputs": [],
   "source": []
  },
  {
   "cell_type": "code",
   "execution_count": 71,
   "metadata": {},
   "outputs": [
    {
     "data": {
      "text/plain": [
       "28800"
      ]
     },
     "execution_count": 71,
     "metadata": {},
     "output_type": "execute_result"
    }
   ],
   "source": [
    "test_function('valores',3,4,5,2,12,4,5)"
   ]
  },
  {
   "cell_type": "code",
   "execution_count": 72,
   "metadata": {},
   "outputs": [
    {
     "data": {
      "text/plain": [
       "28.982753492378876"
      ]
     },
     "execution_count": 72,
     "metadata": {},
     "output_type": "execute_result"
    }
   ],
   "source": [
    "test_function( 3,4,*[5,6,7], **{\"sqrt\":True})"
   ]
  },
  {
   "cell_type": "code",
   "execution_count": null,
   "metadata": {},
   "outputs": [],
   "source": [
    "test_function( 3,4,*[5,6,7], **{\"sqrt\":False})"
   ]
  },
  {
   "cell_type": "markdown",
   "metadata": {},
   "source": [
    "However, these type of arguments are usually used in this way in a function:"
   ]
  },
  {
   "cell_type": "code",
   "execution_count": 73,
   "metadata": {},
   "outputs": [],
   "source": [
    "def power( a,b):\n",
    "    return a**b"
   ]
  },
  {
   "cell_type": "code",
   "execution_count": 74,
   "metadata": {},
   "outputs": [
    {
     "data": {
      "text/plain": [
       "81"
      ]
     },
     "execution_count": 74,
     "metadata": {},
     "output_type": "execute_result"
    }
   ],
   "source": [
    "values = [3,4]\n",
    "power(*values)"
   ]
  },
  {
   "cell_type": "code",
   "execution_count": 75,
   "metadata": {},
   "outputs": [
    {
     "data": {
      "text/plain": [
       "64"
      ]
     },
     "execution_count": 75,
     "metadata": {},
     "output_type": "execute_result"
    }
   ],
   "source": [
    "power(*values[::-1]) # Pasamos la lista invertida."
   ]
  },
  {
   "cell_type": "code",
   "execution_count": 76,
   "metadata": {},
   "outputs": [],
   "source": [
    "def fullnames(first, middle, last):\n",
    "    print( f\"The fullname is {first} {middle} {last}\")"
   ]
  },
  {
   "cell_type": "code",
   "execution_count": 88,
   "metadata": {},
   "outputs": [
    {
     "name": "stdout",
     "output_type": "stream",
     "text": [
      "The fullname is Henrietta Swan Leavitt\n"
     ]
    }
   ],
   "source": [
    "entries = {\"last\":\"Leavitt\", \"first\":\"Henrietta\", \"middle\":\"Swan\"}\n",
    "fullnames(**entries)"
   ]
  },
  {
   "cell_type": "code",
   "execution_count": 91,
   "metadata": {},
   "outputs": [],
   "source": [
    "a,b = 2,4\n",
    "def perim(a,b):\n",
    "    pass"
   ]
  },
  {
   "cell_type": "code",
   "execution_count": null,
   "metadata": {},
   "outputs": [],
   "source": []
  },
  {
   "cell_type": "markdown",
   "metadata": {},
   "source": [
    "# Python modules"
   ]
  },
  {
   "cell_type": "markdown",
   "metadata": {},
   "source": [
    "Now imagine that you want to use the same function on many scripts (Python programs), or that you want to keep the functions that you wrote separated by topics. For example, numerical constants, coordinate transformations, models, etc. Python solves this by using **modules**!\n",
    "\n",
    "\"A module is a file containing Python definitions and statements. The file name is the module name with the suffix .py appended.\" (Python documentation)\n",
    "\n"
   ]
  },
  {
   "cell_type": "markdown",
   "metadata": {},
   "source": [
    "As you can see, **writing a module** is quite simple! Just create a Python program (with its .py extension) and put functions inside. For example, create a program called \"tools.py\" and write a function inside called \"power\" that calculates and returns the value of a to the power of b. Later, apply what we will review below."
   ]
  },
  {
   "cell_type": "markdown",
   "metadata": {},
   "source": [
    "### Importing modules\n",
    "\n",
    "To import a module, use the `import` statement. For example:"
   ]
  },
  {
   "cell_type": "code",
   "execution_count": 2,
   "metadata": {},
   "outputs": [],
   "source": [
    "import tools\n"
   ]
  },
  {
   "cell_type": "code",
   "execution_count": null,
   "metadata": {},
   "outputs": [],
   "source": []
  },
  {
   "cell_type": "code",
   "execution_count": null,
   "metadata": {},
   "outputs": [],
   "source": []
  },
  {
   "cell_type": "code",
   "execution_count": null,
   "metadata": {},
   "outputs": [],
   "source": []
  },
  {
   "cell_type": "code",
   "execution_count": 3,
   "metadata": {},
   "outputs": [],
   "source": [
    "import math"
   ]
  },
  {
   "cell_type": "markdown",
   "metadata": {},
   "source": [
    "You can list the content of a module with the `dir` function. For example:"
   ]
  },
  {
   "cell_type": "code",
   "execution_count": 4,
   "metadata": {},
   "outputs": [
    {
     "data": {
      "text/plain": [
       "['__doc__',\n",
       " '__file__',\n",
       " '__loader__',\n",
       " '__name__',\n",
       " '__package__',\n",
       " '__spec__',\n",
       " 'acos',\n",
       " 'acosh',\n",
       " 'asin',\n",
       " 'asinh',\n",
       " 'atan',\n",
       " 'atan2',\n",
       " 'atanh',\n",
       " 'ceil',\n",
       " 'copysign',\n",
       " 'cos',\n",
       " 'cosh',\n",
       " 'degrees',\n",
       " 'e',\n",
       " 'erf',\n",
       " 'erfc',\n",
       " 'exp',\n",
       " 'expm1',\n",
       " 'fabs',\n",
       " 'factorial',\n",
       " 'floor',\n",
       " 'fmod',\n",
       " 'frexp',\n",
       " 'fsum',\n",
       " 'gamma',\n",
       " 'gcd',\n",
       " 'hypot',\n",
       " 'inf',\n",
       " 'isclose',\n",
       " 'isfinite',\n",
       " 'isinf',\n",
       " 'isnan',\n",
       " 'ldexp',\n",
       " 'lgamma',\n",
       " 'log',\n",
       " 'log10',\n",
       " 'log1p',\n",
       " 'log2',\n",
       " 'modf',\n",
       " 'nan',\n",
       " 'pi',\n",
       " 'pow',\n",
       " 'radians',\n",
       " 'remainder',\n",
       " 'sin',\n",
       " 'sinh',\n",
       " 'sqrt',\n",
       " 'tan',\n",
       " 'tanh',\n",
       " 'tau',\n",
       " 'trunc']"
      ]
     },
     "execution_count": 4,
     "metadata": {},
     "output_type": "execute_result"
    }
   ],
   "source": [
    "dir(math)"
   ]
  },
  {
   "cell_type": "markdown",
   "metadata": {},
   "source": [
    "Then to execute a function just do:"
   ]
  },
  {
   "cell_type": "code",
   "execution_count": 5,
   "metadata": {},
   "outputs": [
    {
     "data": {
      "text/plain": [
       "0.3334870921408144"
      ]
     },
     "execution_count": 5,
     "metadata": {},
     "output_type": "execute_result"
    }
   ],
   "source": [
    "math.sin(0.34)"
   ]
  },
  {
   "cell_type": "code",
   "execution_count": 7,
   "metadata": {},
   "outputs": [
    {
     "data": {
      "text/plain": [
       "True"
      ]
     },
     "execution_count": 7,
     "metadata": {},
     "output_type": "execute_result"
    }
   ],
   "source": [
    "tools.even(12)"
   ]
  },
  {
   "cell_type": "markdown",
   "metadata": {},
   "source": [
    "Or access a \"constant\" (no need to use parenthesis because it is not a function but a value):"
   ]
  },
  {
   "cell_type": "code",
   "execution_count": 8,
   "metadata": {},
   "outputs": [
    {
     "data": {
      "text/plain": [
       "3.141592653589793"
      ]
     },
     "execution_count": 8,
     "metadata": {},
     "output_type": "execute_result"
    }
   ],
   "source": [
    "math.pi"
   ]
  },
  {
   "cell_type": "markdown",
   "metadata": {},
   "source": [
    "More on importing modules and functions:"
   ]
  },
  {
   "cell_type": "markdown",
   "metadata": {},
   "source": [
    "You also can import a specific function or value. This is accomplish with the `from nnnn import xxxx` construnction. For example:"
   ]
  },
  {
   "cell_type": "code",
   "execution_count": 9,
   "metadata": {},
   "outputs": [],
   "source": [
    "from math import *"
   ]
  },
  {
   "cell_type": "code",
   "execution_count": 10,
   "metadata": {},
   "outputs": [
    {
     "name": "stdout",
     "output_type": "stream",
     "text": [
      "1.2246467991473532e-16\n"
     ]
    }
   ],
   "source": [
    "print(sin(pi))"
   ]
  },
  {
   "cell_type": "markdown",
   "metadata": {},
   "source": [
    "You can also assign *aliases* to imported functions/values. For that, use the `as` instruction combined with the previous instruction. For example:\n"
   ]
  },
  {
   "cell_type": "code",
   "execution_count": 12,
   "metadata": {},
   "outputs": [],
   "source": [
    "from math import radians as rad"
   ]
  },
  {
   "cell_type": "code",
   "execution_count": 13,
   "metadata": {},
   "outputs": [
    {
     "data": {
      "text/plain": [
       "0.7853981633974483"
      ]
     },
     "execution_count": 13,
     "metadata": {},
     "output_type": "execute_result"
    }
   ],
   "source": [
    "rad(45.)"
   ]
  },
  {
   "cell_type": "code",
   "execution_count": 15,
   "metadata": {},
   "outputs": [
    {
     "data": {
      "text/plain": [
       "0.02159097572609596"
      ]
     },
     "execution_count": 15,
     "metadata": {},
     "output_type": "execute_result"
    }
   ],
   "source": [
    "import math as m\n",
    "m.sin(3.12)"
   ]
  },
  {
   "cell_type": "markdown",
   "metadata": {},
   "source": [
    "### Lambda expressions\n",
    "\n",
    "It is possible to implement annonymous functions using the `lambda` keyword. According to the Python documentation:\n",
    "\n",
    "\"Small anonymous functions can be created with the lambda keyword. This function returns the sum of its two arguments: lambda a, b: a+b. Lambda functions can be used wherever function objects are required. They are syntactically restricted to a single expression. Semantically, they are just syntactic sugar for a normal function definition.\"\n",
    "\n"
   ]
  },
  {
   "cell_type": "code",
   "execution_count": 24,
   "metadata": {},
   "outputs": [],
   "source": [
    "def make_powerer(n):\n",
    "    return lambda x: x ** n\n",
    "\n",
    "f = make_powerer(5)\n",
    "#print(f(1))\n",
    "#print(f(5))"
   ]
  },
  {
   "cell_type": "code",
   "execution_count": 27,
   "metadata": {},
   "outputs": [
    {
     "name": "stdout",
     "output_type": "stream",
     "text": [
      "32\n",
      "3125\n"
     ]
    }
   ],
   "source": [
    "print(f(2))\n",
    "print(f(5))"
   ]
  },
  {
   "cell_type": "markdown",
   "metadata": {},
   "source": [
    "lambda expressions become handy for implementing one-line functions. For example:"
   ]
  },
  {
   "cell_type": "code",
   "execution_count": 18,
   "metadata": {},
   "outputs": [
    {
     "data": {
      "text/plain": [
       "25"
      ]
     },
     "execution_count": 18,
     "metadata": {},
     "output_type": "execute_result"
    }
   ],
   "source": [
    "g = lambda x: x**2\n",
    "g(5)"
   ]
  },
  {
   "cell_type": "code",
   "execution_count": 17,
   "metadata": {},
   "outputs": [
    {
     "data": {
      "text/plain": [
       "25"
      ]
     },
     "execution_count": 17,
     "metadata": {},
     "output_type": "execute_result"
    }
   ],
   "source": [
    "# It is equivalent to:\n",
    "def G(x):\n",
    "    return x**2\n",
    "G(5)"
   ]
  },
  {
   "cell_type": "code",
   "execution_count": 19,
   "metadata": {},
   "outputs": [
    {
     "data": {
      "text/plain": [
       "6"
      ]
     },
     "execution_count": 19,
     "metadata": {},
     "output_type": "execute_result"
    }
   ],
   "source": [
    "# Another example:\n",
    "h = lambda x,y,z: sum([x,y,z])\n",
    "h(1,2,3)"
   ]
  },
  {
   "cell_type": "markdown",
   "metadata": {},
   "source": [
    "As you probably realized from the example above, you can implement functions within a function!"
   ]
  },
  {
   "cell_type": "code",
   "execution_count": 30,
   "metadata": {},
   "outputs": [],
   "source": [
    "def areas(length):\n",
    "    PI = math.pi\n",
    "    def circle(diameter=length):\n",
    "        return PI*(diameter/2)**2\n",
    "    \n",
    "    def square(length=length):\n",
    "        return length**2\n",
    "    \n",
    "    return (circle(), square())\n",
    "\n"
   ]
  },
  {
   "cell_type": "code",
   "execution_count": 34,
   "metadata": {},
   "outputs": [
    {
     "data": {
      "text/plain": [
       "<function __main__.make_powerer.<locals>.<lambda>(x)>"
      ]
     },
     "execution_count": 34,
     "metadata": {},
     "output_type": "execute_result"
    }
   ],
   "source": [
    "f"
   ]
  },
  {
   "cell_type": "code",
   "execution_count": null,
   "metadata": {},
   "outputs": [],
   "source": []
  },
  {
   "cell_type": "markdown",
   "metadata": {},
   "source": [
    "\n",
    "## The `__name__` (reserved) variable:\n",
    "\n",
    "The `__name__` variable is a reserved variable that will take the value `\"__main__\"` when you execute a program, but it is assigned the module name if you import it. This is very important to keep namespaces separated and allows you to import modules without executing the main program.\n",
    "\n",
    "We will review an example now:"
   ]
  },
  {
   "cell_type": "markdown",
   "metadata": {},
   "source": [
    "First, we write a script called \"example_no_main.py\" in the current working directory."
   ]
  },
  {
   "cell_type": "raw",
   "metadata": {},
   "source": [
    "#!/usr/bin/env python\n",
    "'''\n",
    "This is a test module without a __main__ statement.\n",
    "'''\n",
    "\n",
    "def odd(x):\n",
    "    '''\n",
    "    Evaluate if a number is odd.\n",
    "    '''\n",
    "    \n",
    "    return int(x) % 2 == 1\n",
    "\n",
    "def even(x):\n",
    "    '''\n",
    "    Evaluate if a number is odd.\n",
    "    '''\n",
    "    \n",
    "    return int(x) % 2 == 0\n",
    "\n",
    "\n",
    "# Here is where we execute the main code, although there is no __main__ statement.\n",
    "a = 4\n",
    "print(f\"Is {a} an even number? {even(a)}\")\n"
   ]
  },
  {
   "cell_type": "markdown",
   "metadata": {},
   "source": [
    "And we write another script called \"example_main.py\", also in the same working directory."
   ]
  },
  {
   "cell_type": "raw",
   "metadata": {},
   "source": [
    "#!/usr/bin/env python\n",
    "\n",
    "'''\n",
    "This is a test module with a __main__ statement.\n",
    "'''\n",
    "\n",
    "def odd(x):\n",
    "    '''\n",
    "    Evaluate if a number is odd.\n",
    "    '''\n",
    "    \n",
    "    return int(x) % 2 == 1\n",
    "\n",
    "def even(x):\n",
    "    '''\n",
    "    Evaluate if a number is odd.\n",
    "    '''\n",
    "    \n",
    "    return int(x) % 2 == 0\n",
    "\n",
    "\n",
    "if __name__ == \"__main__\":\n",
    "    # Here is where we execute the main code\n",
    "    a = 4\n",
    "    print(f\"Is {a} an even number? {even(a)}\")\n"
   ]
  },
  {
   "cell_type": "code",
   "execution_count": 35,
   "metadata": {},
   "outputs": [
    {
     "data": {
      "text/plain": [
       "'__main__'"
      ]
     },
     "execution_count": 35,
     "metadata": {},
     "output_type": "execute_result"
    }
   ],
   "source": [
    "__name__"
   ]
  },
  {
   "cell_type": "markdown",
   "metadata": {},
   "source": [
    "Now, let's import both modules. What do we see?"
   ]
  },
  {
   "cell_type": "code",
   "execution_count": 36,
   "metadata": {},
   "outputs": [
    {
     "name": "stdout",
     "output_type": "stream",
     "text": [
      "Is 4 an even number? True\n"
     ]
    }
   ],
   "source": [
    "import example_no_main"
   ]
  },
  {
   "cell_type": "code",
   "execution_count": 37,
   "metadata": {},
   "outputs": [
    {
     "name": "stdout",
     "output_type": "stream",
     "text": [
      "example_no_main\n"
     ]
    }
   ],
   "source": [
    "print(example_no_main.__name__)"
   ]
  },
  {
   "cell_type": "markdown",
   "metadata": {},
   "source": [
    "And let's import the other module:"
   ]
  },
  {
   "cell_type": "code",
   "execution_count": 38,
   "metadata": {},
   "outputs": [],
   "source": [
    "import example_main"
   ]
  },
  {
   "cell_type": "code",
   "execution_count": 39,
   "metadata": {},
   "outputs": [
    {
     "name": "stdout",
     "output_type": "stream",
     "text": [
      "example_main\n"
     ]
    }
   ],
   "source": [
    "print( example_main.__name__)"
   ]
  },
  {
   "cell_type": "markdown",
   "metadata": {},
   "source": [
    "We can check that both scripts have the same functions available, but you can see that some code was executed on import!\n",
    "\n",
    "What should you take from this?\n",
    "\n",
    "Always include the following line in your code to separate functions from the code:"
   ]
  },
  {
   "cell_type": "code",
   "execution_count": 40,
   "metadata": {},
   "outputs": [
    {
     "name": "stdout",
     "output_type": "stream",
     "text": [
      "Here we execute the main program\n"
     ]
    }
   ],
   "source": [
    "if __name__ == \"__main__\":\n",
    "    print(\"Here we execute the main program\")"
   ]
  },
  {
   "cell_type": "markdown",
   "metadata": {},
   "source": [
    "#### Some other considerations:\n",
    "\n",
    "When you import a module, Python will read the imported code just once. This means that if you modify the module code, your imported module won't be updated by Python (in interactive mode).\n",
    "\n",
    "What can you do then? Use the `importlib.reload` function to, literally, reload the module.\n",
    "\n",
    "For example, let's try to import (again) the \"example_no_main\" module.\n"
   ]
  },
  {
   "cell_type": "code",
   "execution_count": 41,
   "metadata": {},
   "outputs": [],
   "source": [
    "import example_no_main"
   ]
  },
  {
   "cell_type": "markdown",
   "metadata": {},
   "source": [
    "Could you see nothing happened? The \"Is 4 an even number? True\" line should have been printed.\n",
    "Let's reload the module then."
   ]
  },
  {
   "cell_type": "code",
   "execution_count": 42,
   "metadata": {},
   "outputs": [],
   "source": [
    "import importlib"
   ]
  },
  {
   "cell_type": "code",
   "execution_count": 44,
   "metadata": {},
   "outputs": [
    {
     "name": "stdout",
     "output_type": "stream",
     "text": [
      "Is 4 an even number? True\n"
     ]
    },
    {
     "data": {
      "text/plain": [
       "<module 'example_no_main' from '/home/gdamke/astro/teaching/2020B_PythonAstro/IntroPythonAstroPhD/07_Functions_and_Modules/example_no_main.py'>"
      ]
     },
     "execution_count": 44,
     "metadata": {},
     "output_type": "execute_result"
    }
   ],
   "source": [
    "importlib.reload(example_no_main)"
   ]
  },
  {
   "cell_type": "code",
   "execution_count": 47,
   "metadata": {},
   "outputs": [
    {
     "name": "stdout",
     "output_type": "stream",
     "text": [
      "example_main\n"
     ]
    },
    {
     "data": {
      "text/plain": [
       "<module 'example_main' from '/home/gdamke/astro/teaching/2020B_PythonAstro/IntroPythonAstroPhD/07_Functions_and_Modules/example_main.py'>"
      ]
     },
     "execution_count": 47,
     "metadata": {},
     "output_type": "execute_result"
    }
   ],
   "source": [
    "importlib.reload(example_main)"
   ]
  },
  {
   "cell_type": "code",
   "execution_count": null,
   "metadata": {},
   "outputs": [],
   "source": [
    "example_main."
   ]
  },
  {
   "cell_type": "markdown",
   "metadata": {},
   "source": [
    "In addition, check what variables and functions are available in each module. Pay attention to the function called `_another_function`. Starting variables with an underscore is a way to have \"hidden\" variables and functions."
   ]
  },
  {
   "cell_type": "markdown",
   "metadata": {},
   "source": [
    "# Namespaces and variable scopes\n",
    "\n",
    "Review the following page for a simple explanation:\n",
    "\n",
    "https://sebastianraschka.com/Articles/2014_python_scope_and_namespaces.html"
   ]
  },
  {
   "cell_type": "code",
   "execution_count": null,
   "metadata": {},
   "outputs": [],
   "source": []
  }
 ],
 "metadata": {
  "kernelspec": {
   "display_name": "Python 3",
   "language": "python",
   "name": "python3"
  },
  "language_info": {
   "codemirror_mode": {
    "name": "ipython",
    "version": 3
   },
   "file_extension": ".py",
   "mimetype": "text/x-python",
   "name": "python",
   "nbconvert_exporter": "python",
   "pygments_lexer": "ipython3",
   "version": "3.9.1"
  }
 },
 "nbformat": 4,
 "nbformat_minor": 4
}
