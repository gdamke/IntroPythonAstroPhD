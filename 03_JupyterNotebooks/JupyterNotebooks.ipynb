{
 "cells": [
  {
   "cell_type": "markdown",
   "metadata": {},
   "source": [
    "# Jupyter Notebooks"
   ]
  },
  {
   "cell_type": "markdown",
   "metadata": {},
   "source": [
    "In the previous section, we learned about the IPython console. Now, we will learn about Jupyter Notebooks. What are they?\n",
    "\n",
    "According to their website (https://jupyter.org/):\n",
    "\n",
    "\"The Jupyter Notebook is an open-source **web application** that allows you to create and share documents that contain *live code, equations, visualizations and narrative text*. Uses include: data cleaning and transformation, numerical simulation, statistical modeling, data visualization, machine learning, and much more.\"\n",
    "\n",
    "\n",
    "(By the way, what you see right now is a Jupyter Notebook).\n",
    "\n",
    "\n",
    "Jupyter Notebooks are becoming extremely popular for accesing online computing resources, for tutorials and for sharing analysis, mainly from the possibility of including formatted text besides the live/interactive code.\n",
    "\n"
   ]
  },
  {
   "cell_type": "markdown",
   "metadata": {},
   "source": [
    "#### Installation\n",
    "\n",
    "Jupyter may be already installed (for example, in your *base* Anaconda environment). If not, switch to your Anaconda environment and type:\n",
    "\n",
    "`conda install jupyter`\n",
    "\n",
    "#### Kernels\n",
    "\n",
    "A *kernel* is a program that allows you to execute code in a specific programming language. By default, Jupyter includes the *IPython kernel* (as mentioned in Notebook 02). However, there is a large number of kernels that will let you run other languages. For example, Julia, Ruby, Python, etc.\n",
    "\n",
    "Visit https://github.com/jupyter/jupyter/wiki/Jupyter-kernels for a complete list.\n",
    "\n",
    "#### Launching Jupyter\n",
    "\n",
    "After activating the respective conda environment (unless you're using your OS' Python installation), type:\n",
    "\n",
    "`jupyter notebook`\n",
    "\n",
    "As you may expect, you can learn more by reading the output of the `jupyter --help` command in the terminal.  \n",
    "Also, check `jupyter notebook --help` (However, there is a useful *magic* cell command to do it within this notebook. We will see that further below)."
   ]
  },
  {
   "cell_type": "markdown",
   "metadata": {},
   "source": [
    "## The Jupyter server interface"
   ]
  },
  {
   "cell_type": "markdown",
   "metadata": {},
   "source": [
    "Running the `jupyter notebook` command will start a **local server** and open it in your web browser.\n",
    "\n",
    "The server page looks like this:\n",
    "\n",
    "![Image](Images/jupyter_server.png \"Jupyter server\")\n",
    "\n",
    "\n",
    "<br> </br>\n",
    "On the left, you will see a list of the content of the current directory. Click on a directory to navigate to it.  \n",
    "Notebooks has a **.ipynb** extension. If you have any, just click on it to open it.\n",
    "\n",
    "If you select a file by checking the box on the left of the filename, you will see that a list of actions appear on top.\n",
    "\n",
    "![Image](Images/server_file_actions.png \"Notebook actions\")\n",
    "\n",
    "#### Creating a new Notebook\n",
    "\n",
    "Go to the ***New*** drop-down menu on the to:\n",
    "\n",
    "![Image](Images/new_dropdown.png \"New drop-down\")\n",
    "\n",
    "There are two subsets:\n",
    "\n",
    "* Notebook: the options will depend on the *kernels that you have installed*.\n",
    "* Other: these options are useful when you are working on a remote machine. For instance, you can create text files (useful to type a .py file), create directories, or open a terminal.\n",
    "\n",
    "\n"
   ]
  },
  {
   "cell_type": "markdown",
   "metadata": {},
   "source": [
    "## The Notebook structure\n",
    "\n",
    "When you create a new notebook, it will look like the picture:\n",
    "\n",
    "![Image](Images/new_notebook.png \"Aspect of a new notebook\")\n",
    "\n",
    "From top to bottom, the notebook has:\n",
    "\n",
    "* A title (Untitled): name your notebook here. This will be the filename. No need to add the *ipynb*.\n",
    "* A Notebook menubar: several options to manipulate the (notebook) file, save, download, print, etc. Also, options to edit *cells*. Explore all of them on your own!\n",
    "* Notebook toolbar with the commonly used options shown as buttons.\n",
    "* An empty *code cell*.\n",
    "\n",
    "#### Notebook cells\n",
    "\n",
    "Notebooks contain *cells*. This is where you write code, text, insert images, display plots, and many other interesting things. However, a cell can be only one of these three types:\n",
    "\n",
    "* Code [y]\n",
    "* Markdown [m]\n",
    "* Raw NBConvert [r]\n",
    "\n",
    "You can select the cell type using the drop-down menu. However, you can choose it by just typing the single character shown in the brackets above for the respective type. Try it!\n",
    "\n",
    "#### Notebook modes\n",
    "\n",
    "Notebooks have two modes *Command mode* and *Edit mode*.\n",
    "\n",
    "Command mode:\n",
    "\n",
    "* You can do several actions. Some of them can be done with icons (on the menubar) For example, navigate with arrow up and arrow down (or `k` and `j`). The border of the current selected cell is highlighted.\n",
    "\n",
    "Edit mode:\n",
    "\n",
    "* To enter text into a cell, you need to switch into *edit mode* by hitting enter or clicking on it.\n",
    "* To execute its content, hit `ctrl+enter` (to stay on the same cell) or `shift+enter` to go to the next cell.\n",
    "* Go back to *command mode* by hiting `Esc`.\n",
    "\n",
    "The behavior of the cell depends on its type. Let's check the three types below. The following three cells are a code cell, a markdown cell and a raw cell."
   ]
  },
  {
   "cell_type": "code",
   "execution_count": 1,
   "metadata": {},
   "outputs": [
    {
     "name": "stdout",
     "output_type": "stream",
     "text": [
      "My new shiny notebook\n"
     ]
    }
   ],
   "source": [
    "# This is a code cell\n",
    "a = \"My new shiny notebook\"\n",
    "print(a)"
   ]
  },
  {
   "cell_type": "markdown",
   "metadata": {},
   "source": [
    "* Markdown cells contain text or other content, which is entered using *Markdown language*. By the way, the content of this cell is written in markdown."
   ]
  },
  {
   "cell_type": "raw",
   "metadata": {},
   "source": [
    "* This cell contains raw content.\n",
    "# This is a code cell\n",
    "a = \"My new shiny notebook\"\n",
    "print(a)"
   ]
  },
  {
   "cell_type": "markdown",
   "metadata": {},
   "source": [
    "## Markdown (a quick intro to...)"
   ]
  },
  {
   "cell_type": "markdown",
   "metadata": {},
   "source": [
    "Recommended lecture: https://www.markdownguide.org/basic-syntax\n",
    "\n",
    "*Markdown is a lightweight markup language with plain-text-formatting syntax, created in 2004 by John Gruber with Aaron Swartz. Markdown is often used for formatting readme files, for writing messages in online discussion forums, and to create rich text using a plain text editor.* (from Wikipedia)\n",
    "\n",
    "*Markdown applications use something called a Markdown processor (also commonly referred to as a “parser” or an “implementation”) to take the Markdown-formatted text and output it to HTML format. At that point, your document can be viewed in a web browser or combined with a style sheet and printed.* (from markdownguide.org)"
   ]
  },
  {
   "cell_type": "markdown",
   "metadata": {},
   "source": [
    "##### Some examples:\n",
    "\n",
    "Start a line with one to six numeral characters # for headings (leave a space after the character).\n",
    "\n",
    "# # Headings 1\n",
    "## ## Headings 2\n",
    "### #### Headings 3\n",
    "#### #### Headings 4\n",
    "##### ##### Headings 5\n",
    "###### ###### Headings 6\n",
    "\n",
    "---\n",
    "\n",
    "To type a line, just write freely! If you hit enter here, the next line won't be on a newline.\n",
    "This is typed as a second line.\n",
    "This is a third line. End the line with two spaces  \n",
    "and the next line will be in a new line.\n",
    "\n",
    "Leave a blank line in between and you will have a new a paragraph.\n",
    "\n",
    "Write text within single `*`'s and you will get *text in italics*.  \n",
    "Similarly, use double `**`s and you will get **text in bold font**.  \n",
    "***You can combine them to get text written.***  \n",
    "Also, you can display `code text` by typing text in between \\` characters.\n",
    "\n",
    "---\n",
    "\n",
    "You can create bullet lists by starting lines with an asterisk `*` or dash `-` characters. They look like this:\n",
    "\n",
    "* One item\n",
    "* A second item\n",
    "- and a thid line\n",
    "- and so on...\n",
    " * you can indent the line to get subitems\n",
    " * and another\n",
    "* and back to the previous level.\n",
    "  \n",
    "---\n",
    "\n",
    "Insert a horizontal line by typing `---`\n",
    "\n",
    "~~And you can write like this too~~ by surrounding text in between the `~~` characters.\n",
    "\n",
    "---\n",
    "\n",
    "You can write task lists by using:\n",
    "\n",
    "`- [x] a finished task`  \n",
    "`- [ ] a not finished task`\n",
    "\n",
    "- [x] Enjoyed my Python class.\n",
    "- [ ] Thesis finished.\n",
    "\n",
    "---\n",
    "\n",
    "You can write tables by writing cells within `|` characters.\n",
    "\n",
    "`| Name 1 | Name 2 |`  \n",
    "`|---------- | ----------- |`  \n",
    "`|Cell 1 | Cell 2 |`  \n",
    "`|Cell 3 | Cell 4 |`  \n",
    "\n",
    "\n",
    "| Column 1 | Column 2 |\n",
    "| ------ | ----------- |\n",
    "| I like | to write |\n",
    "| Nice   | tables | \n",
    "\n",
    "\n",
    "---\n",
    "\n",
    "Equations: Wrap the Math text within `$` and `$$` symbols and use $\\LaTeX$-like notation:\n",
    "\n",
    "For example: `$$\\Large C_n^k = \\frac{n!}{k!(n-k)!}$$` results in:\n",
    "\n",
    "$$\\Large C_n^k = \\frac{n!}{k!(n-k)!}$$\n",
    "\n",
    "---\n",
    "\n",
    "You can also insert images from files. For that, just do:\n",
    "\n",
    "`![Image](path/to/image.png \"A message for mouse hovering\")`\n",
    "\n",
    "![Image](Images/1-month-old_kittens_32.jpg \"We all love kittens! Don't we?\")\n",
    "\n",
    "(image credit: 0x010C on Wikipedia)\n",
    "\n"
   ]
  },
  {
   "cell_type": "markdown",
   "metadata": {},
   "source": [
    "## Cell Magics in Ipython\n",
    "\n",
    "(from https://nbviewer.jupyter.org/github/ipython/ipython/blob/6.x/examples/IPython%20Kernel/Cell%20Magics.ipynb)"
   ]
  },
  {
   "cell_type": "markdown",
   "metadata": {},
   "source": [
    "The IPython magic commands are also available here. In addition, there are some powerful *cell magics*. Let's list them by executing (obviously) a cell magic."
   ]
  },
  {
   "cell_type": "code",
   "execution_count": 2,
   "metadata": {},
   "outputs": [
    {
     "data": {
      "application/json": {
       "cell": {
        "!": "OSMagics",
        "HTML": "Other",
        "SVG": "Other",
        "bash": "Other",
        "capture": "ExecutionMagics",
        "debug": "ExecutionMagics",
        "file": "Other",
        "html": "DisplayMagics",
        "javascript": "DisplayMagics",
        "js": "DisplayMagics",
        "latex": "DisplayMagics",
        "markdown": "DisplayMagics",
        "perl": "Other",
        "prun": "ExecutionMagics",
        "pypy": "Other",
        "python": "Other",
        "python2": "Other",
        "python3": "Other",
        "ruby": "Other",
        "script": "ScriptMagics",
        "sh": "Other",
        "svg": "DisplayMagics",
        "sx": "OSMagics",
        "system": "OSMagics",
        "time": "ExecutionMagics",
        "timeit": "ExecutionMagics",
        "writefile": "OSMagics"
       },
       "line": {
        "alias": "OSMagics",
        "alias_magic": "BasicMagics",
        "autoawait": "AsyncMagics",
        "autocall": "AutoMagics",
        "automagic": "AutoMagics",
        "autosave": "KernelMagics",
        "bookmark": "OSMagics",
        "cat": "Other",
        "cd": "OSMagics",
        "clear": "KernelMagics",
        "colors": "BasicMagics",
        "conda": "PackagingMagics",
        "config": "ConfigMagics",
        "connect_info": "KernelMagics",
        "cp": "Other",
        "debug": "ExecutionMagics",
        "dhist": "OSMagics",
        "dirs": "OSMagics",
        "doctest_mode": "BasicMagics",
        "ed": "Other",
        "edit": "KernelMagics",
        "env": "OSMagics",
        "gui": "BasicMagics",
        "hist": "Other",
        "history": "HistoryMagics",
        "killbgscripts": "ScriptMagics",
        "ldir": "Other",
        "less": "KernelMagics",
        "lf": "Other",
        "lk": "Other",
        "ll": "Other",
        "load": "CodeMagics",
        "load_ext": "ExtensionMagics",
        "loadpy": "CodeMagics",
        "logoff": "LoggingMagics",
        "logon": "LoggingMagics",
        "logstart": "LoggingMagics",
        "logstate": "LoggingMagics",
        "logstop": "LoggingMagics",
        "ls": "Other",
        "lsmagic": "BasicMagics",
        "lx": "Other",
        "macro": "ExecutionMagics",
        "magic": "BasicMagics",
        "man": "KernelMagics",
        "matplotlib": "PylabMagics",
        "mkdir": "Other",
        "more": "KernelMagics",
        "mv": "Other",
        "notebook": "BasicMagics",
        "page": "BasicMagics",
        "pastebin": "CodeMagics",
        "pdb": "ExecutionMagics",
        "pdef": "NamespaceMagics",
        "pdoc": "NamespaceMagics",
        "pfile": "NamespaceMagics",
        "pinfo": "NamespaceMagics",
        "pinfo2": "NamespaceMagics",
        "pip": "PackagingMagics",
        "popd": "OSMagics",
        "pprint": "BasicMagics",
        "precision": "BasicMagics",
        "prun": "ExecutionMagics",
        "psearch": "NamespaceMagics",
        "psource": "NamespaceMagics",
        "pushd": "OSMagics",
        "pwd": "OSMagics",
        "pycat": "OSMagics",
        "pylab": "PylabMagics",
        "qtconsole": "KernelMagics",
        "quickref": "BasicMagics",
        "recall": "HistoryMagics",
        "rehashx": "OSMagics",
        "reload_ext": "ExtensionMagics",
        "rep": "Other",
        "rerun": "HistoryMagics",
        "reset": "NamespaceMagics",
        "reset_selective": "NamespaceMagics",
        "rm": "Other",
        "rmdir": "Other",
        "run": "ExecutionMagics",
        "save": "CodeMagics",
        "sc": "OSMagics",
        "set_env": "OSMagics",
        "store": "StoreMagics",
        "sx": "OSMagics",
        "system": "OSMagics",
        "tb": "ExecutionMagics",
        "time": "ExecutionMagics",
        "timeit": "ExecutionMagics",
        "unalias": "OSMagics",
        "unload_ext": "ExtensionMagics",
        "who": "NamespaceMagics",
        "who_ls": "NamespaceMagics",
        "whos": "NamespaceMagics",
        "xdel": "NamespaceMagics",
        "xmode": "BasicMagics"
       }
      },
      "text/plain": [
       "Available line magics:\n",
       "%alias  %alias_magic  %autoawait  %autocall  %automagic  %autosave  %bookmark  %cat  %cd  %clear  %colors  %conda  %config  %connect_info  %cp  %debug  %dhist  %dirs  %doctest_mode  %ed  %edit  %env  %gui  %hist  %history  %killbgscripts  %ldir  %less  %lf  %lk  %ll  %load  %load_ext  %loadpy  %logoff  %logon  %logstart  %logstate  %logstop  %ls  %lsmagic  %lx  %macro  %magic  %man  %matplotlib  %mkdir  %more  %mv  %notebook  %page  %pastebin  %pdb  %pdef  %pdoc  %pfile  %pinfo  %pinfo2  %pip  %popd  %pprint  %precision  %prun  %psearch  %psource  %pushd  %pwd  %pycat  %pylab  %qtconsole  %quickref  %recall  %rehashx  %reload_ext  %rep  %rerun  %reset  %reset_selective  %rm  %rmdir  %run  %save  %sc  %set_env  %store  %sx  %system  %tb  %time  %timeit  %unalias  %unload_ext  %who  %who_ls  %whos  %xdel  %xmode\n",
       "\n",
       "Available cell magics:\n",
       "%%!  %%HTML  %%SVG  %%bash  %%capture  %%debug  %%file  %%html  %%javascript  %%js  %%latex  %%markdown  %%perl  %%prun  %%pypy  %%python  %%python2  %%python3  %%ruby  %%script  %%sh  %%svg  %%sx  %%system  %%time  %%timeit  %%writefile\n",
       "\n",
       "Automagic is ON, % prefix IS NOT needed for line magics."
      ]
     },
     "execution_count": 2,
     "metadata": {},
     "output_type": "execute_result"
    }
   ],
   "source": [
    "%lsmagic"
   ]
  },
  {
   "cell_type": "markdown",
   "metadata": {},
   "source": [
    "Check the following webpage for more information: https://ipython.readthedocs.io/en/stable/interactive/magics.html"
   ]
  },
  {
   "cell_type": "markdown",
   "metadata": {},
   "source": [
    "An example: we can run some bash directly within a cell:"
   ]
  },
  {
   "cell_type": "code",
   "execution_count": 3,
   "metadata": {
    "scrolled": true
   },
   "outputs": [
    {
     "name": "stdout",
     "output_type": "stream",
     "text": [
      "usage: jupyter [-h] [--version] [--config-dir] [--data-dir] [--runtime-dir]\n",
      "               [--paths] [--json]\n",
      "               [subcommand]\n",
      "\n",
      "Jupyter: Interactive Computing\n",
      "\n",
      "positional arguments:\n",
      "  subcommand     the subcommand to launch\n",
      "\n",
      "optional arguments:\n",
      "  -h, --help     show this help message and exit\n",
      "  --version      show the jupyter command's version and exit\n",
      "  --config-dir   show Jupyter config dir\n",
      "  --data-dir     show Jupyter data dir\n",
      "  --runtime-dir  show Jupyter runtime dir\n",
      "  --paths        show all Jupyter paths. Add --json for machine-readable\n",
      "                 format.\n",
      "  --json         output paths as machine-readable json\n",
      "\n",
      "Available subcommands: bundlerextension console kernel kernelspec migrate\n",
      "nbconvert nbextension notebook qtconsole run serverextension troubleshoot\n",
      "trust\n"
     ]
    }
   ],
   "source": [
    "%%bash\n",
    "jupyter --help"
   ]
  },
  {
   "cell_type": "code",
   "execution_count": 4,
   "metadata": {
    "scrolled": false
   },
   "outputs": [
    {
     "name": "stdout",
     "output_type": "stream",
     "text": [
      "The Jupyter HTML Notebook.\n",
      "\n",
      "This launches a Tornado based HTML Notebook Server that serves up an\n",
      "HTML5/Javascript Notebook client.\n",
      "\n",
      "Subcommands\n",
      "-----------\n",
      "\n",
      "Subcommands are launched as `jupyter-notebook cmd [args]`. For information on\n",
      "using subcommand 'cmd', do: `jupyter-notebook cmd -h`.\n",
      "\n",
      "list\n",
      "    List currently running notebook servers.\n",
      "stop\n",
      "    Stop currently running notebook server for a given port\n",
      "password\n",
      "    Set a password for the notebook server.\n",
      "\n",
      "Options\n",
      "-------\n",
      "\n",
      "Arguments that take values are actually convenience aliases to full\n",
      "Configurables, whose aliases are listed on the help line. For more information\n",
      "on full configurables, see '--help-all'.\n",
      "\n",
      "--debug\n",
      "    set log level to logging.DEBUG (maximize logging output)\n",
      "--generate-config\n",
      "    generate default config file\n",
      "-y\n",
      "    Answer yes to any questions instead of prompting.\n",
      "--no-browser\n",
      "    Don't open the notebook in a browser after startup.\n",
      "--pylab\n",
      "    DISABLED: use %pylab or %matplotlib in the notebook to enable matplotlib.\n",
      "--no-mathjax\n",
      "    Disable MathJax\n",
      "    \n",
      "    MathJax is the javascript library Jupyter uses to render math/LaTeX. It is\n",
      "    very large, so you may want to disable it if you have a slow internet\n",
      "    connection, or for offline use of the notebook.\n",
      "    \n",
      "    When disabled, equations etc. will appear as their untransformed TeX source.\n",
      "--allow-root\n",
      "    Allow the notebook to be run from root user.\n",
      "--script\n",
      "    DEPRECATED, IGNORED\n",
      "--no-script\n",
      "    DEPRECATED, IGNORED\n",
      "--log-level=<Enum> (Application.log_level)\n",
      "    Default: 30\n",
      "    Choices: (0, 10, 20, 30, 40, 50, 'DEBUG', 'INFO', 'WARN', 'ERROR', 'CRITICAL')\n",
      "    Set the log level by value or name.\n",
      "--config=<Unicode> (JupyterApp.config_file)\n",
      "    Default: ''\n",
      "    Full path of a config file.\n",
      "--ip=<Unicode> (NotebookApp.ip)\n",
      "    Default: 'localhost'\n",
      "    The IP address the notebook server will listen on.\n",
      "--port=<Int> (NotebookApp.port)\n",
      "    Default: 8888\n",
      "    The port the notebook server will listen on.\n",
      "--port-retries=<Int> (NotebookApp.port_retries)\n",
      "    Default: 50\n",
      "    The number of additional ports to try if the specified port is not\n",
      "    available.\n",
      "--transport=<CaselessStrEnum> (KernelManager.transport)\n",
      "    Default: 'tcp'\n",
      "    Choices: ['tcp', 'ipc']\n",
      "--keyfile=<Unicode> (NotebookApp.keyfile)\n",
      "    Default: ''\n",
      "    The full path to a private key file for usage with SSL/TLS.\n",
      "--certfile=<Unicode> (NotebookApp.certfile)\n",
      "    Default: ''\n",
      "    The full path to an SSL/TLS certificate file.\n",
      "--client-ca=<Unicode> (NotebookApp.client_ca)\n",
      "    Default: ''\n",
      "    The full path to a certificate authority certificate for SSL/TLS client\n",
      "    authentication.\n",
      "--notebook-dir=<Unicode> (NotebookApp.notebook_dir)\n",
      "    Default: ''\n",
      "    The directory to use for notebooks and kernels.\n",
      "--browser=<Unicode> (NotebookApp.browser)\n",
      "    Default: ''\n",
      "    Specify what command to use to invoke a web browser when opening the\n",
      "    notebook. If not specified, the default browser will be determined by the\n",
      "    `webbrowser` standard library module, which allows setting of the BROWSER\n",
      "    environment variable to override it.\n",
      "--pylab=<Unicode> (NotebookApp.pylab)\n",
      "    Default: 'disabled'\n",
      "    DISABLED: use %pylab or %matplotlib in the notebook to enable matplotlib.\n",
      "--gateway-url=<Unicode> (GatewayClient.url)\n",
      "    Default: None\n",
      "    The url of the Kernel or Enterprise Gateway server where kernel\n",
      "    specifications are defined and kernel management takes place. If defined,\n",
      "    this Notebook server acts as a proxy for all kernel management and kernel\n",
      "    specification retrieval.  (JUPYTER_GATEWAY_URL env var)\n",
      "\n",
      "To see all available configurables, use `--help-all`\n",
      "\n",
      "Examples\n",
      "--------\n",
      "\n",
      "    jupyter notebook                       # start the notebook\n",
      "    jupyter notebook --certfile=mycert.pem # use SSL/TLS certificate\n",
      "    jupyter notebook password              # enter a password to protect the server\n",
      "\n"
     ]
    }
   ],
   "source": [
    "%%bash\n",
    "jupyter notebook --help"
   ]
  },
  {
   "cell_type": "code",
   "execution_count": 5,
   "metadata": {
    "scrolled": true
   },
   "outputs": [
    {
     "data": {
      "text/html": [
       "<img src=\"Images/1-month-old_kittens_32.jpg\" title=\"I am a small kitten now ;)\" width=\"500\"/>\n"
      ],
      "text/plain": [
       "<IPython.core.display.HTML object>"
      ]
     },
     "metadata": {},
     "output_type": "display_data"
    }
   ],
   "source": [
    "%%html\n",
    "<img src=\"Images/1-month-old_kittens_32.jpg\" title=\"I am a small kitten now ;)\" width=\"500\"/>\n"
   ]
  },
  {
   "cell_type": "markdown",
   "metadata": {},
   "source": [
    "## Writing code and displaying plots"
   ]
  },
  {
   "cell_type": "code",
   "execution_count": 6,
   "metadata": {},
   "outputs": [
    {
     "data": {
      "text/plain": [
       "[<matplotlib.lines.Line2D at 0x7f52abbd2ad0>]"
      ]
     },
     "execution_count": 6,
     "metadata": {},
     "output_type": "execute_result"
    },
    {
     "data": {
      "image/png": "[encoded data removed]",
      "text/plain": [
       "<Figure size 432x288 with 1 Axes>"
      ]
     },
     "metadata": {
      "needs_background": "light"
     },
     "output_type": "display_data"
    }
   ],
   "source": [
    "### Switch between \"inline\" and \"notebook\" options to see what happens with the plot window. ###\n",
    "\n",
    "#%matplotlib notebook\n",
    "%matplotlib inline\n",
    "\n",
    "import numpy as np\n",
    "import matplotlib.pyplot as plt\n",
    "\n",
    "x,y = np.random.rand(2,30)\n",
    "plt.plot(x,y,'o')"
   ]
  },
  {
   "cell_type": "code",
   "execution_count": 7,
   "metadata": {},
   "outputs": [
    {
     "data": {
      "application/vnd.jupyter.widget-view+json": {
       "model_id": "25b12a9c591b4ff78cc7e243844cd67b",
       "version_major": 2,
       "version_minor": 0
      },
      "text/plain": [
       "interactive(children=(FloatSlider(value=0.0, description='m', max=2.0, min=-2.0, step=0.05), FloatSlider(value…"
      ]
     },
     "metadata": {},
     "output_type": "display_data"
    }
   ],
   "source": [
    "%matplotlib inline\n",
    "from ipywidgets import interactive, fixed\n",
    "import matplotlib.pyplot as plt\n",
    "import numpy as np\n",
    "\n",
    "Low = -10\n",
    "High = 10\n",
    "noise = 0.1\n",
    "\n",
    "def f(m, b, sigma, Npoints=10, low=Low, high=High):\n",
    "    # Create figure\n",
    "    plt.figure(3, figsize=(8,6))\n",
    "    # Create some random data:\n",
    "    x = np.linspace(low, high, num=Npoints) # Independent variable.\n",
    "    y = m * x + b # Evaluate as a linear model.\n",
    "    dy = np.random.normal(scale=sigma, size=Npoints) # Add noise following normal distribution.\n",
    "    # Fit:\n",
    "    model = np.polyfit( x, y+dy, deg=1) \n",
    "    fit_eval = np.polyval( model, x)\n",
    "    # Plot:\n",
    "    plt.plot(x, y, label=f'Groud truth: {m:.2f}*x + {b:.2f}')\n",
    "    plt.plot(x,y+dy, 'ko', ms=2, label='Data')\n",
    "    plt.plot( x, fit_eval, '--', label=f'Fit: {model[0]:.2f}*x + {model[1]:.2f}')\n",
    "    plt.xlabel(\"X\")\n",
    "    plt.ylabel(\"Y\")\n",
    "    plt.ylim(-10, 10)\n",
    "    plt.legend()\n",
    "    plt.show()\n",
    "\n",
    "# Use `interactive` to run the function f interactively with sliders.\n",
    "interactive_plot = interactive(f, m=(-2.0, 2.0, 0.05), b=(-3, 3, 0.5), sigma=(0,2,0.1), Npoints=(2,100,1), low=fixed(Low), high=fixed(High))\n",
    "output = interactive_plot.children[-1]\n",
    "output.layout.height = '400px'\n",
    "interactive_plot"
   ]
  },
  {
   "cell_type": "code",
   "execution_count": 8,
   "metadata": {},
   "outputs": [
    {
     "data": {
      "text/html": [
       "\n",
       "        <iframe\n",
       "            width=\"800\"\n",
       "            height=\"400\"\n",
       "            src=\"https://www.wikipedia.org\"\n",
       "            frameborder=\"0\"\n",
       "            allowfullscreen\n",
       "        ></iframe>\n",
       "        "
      ],
      "text/plain": [
       "<IPython.lib.display.IFrame at 0x7f52ab3df7d0>"
      ]
     },
     "execution_count": 8,
     "metadata": {},
     "output_type": "execute_result"
    }
   ],
   "source": [
    "# Other examples:\n",
    "from IPython.display import IFrame\n",
    "\n",
    "url = 'https://www.wikipedia.org'\n",
    "IFrame(url, width=800, height=400)"
   ]
  },
  {
   "cell_type": "markdown",
   "metadata": {},
   "source": [
    "**Exercise: Write a short Jupyter Notebook summarizing some research that you've been working on lately. You can include equations, plots, etc**\n"
   ]
  },
  {
   "cell_type": "markdown",
   "metadata": {},
   "source": [
    "**Exercise: Write a Notebook where you explain some simple concept in physics of astronomy. You can select your target audience, for example highschool students, undergraduates, etc.**"
   ]
  },
  {
   "cell_type": "markdown",
   "metadata": {},
   "source": [
    "**Exercise: Open a Github account (bitbucket, Gitlab)**"
   ]
  }
 ],
 "metadata": {
  "kernelspec": {
   "display_name": "Python 3",
   "language": "python",
   "name": "python3"
  },
  "language_info": {
   "codemirror_mode": {
    "name": "ipython",
    "version": 3
   },
   "file_extension": ".py",
   "mimetype": "text/x-python",
   "name": "python",
   "nbconvert_exporter": "python",
   "pygments_lexer": "ipython3",
   "version": "3.7.4"
  }
 },
 "nbformat": 4,
 "nbformat_minor": 4
}
