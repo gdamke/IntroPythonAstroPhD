{
 "cells": [
  {
   "cell_type": "code",
   "execution_count": 1,
   "metadata": {},
   "outputs": [],
   "source": [
    "__author__ = \"Guillermo Damke <gdamke@gmail.com>\"\n",
    "__version__ = \"20201203\""
   ]
  },
  {
   "cell_type": "markdown",
   "metadata": {},
   "source": [
    "# Numpy/Scipy and Array Operatory\n",
    "## (and some matplotlib)"
   ]
  },
  {
   "cell_type": "markdown",
   "metadata": {},
   "source": [
    "###  Why using arrays?\n",
    "\n",
    "\"An array data structure, or simply an array, is a **data structure consisting of a collection of elements (values or variables), each identified by at least one array index or key.**\" \n",
    "\n",
    "\"Arrays are among the oldest and most important data structures, and are used by almost every program.\"\n",
    "\n",
    "\"Arrays are useful mostly because the element indices can be computed at run time. Among other things, **this feature allows a single iterative statement to process arbitrarily many elements of an array**. For that reason, **the elements of an array data structure are required to have the same size and should use the same data representation**. The set of valid index tuples and the addresses of the elements (and hence the element addressing formula) are usually, but not always, fixed while the array is in use.\"\n",
    "\n",
    "\"The simplest type of data structure is a linear array, also called one-dimensional array.\"\n",
    "\n",
    "\"Because the mathematical concept of a matrix can be represented as a two-dimensional grid, two-dimensional arrays are also sometimes called matrices. In some cases the term \"vector\" is used in computing to refer to an array.\"\n",
    "\n",
    "(quotes from Wikipedia)\n",
    "\n",
    "### What is Numpy? Arrays in Python.\n",
    "\n",
    "Originally, Python did not contain a data structure to perform array-based operations. As a result, this capability was added using external libraries, in particular, Numeric, Numarray, and finally, Numpy.\n",
    "\n",
    "\"NumPy is a library for the Python programming language, adding support for **large, multi-dimensional arrays and matrices**, along with a **large collection of high-level mathematical functions to operate on these arrays**. The ancestor of NumPy, Numeric, was originally created by Jim Hugunin with contributions from several other developers. In 2005, Travis Oliphant created NumPy by incorporating features of the competing Numarray into Numeric, with extensive modifications. NumPy is open-source software and has many contributors.\" (quote from Wikipedia)\n",
    "\n",
    "The Numpy lists the following characteristics of Numpy:\n",
    "\n",
    "![Image](Images/numpy_01.png)\n",
    "\n",
    "### What is Scipy? The Scipy library\n",
    "\n",
    "\"The SciPy library is one of the core packages that make up the SciPy stack. It provides many user-friendly and efficient numerical routines, such as routines for numerical integration, interpolation, optimization, linear algebra, and statistics.\" (quote from scipy.org)\n",
    "\n",
    "\"SciPy is a free and open-source Python library used for scientific computing and technical computing... SciPy builds on the NumPy array object and is part of the NumPy stack... The NumPy stack is also sometimes referred to as the SciPy stack.\" (quotes from Wikipedia)\n",
    "\n",
    "The Scipy API (application programming interface) contains the following subpackages:\n",
    "\n",
    "*    Clustering package (scipy.cluster)\n",
    "*    Constants (scipy.constants)\n",
    "*    Discrete Fourier transforms (scipy.fft)\n",
    "*    Legacy discrete Fourier transforms (scipy.fftpack)\n",
    "*    Integration and ODEs (scipy.integrate)\n",
    "*    Interpolation (scipy.interpolate)\n",
    "*    Input and output (scipy.io)\n",
    "*    Linear algebra (scipy.linalg)\n",
    "*    Miscellaneous routines (scipy.misc)\n",
    "*    Multidimensional image processing (scipy.ndimage)\n",
    "*    Orthogonal distance regression (scipy.odr)\n",
    "*    Optimization and root finding (scipy.optimize)\n",
    "*    Signal processing (scipy.signal)\n",
    "*    Sparse matrices (scipy.sparse)\n",
    "*    Sparse linear algebra (scipy.sparse.linalg)\n",
    "*    Compressed sparse graph routines (scipy.sparse.csgraph)\n",
    "*    Spatial algorithms and data structures (scipy.spatial)\n",
    "*    Special functions (scipy.special)\n",
    "*    Statistical functions (scipy.stats)\n",
    "*    Statistical functions for masked arrays (scipy.stats.mstats)\n",
    "*    Low-level callback functions\n",
    "\n",
    "\n",
    "\n",
    "### The Scipy (Numpy) stack:\n",
    "\n",
    "\"SciPy is a Python-based ecosystem of open-source software for mathematics, science, and engineering. In particular, these are some of the core packages:\"\n",
    "\n",
    "![Image](Images/scipy_stack.png)\n",
    "\n",
    "\n",
    "(from scipy.org. Notice also the other libraries of the stack!)\n"
   ]
  },
  {
   "cell_type": "markdown",
   "metadata": {},
   "source": [
    "### Importing Numpy and Scipy\n",
    "\n",
    "By convention, Numpy is imported as:"
   ]
  },
  {
   "cell_type": "code",
   "execution_count": 4,
   "metadata": {},
   "outputs": [],
   "source": [
    "import numpy as np"
   ]
  },
  {
   "cell_type": "markdown",
   "metadata": {},
   "source": [
    "Whereas Scipy is imported as:"
   ]
  },
  {
   "cell_type": "code",
   "execution_count": 2,
   "metadata": {},
   "outputs": [],
   "source": [
    "import scipy as sp"
   ]
  },
  {
   "cell_type": "markdown",
   "metadata": {},
   "source": [
    "### Creating an array:\n",
    "\n",
    "An array *looks like* (but it isn't) a list (and uses square brackets \\[ \\] for indexing). To create an array simply do:"
   ]
  },
  {
   "cell_type": "code",
   "execution_count": 70,
   "metadata": {},
   "outputs": [
    {
     "name": "stdout",
     "output_type": "stream",
     "text": [
      "[1 2 3]\n"
     ]
    }
   ],
   "source": [
    "arr1 = np.array([1,2,3])\n",
    "print(arr1)"
   ]
  },
  {
   "cell_type": "markdown",
   "metadata": {},
   "source": [
    "You can see that the representation looks like a list. Let's create a list to check that:"
   ]
  },
  {
   "cell_type": "code",
   "execution_count": 71,
   "metadata": {},
   "outputs": [
    {
     "name": "stdout",
     "output_type": "stream",
     "text": [
      "[1, 2, 3]\n"
     ]
    }
   ],
   "source": [
    "lst1 = [1,2,3]\n",
    "print(lst1)"
   ]
  },
  {
   "cell_type": "markdown",
   "metadata": {},
   "source": [
    "However, you can see that they are different types of object (class) and they will have different methods therefore."
   ]
  },
  {
   "cell_type": "code",
   "execution_count": 72,
   "metadata": {},
   "outputs": [
    {
     "name": "stdout",
     "output_type": "stream",
     "text": [
      "List data type: <class 'list'>. Array data type: <class 'numpy.ndarray'>\n"
     ]
    }
   ],
   "source": [
    "print( f\"List data type: {type(lst1)}. Array data type: {type(arr1)}\")"
   ]
  },
  {
   "cell_type": "markdown",
   "metadata": {},
   "source": [
    "Don'f forget to check what methods each object has! (Use `lst1.?` and `arr1.?`) "
   ]
  },
  {
   "cell_type": "markdown",
   "metadata": {},
   "source": [
    "To check if an object is an array, use the `isinstance` function:"
   ]
  },
  {
   "cell_type": "code",
   "execution_count": 73,
   "metadata": {},
   "outputs": [
    {
     "data": {
      "text/plain": [
       "True"
      ]
     },
     "execution_count": 73,
     "metadata": {},
     "output_type": "execute_result"
    }
   ],
   "source": [
    "isinstance( arr1, sp.ndarray) # Notice how we use scipy even though we created the array using numpy."
   ]
  },
  {
   "cell_type": "markdown",
   "metadata": {},
   "source": [
    "### Some attributes of the array:\n",
    "\n",
    "First, an array has a **size**, **shape** and **dimension**.\n",
    "\n",
    "*The dimension of an array is the number of indices needed to select an element.*\n"
   ]
  },
  {
   "cell_type": "code",
   "execution_count": 97,
   "metadata": {},
   "outputs": [
    {
     "data": {
      "text/plain": [
       "3"
      ]
     },
     "execution_count": 97,
     "metadata": {},
     "output_type": "execute_result"
    }
   ],
   "source": [
    "arr1.size"
   ]
  },
  {
   "cell_type": "code",
   "execution_count": 98,
   "metadata": {},
   "outputs": [
    {
     "data": {
      "text/plain": [
       "(3,)"
      ]
     },
     "execution_count": 98,
     "metadata": {},
     "output_type": "execute_result"
    }
   ],
   "source": [
    "arr1.shape"
   ]
  },
  {
   "cell_type": "code",
   "execution_count": 99,
   "metadata": {},
   "outputs": [
    {
     "data": {
      "text/plain": [
       "1"
      ]
     },
     "execution_count": 99,
     "metadata": {},
     "output_type": "execute_result"
    }
   ],
   "source": [
    "arr1.ndim"
   ]
  },
  {
   "cell_type": "markdown",
   "metadata": {},
   "source": [
    "In addition, an array has a unique **data type**:"
   ]
  },
  {
   "cell_type": "code",
   "execution_count": 100,
   "metadata": {},
   "outputs": [
    {
     "data": {
      "text/plain": [
       "dtype('int64')"
      ]
     },
     "execution_count": 100,
     "metadata": {},
     "output_type": "execute_result"
    }
   ],
   "source": [
    "arr1.dtype"
   ]
  },
  {
   "cell_type": "markdown",
   "metadata": {},
   "source": [
    "You can create an array of an specific data type by doing:"
   ]
  },
  {
   "cell_type": "code",
   "execution_count": 101,
   "metadata": {},
   "outputs": [],
   "source": [
    "arr2 = np.array([1,2,3], dtype=int)"
   ]
  },
  {
   "cell_type": "code",
   "execution_count": 102,
   "metadata": {},
   "outputs": [
    {
     "data": {
      "text/plain": [
       "dtype('int64')"
      ]
     },
     "execution_count": 102,
     "metadata": {},
     "output_type": "execute_result"
    }
   ],
   "source": [
    "arr2.dtype"
   ]
  },
  {
   "cell_type": "code",
   "execution_count": 104,
   "metadata": {},
   "outputs": [
    {
     "data": {
      "text/plain": [
       "array([False,  True,  True])"
      ]
     },
     "execution_count": 104,
     "metadata": {},
     "output_type": "execute_result"
    }
   ],
   "source": [
    "arr3 = np.array([0,1,2], dtype=bool)\n",
    "arr3"
   ]
  },
  {
   "cell_type": "markdown",
   "metadata": {},
   "source": [
    "### Arrays of larger dimensions:\n",
    "\n",
    "To create a two-dimensional array, do:\n"
   ]
  },
  {
   "cell_type": "code",
   "execution_count": 115,
   "metadata": {},
   "outputs": [
    {
     "data": {
      "text/plain": [
       "array([[1, 2, 3],\n",
       "       [4, 5, 6]])"
      ]
     },
     "execution_count": 115,
     "metadata": {},
     "output_type": "execute_result"
    }
   ],
   "source": [
    "arr4 = sp.array( [[1,2,3], [4,5,6]]) # Notice that we can use scipy to create arrays too.\n",
    "arr4"
   ]
  },
  {
   "cell_type": "code",
   "execution_count": 112,
   "metadata": {},
   "outputs": [
    {
     "data": {
      "text/plain": [
       "6"
      ]
     },
     "execution_count": 112,
     "metadata": {},
     "output_type": "execute_result"
    }
   ],
   "source": [
    "arr4.size"
   ]
  },
  {
   "cell_type": "code",
   "execution_count": 113,
   "metadata": {},
   "outputs": [
    {
     "data": {
      "text/plain": [
       "(2, 3)"
      ]
     },
     "execution_count": 113,
     "metadata": {},
     "output_type": "execute_result"
    }
   ],
   "source": [
    "arr4.shape"
   ]
  },
  {
   "cell_type": "code",
   "execution_count": 114,
   "metadata": {},
   "outputs": [
    {
     "data": {
      "text/plain": [
       "2"
      ]
     },
     "execution_count": 114,
     "metadata": {},
     "output_type": "execute_result"
    }
   ],
   "source": [
    "arr4.ndim"
   ]
  },
  {
   "cell_type": "markdown",
   "metadata": {},
   "source": [
    "Following the same rationale, a three-dimmensional array is created by doing:"
   ]
  },
  {
   "cell_type": "code",
   "execution_count": 116,
   "metadata": {},
   "outputs": [],
   "source": [
    "arr5 = np.array( [[[1,2,3],[4,5,6]],[[7,8,9],[10,11,12]],[[13,14,15],[16,17,18]],[[19,20,21],[22,23,24]]])"
   ]
  },
  {
   "cell_type": "code",
   "execution_count": 118,
   "metadata": {},
   "outputs": [
    {
     "data": {
      "text/plain": [
       "array([[[ 1,  2,  3],\n",
       "        [ 4,  5,  6]],\n",
       "\n",
       "       [[ 7,  8,  9],\n",
       "        [10, 11, 12]],\n",
       "\n",
       "       [[13, 14, 15],\n",
       "        [16, 17, 18]],\n",
       "\n",
       "       [[19, 20, 21],\n",
       "        [22, 23, 24]]])"
      ]
     },
     "execution_count": 118,
     "metadata": {},
     "output_type": "execute_result"
    }
   ],
   "source": [
    "arr5"
   ]
  },
  {
   "cell_type": "code",
   "execution_count": 121,
   "metadata": {},
   "outputs": [
    {
     "name": "stdout",
     "output_type": "stream",
     "text": [
      "Size: 24, Shape: (4, 2, 3), Ndim: 3\n"
     ]
    }
   ],
   "source": [
    "print( f\"Size: {arr5.size}, Shape: {arr5.shape}, Ndim: {arr5.ndim}\")"
   ]
  },
  {
   "cell_type": "markdown",
   "metadata": {},
   "source": [
    "### Note about printing arrays\n",
    "\n",
    "(from Numpy.org)\n",
    "\n",
    "When you print an array, NumPy displays it in a similar way to nested lists, but with the following layout:\n",
    "\n",
    "* the last axis is printed from left to right,\n",
    "\n",
    "* the second-to-last is printed from top to bottom,\n",
    "\n",
    "* the rest are also printed from top to bottom, with each slice separated from the next by an empty line.\n",
    "\n",
    "One-dimensional arrays are then printed as rows, bidimensionals as matrices and tridimensionals as lists of matrices."
   ]
  },
  {
   "cell_type": "markdown",
   "metadata": {},
   "source": [
    "### Accessing array elements: array indexing and slicing"
   ]
  },
  {
   "cell_type": "markdown",
   "metadata": {},
   "source": [
    "You access array elements using a 0-based index. For a 1-d array, similarly to lists, just do `array[index]`:\n"
   ]
  },
  {
   "cell_type": "code",
   "execution_count": 134,
   "metadata": {},
   "outputs": [
    {
     "data": {
      "text/plain": [
       "1"
      ]
     },
     "execution_count": 134,
     "metadata": {},
     "output_type": "execute_result"
    }
   ],
   "source": [
    "arr1[0] # First element"
   ]
  },
  {
   "cell_type": "code",
   "execution_count": 135,
   "metadata": {},
   "outputs": [
    {
     "data": {
      "text/plain": [
       "3"
      ]
     },
     "execution_count": 135,
     "metadata": {},
     "output_type": "execute_result"
    }
   ],
   "source": [
    "arr1[-1] # Last element"
   ]
  },
  {
   "cell_type": "markdown",
   "metadata": {},
   "source": [
    "To access elements in a 2D or 3D (or N-D array), use `array[index1,index2,...,indexn]`"
   ]
  },
  {
   "cell_type": "code",
   "execution_count": 142,
   "metadata": {},
   "outputs": [
    {
     "data": {
      "text/plain": [
       "array([[1, 2, 3],\n",
       "       [4, 5, 6]])"
      ]
     },
     "execution_count": 142,
     "metadata": {},
     "output_type": "execute_result"
    }
   ],
   "source": [
    "arr4 # 2d array"
   ]
  },
  {
   "cell_type": "code",
   "execution_count": 152,
   "metadata": {},
   "outputs": [
    {
     "data": {
      "text/plain": [
       "(2, 3)"
      ]
     },
     "execution_count": 152,
     "metadata": {},
     "output_type": "execute_result"
    }
   ],
   "source": [
    "arr4.shape"
   ]
  },
  {
   "cell_type": "code",
   "execution_count": 144,
   "metadata": {},
   "outputs": [
    {
     "data": {
      "text/plain": [
       "6"
      ]
     },
     "execution_count": 144,
     "metadata": {},
     "output_type": "execute_result"
    }
   ],
   "source": [
    "arr4[1,2] # Element 2,3"
   ]
  },
  {
   "cell_type": "code",
   "execution_count": 151,
   "metadata": {},
   "outputs": [
    {
     "data": {
      "text/plain": [
       "array([[[ 1,  2,  3],\n",
       "        [ 4,  5,  6]],\n",
       "\n",
       "       [[ 7,  8,  9],\n",
       "        [10, 11, 12]],\n",
       "\n",
       "       [[13, 14, 15],\n",
       "        [16, 17, 18]],\n",
       "\n",
       "       [[19, 20, 21],\n",
       "        [22, 23, 24]]])"
      ]
     },
     "execution_count": 151,
     "metadata": {},
     "output_type": "execute_result"
    }
   ],
   "source": [
    "arr5\n"
   ]
  },
  {
   "cell_type": "code",
   "execution_count": 153,
   "metadata": {},
   "outputs": [
    {
     "data": {
      "text/plain": [
       "(4, 2, 3)"
      ]
     },
     "execution_count": 153,
     "metadata": {},
     "output_type": "execute_result"
    }
   ],
   "source": [
    "arr5.shape"
   ]
  },
  {
   "cell_type": "code",
   "execution_count": 155,
   "metadata": {},
   "outputs": [
    {
     "data": {
      "text/plain": [
       "16"
      ]
     },
     "execution_count": 155,
     "metadata": {},
     "output_type": "execute_result"
    }
   ],
   "source": [
    "arr5[2,1,0]"
   ]
  },
  {
   "cell_type": "markdown",
   "metadata": {},
   "source": [
    "You can also use array slicing. For example:"
   ]
  },
  {
   "cell_type": "code",
   "execution_count": 170,
   "metadata": {},
   "outputs": [
    {
     "data": {
      "text/plain": [
       "array([[ 2,  5],\n",
       "       [ 8, 11]])"
      ]
     },
     "execution_count": 170,
     "metadata": {},
     "output_type": "execute_result"
    }
   ],
   "source": [
    "arr5[:2,:,1]"
   ]
  },
  {
   "cell_type": "markdown",
   "metadata": {},
   "source": [
    "### Some useful array methods\n",
    "\n",
    "Arrays have several methods that are useful. For instance:\n"
   ]
  },
  {
   "cell_type": "code",
   "execution_count": 171,
   "metadata": {},
   "outputs": [
    {
     "data": {
      "text/plain": [
       "12.5"
      ]
     },
     "execution_count": 171,
     "metadata": {},
     "output_type": "execute_result"
    }
   ],
   "source": [
    "arr5.mean() # Calculate the mean\n"
   ]
  },
  {
   "cell_type": "code",
   "execution_count": 174,
   "metadata": {},
   "outputs": [
    {
     "data": {
      "text/plain": [
       "6.922186552431729"
      ]
     },
     "execution_count": 174,
     "metadata": {},
     "output_type": "execute_result"
    }
   ],
   "source": [
    "arr5.std() # Calculate standard deviation"
   ]
  },
  {
   "cell_type": "code",
   "execution_count": 177,
   "metadata": {},
   "outputs": [
    {
     "data": {
      "text/plain": [
       "12.5"
      ]
     },
     "execution_count": 177,
     "metadata": {},
     "output_type": "execute_result"
    }
   ],
   "source": [
    "np.median( arr5) # The median method (and many others) is not implemented in the object, but can be accessed through numpy/scipy."
   ]
  },
  {
   "cell_type": "markdown",
   "metadata": {},
   "source": [
    "### Other (useful) ways of creating (useful) arrays and modifying arrays:"
   ]
  },
  {
   "cell_type": "code",
   "execution_count": 178,
   "metadata": {},
   "outputs": [
    {
     "data": {
      "text/plain": [
       "array([0, 1, 2, 3, 4, 5, 6, 7, 8, 9])"
      ]
     },
     "execution_count": 178,
     "metadata": {},
     "output_type": "execute_result"
    }
   ],
   "source": [
    "arr6 = np.arange( 10)\n",
    "arr6"
   ]
  },
  {
   "cell_type": "code",
   "execution_count": 181,
   "metadata": {},
   "outputs": [
    {
     "data": {
      "text/plain": [
       "array([10, 12, 14, 16, 18])"
      ]
     },
     "execution_count": 181,
     "metadata": {},
     "output_type": "execute_result"
    }
   ],
   "source": [
    "arr7 = np.arange(10,20,2) # Using strides\n",
    "arr7"
   ]
  },
  {
   "cell_type": "code",
   "execution_count": 182,
   "metadata": {},
   "outputs": [
    {
     "data": {
      "text/plain": [
       "array([200, 193, 186, 179, 172, 165, 158, 151, 144, 137, 130, 123, 116,\n",
       "       109, 102])"
      ]
     },
     "execution_count": 182,
     "metadata": {},
     "output_type": "execute_result"
    }
   ],
   "source": [
    "arr8 = np.arange(200,100,-7)\n",
    "arr8"
   ]
  },
  {
   "cell_type": "code",
   "execution_count": 185,
   "metadata": {},
   "outputs": [
    {
     "data": {
      "text/plain": [
       "array([0., 0., 0., 0., 0., 0., 0., 0., 0., 0.])"
      ]
     },
     "execution_count": 185,
     "metadata": {},
     "output_type": "execute_result"
    }
   ],
   "source": [
    "arr9 = np.zeros( 10)\n",
    "arr9"
   ]
  },
  {
   "cell_type": "code",
   "execution_count": 186,
   "metadata": {},
   "outputs": [
    {
     "data": {
      "text/plain": [
       "array([1., 1., 1., 1., 1., 1., 1., 1., 1., 1.])"
      ]
     },
     "execution_count": 186,
     "metadata": {},
     "output_type": "execute_result"
    }
   ],
   "source": [
    "arr10 = np.ones( 10)\n",
    "arr10"
   ]
  },
  {
   "cell_type": "code",
   "execution_count": 190,
   "metadata": {},
   "outputs": [
    {
     "data": {
      "text/plain": [
       "array([-10.        ,  -9.33333333,  -8.66666667,  -8.        ,\n",
       "        -7.33333333,  -6.66666667,  -6.        ,  -5.33333333,\n",
       "        -4.66666667,  -4.        ,  -3.33333333,  -2.66666667,\n",
       "        -2.        ,  -1.33333333,  -0.66666667,   0.        ,\n",
       "         0.66666667,   1.33333333,   2.        ,   2.66666667,\n",
       "         3.33333333,   4.        ,   4.66666667,   5.33333333,\n",
       "         6.        ,   6.66666667,   7.33333333,   8.        ,\n",
       "         8.66666667,   9.33333333,  10.        ])"
      ]
     },
     "execution_count": 190,
     "metadata": {},
     "output_type": "execute_result"
    }
   ],
   "source": [
    "arr11 = np.linspace(-10,10,31)\n",
    "arr11"
   ]
  },
  {
   "cell_type": "code",
   "execution_count": 189,
   "metadata": {},
   "outputs": [
    {
     "data": {
      "text/plain": [
       "array([  10.        ,   11.65914401,   13.59356391,   15.84893192,\n",
       "         18.47849797,   21.5443469 ,   25.11886432,   29.28644565,\n",
       "         34.14548874,   39.81071706,   46.41588834,   54.11695265,\n",
       "         63.09573445,   73.56422545,   85.76958986,  100.        ,\n",
       "        116.59144012,  135.93563909,  158.48931925,  184.78497974,\n",
       "        215.443469  ,  251.18864315,  292.86445646,  341.45488738,\n",
       "        398.10717055,  464.15888336,  541.16952655,  630.95734448,\n",
       "        735.64225446,  857.69589859, 1000.        ])"
      ]
     },
     "execution_count": 189,
     "metadata": {},
     "output_type": "execute_result"
    }
   ],
   "source": [
    "arr12 = np.logspace(1,3,31)\n",
    "arr12"
   ]
  },
  {
   "cell_type": "markdown",
   "metadata": {},
   "source": [
    "### Aside: Visualizing the arrays with matplotlib."
   ]
  },
  {
   "cell_type": "code",
   "execution_count": 198,
   "metadata": {},
   "outputs": [],
   "source": [
    "# Import matplotlib's pyplot\n",
    "import matplotlib.pyplot as plt"
   ]
  },
  {
   "cell_type": "code",
   "execution_count": 202,
   "metadata": {},
   "outputs": [
    {
     "data": {
      "image/png": "[encoded data removed]",
      "text/plain": [
       "<Figure size 864x576 with 2 Axes>"
      ]
     },
     "metadata": {
      "needs_background": "light"
     },
     "output_type": "display_data"
    }
   ],
   "source": [
    "fig, ax = plt.subplots(nrows=1,ncols=2, figsize=(12,8))\n",
    "ax[0].plot( arr11, arr12)\n",
    "ax[1].semilogy(arr11, arr12); # The \";\" avoids displaying the output text from the function call on the plot"
   ]
  },
  {
   "cell_type": "markdown",
   "metadata": {},
   "source": [
    "### Important: Array reshaping!"
   ]
  },
  {
   "cell_type": "markdown",
   "metadata": {},
   "source": [
    "It is possible to change the shape of arrays. Some of these functions work \"in place\" and others return a new object. For example:"
   ]
  },
  {
   "cell_type": "code",
   "execution_count": 257,
   "metadata": {},
   "outputs": [
    {
     "data": {
      "text/plain": [
       "array([-5000, -4999, -4998, ...,  4997,  4998,  4999])"
      ]
     },
     "execution_count": 257,
     "metadata": {},
     "output_type": "execute_result"
    }
   ],
   "source": [
    "arr13 = np.arange(-5000,5000)\n",
    "arr13\n",
    "\n"
   ]
  },
  {
   "cell_type": "code",
   "execution_count": 258,
   "metadata": {},
   "outputs": [
    {
     "data": {
      "text/plain": [
       "array([[-5000, -4999, -4998, ..., -4953, -4952, -4951],\n",
       "       [-4950, -4949, -4948, ..., -4903, -4902, -4901],\n",
       "       [-4900, -4899, -4898, ..., -4853, -4852, -4851],\n",
       "       ...,\n",
       "       [ 4850,  4851,  4852, ...,  4897,  4898,  4899],\n",
       "       [ 4900,  4901,  4902, ...,  4947,  4948,  4949],\n",
       "       [ 4950,  4951,  4952, ...,  4997,  4998,  4999]])"
      ]
     },
     "execution_count": 258,
     "metadata": {},
     "output_type": "execute_result"
    }
   ],
   "source": [
    "arr13.reshape((200,50))"
   ]
  },
  {
   "cell_type": "code",
   "execution_count": 259,
   "metadata": {},
   "outputs": [
    {
     "data": {
      "text/plain": [
       "array([-5000, -4999, -4998, ...,  4997,  4998,  4999])"
      ]
     },
     "execution_count": 259,
     "metadata": {},
     "output_type": "execute_result"
    }
   ],
   "source": [
    "# However, arr13 has not changed:\n",
    "arr13"
   ]
  },
  {
   "cell_type": "code",
   "execution_count": 264,
   "metadata": {},
   "outputs": [
    {
     "data": {
      "text/plain": [
       "array([[-5000, -4999, -4998, ..., -4953, -4952, -4951],\n",
       "       [-4950, -4949, -4948, ..., -4903, -4902, -4901],\n",
       "       [-4900, -4899, -4898, ..., -4853, -4852, -4851],\n",
       "       ...,\n",
       "       [ 4850,  4851,  4852, ...,  4897,  4898,  4899],\n",
       "       [ 4900,  4901,  4902, ...,  4947,  4948,  4949],\n",
       "       [ 4950,  4951,  4952, ...,  4997,  4998,  4999]])"
      ]
     },
     "execution_count": 264,
     "metadata": {},
     "output_type": "execute_result"
    }
   ],
   "source": [
    "# You can do:\n",
    "arr14 = arr13.reshape((200,-1)) # Use -1 to calculate the remaining dimension automatically!\n",
    "arr14"
   ]
  },
  {
   "cell_type": "code",
   "execution_count": 269,
   "metadata": {},
   "outputs": [
    {
     "data": {
      "text/plain": [
       "array([[-5000, -4999, -4998, ..., -4903, -4902, -4901],\n",
       "       [-4900, -4899, -4898, ..., -4803, -4802, -4801],\n",
       "       [-4800, -4799, -4798, ..., -4703, -4702, -4701],\n",
       "       ...,\n",
       "       [ 4700,  4701,  4702, ...,  4797,  4798,  4799],\n",
       "       [ 4800,  4801,  4802, ...,  4897,  4898,  4899],\n",
       "       [ 4900,  4901,  4902, ...,  4997,  4998,  4999]])"
      ]
     },
     "execution_count": 269,
     "metadata": {},
     "output_type": "execute_result"
    }
   ],
   "source": [
    "# Or, change in place:\n",
    "arr13.resize((100,100)) \n",
    "arr13"
   ]
  },
  {
   "cell_type": "code",
   "execution_count": 272,
   "metadata": {},
   "outputs": [
    {
     "data": {
      "text/plain": [
       "<matplotlib.colorbar.Colorbar at 0x7f018c987c50>"
      ]
     },
     "execution_count": 272,
     "metadata": {},
     "output_type": "execute_result"
    },
    {
     "data": {
      "image/png": "[encoded data removed]",
      "text/plain": [
       "<Figure size 432x288 with 2 Axes>"
      ]
     },
     "metadata": {
      "needs_background": "light"
     },
     "output_type": "display_data"
    }
   ],
   "source": [
    "\n",
    "plt.imshow( arr13)\n",
    "\n",
    "plt.colorbar(label='Pixel value')"
   ]
  },
  {
   "cell_type": "markdown",
   "metadata": {},
   "source": [
    "### Array operatory!\n",
    "\n",
    "\n",
    "The real power of array is demonstrated in array operatory. For example, how would you calculate the square of the numbers from 1 to 100?"
   ]
  },
  {
   "cell_type": "code",
   "execution_count": 273,
   "metadata": {},
   "outputs": [],
   "source": [
    "arr15 = np.arange( 100) + 1\n",
    "arr16 = arr15**2"
   ]
  },
  {
   "cell_type": "markdown",
   "metadata": {},
   "source": [
    "Let's plot the output:"
   ]
  },
  {
   "cell_type": "code",
   "execution_count": 283,
   "metadata": {},
   "outputs": [
    {
     "data": {
      "text/plain": [
       "Text(0, 0.5, 'y')"
      ]
     },
     "execution_count": 283,
     "metadata": {},
     "output_type": "execute_result"
    },
    {
     "data": {
      "image/png": "[encoded data removed]",
      "text/plain": [
       "<Figure size 432x288 with 1 Axes>"
      ]
     },
     "metadata": {
      "needs_background": "light"
     },
     "output_type": "display_data"
    }
   ],
   "source": [
    "plt.plot(arr15, arr16, 'r');\n",
    "plt.xlabel(\"x\")\n",
    "plt.ylabel(\"y\")"
   ]
  },
  {
   "cell_type": "markdown",
   "metadata": {},
   "source": [
    "In addition, arrays are FAST! Let's compare the time used in both cases:"
   ]
  },
  {
   "cell_type": "code",
   "execution_count": 285,
   "metadata": {},
   "outputs": [],
   "source": [
    "def using_arrays(n):\n",
    "    arrx = np.arange( n) + 1\n",
    "    arry = arrx**2\n",
    "    return arrx, arry\n",
    "\n",
    "def using_lists(n):\n",
    "    lstx = range( n)\n",
    "    lsty = [(i+1)**2 for i in lstx]\n",
    "    return lstx, lsty\n"
   ]
  },
  {
   "cell_type": "code",
   "execution_count": 280,
   "metadata": {},
   "outputs": [
    {
     "name": "stdout",
     "output_type": "stream",
     "text": [
      "4.44 µs ± 69.2 ns per loop (mean ± std. dev. of 7 runs, 100000 loops each)\n"
     ]
    }
   ],
   "source": [
    "%timeit using_arrays(1000)"
   ]
  },
  {
   "cell_type": "code",
   "execution_count": 279,
   "metadata": {},
   "outputs": [
    {
     "name": "stdout",
     "output_type": "stream",
     "text": [
      "272 µs ± 2.98 µs per loop (mean ± std. dev. of 7 runs, 1000 loops each)\n"
     ]
    }
   ],
   "source": [
    "%timeit using_lists(1000)"
   ]
  },
  {
   "cell_type": "code",
   "execution_count": 290,
   "metadata": {},
   "outputs": [
    {
     "name": "stdout",
     "output_type": "stream",
     "text": [
      "[  2.5          2.914786     3.39839098   3.96223298   4.61962449\n",
      "   5.38608673   6.27971608   7.32161141   8.53637218   9.95267926\n",
      "  11.60397208  13.52923816  15.77393361  18.39105636  21.44239746\n",
      "  25.          29.14786003  33.98390977  39.62232981  46.19624494\n",
      "  53.86086725  62.79716079  73.21611412  85.36372185  99.52679264\n",
      " 116.03972084 135.29238164 157.73933612 183.91056361 214.42397465\n",
      " 250.        ]\n",
      "[  1.25         1.457393     1.69919549   1.98111649   2.30981225\n",
      "   2.69304336   3.13985804   3.66080571   4.26818609   4.97633963\n",
      "   5.80198604   6.76461908   7.88696681   9.19552818  10.72119873\n",
      "  12.5         14.57393001  16.99195489  19.81116491  23.09812247\n",
      "  26.93043363  31.39858039  36.60805706  42.68186092  49.76339632\n",
      "  58.01986042  67.64619082  78.86966806  91.95528181 107.21198732\n",
      " 125.        ]\n"
     ]
    }
   ],
   "source": [
    "# Some other operatory in-place. For example:\n",
    "print(arr12)\n",
    "arr12 *= 0.5\n",
    "print(arr12)"
   ]
  },
  {
   "cell_type": "markdown",
   "metadata": {},
   "source": [
    "### Array bradcasting:\n",
    "\n",
    "Numpy/scipy will apply array broadcasting to perform operations. Let's see the following examples:"
   ]
  },
  {
   "cell_type": "code",
   "execution_count": 294,
   "metadata": {},
   "outputs": [
    {
     "name": "stdout",
     "output_type": "stream",
     "text": [
      "(100,) (100,)\n"
     ]
    }
   ],
   "source": [
    "print(f\"{arr15.shape} {arr16.shape}\")"
   ]
  },
  {
   "cell_type": "code",
   "execution_count": 295,
   "metadata": {},
   "outputs": [
    {
     "data": {
      "text/plain": [
       "array([  1,   2,   3,   4,   5,   6,   7,   8,   9,  10,  11,  12,  13,\n",
       "        14,  15,  16,  17,  18,  19,  20,  21,  22,  23,  24,  25,  26,\n",
       "        27,  28,  29,  30,  31,  32,  33,  34,  35,  36,  37,  38,  39,\n",
       "        40,  41,  42,  43,  44,  45,  46,  47,  48,  49,  50,  51,  52,\n",
       "        53,  54,  55,  56,  57,  58,  59,  60,  61,  62,  63,  64,  65,\n",
       "        66,  67,  68,  69,  70,  71,  72,  73,  74,  75,  76,  77,  78,\n",
       "        79,  80,  81,  82,  83,  84,  85,  86,  87,  88,  89,  90,  91,\n",
       "        92,  93,  94,  95,  96,  97,  98,  99, 100])"
      ]
     },
     "execution_count": 295,
     "metadata": {},
     "output_type": "execute_result"
    }
   ],
   "source": [
    "# Let's see content of arr15\n",
    "arr15"
   ]
  },
  {
   "cell_type": "code",
   "execution_count": 299,
   "metadata": {},
   "outputs": [
    {
     "data": {
      "text/plain": [
       "array([ 0.1,  0.2,  0.3,  0.4,  0.5,  0.6,  0.7,  0.8,  0.9,  1. ,  1.1,\n",
       "        1.2,  1.3,  1.4,  1.5,  1.6,  1.7,  1.8,  1.9,  2. ,  2.1,  2.2,\n",
       "        2.3,  2.4,  2.5,  2.6,  2.7,  2.8,  2.9,  3. ,  3.1,  3.2,  3.3,\n",
       "        3.4,  3.5,  3.6,  3.7,  3.8,  3.9,  4. ,  4.1,  4.2,  4.3,  4.4,\n",
       "        4.5,  4.6,  4.7,  4.8,  4.9,  5. ,  5.1,  5.2,  5.3,  5.4,  5.5,\n",
       "        5.6,  5.7,  5.8,  5.9,  6. ,  6.1,  6.2,  6.3,  6.4,  6.5,  6.6,\n",
       "        6.7,  6.8,  6.9,  7. ,  7.1,  7.2,  7.3,  7.4,  7.5,  7.6,  7.7,\n",
       "        7.8,  7.9,  8. ,  8.1,  8.2,  8.3,  8.4,  8.5,  8.6,  8.7,  8.8,\n",
       "        8.9,  9. ,  9.1,  9.2,  9.3,  9.4,  9.5,  9.6,  9.7,  9.8,  9.9,\n",
       "       10. ])"
      ]
     },
     "execution_count": 299,
     "metadata": {},
     "output_type": "execute_result"
    }
   ],
   "source": [
    "arr15 / 10 # Scalar is broadcasted to each array element:"
   ]
  },
  {
   "cell_type": "code",
   "execution_count": 300,
   "metadata": {},
   "outputs": [
    {
     "data": {
      "text/plain": [
       "array([1.        , 0.5       , 0.33333333, 0.25      , 0.2       ,\n",
       "       0.16666667, 0.14285714, 0.125     , 0.11111111, 0.1       ,\n",
       "       0.09090909, 0.08333333, 0.07692308, 0.07142857, 0.06666667,\n",
       "       0.0625    , 0.05882353, 0.05555556, 0.05263158, 0.05      ,\n",
       "       0.04761905, 0.04545455, 0.04347826, 0.04166667, 0.04      ,\n",
       "       0.03846154, 0.03703704, 0.03571429, 0.03448276, 0.03333333,\n",
       "       0.03225806, 0.03125   , 0.03030303, 0.02941176, 0.02857143,\n",
       "       0.02777778, 0.02702703, 0.02631579, 0.02564103, 0.025     ,\n",
       "       0.02439024, 0.02380952, 0.02325581, 0.02272727, 0.02222222,\n",
       "       0.02173913, 0.0212766 , 0.02083333, 0.02040816, 0.02      ,\n",
       "       0.01960784, 0.01923077, 0.01886792, 0.01851852, 0.01818182,\n",
       "       0.01785714, 0.01754386, 0.01724138, 0.01694915, 0.01666667,\n",
       "       0.01639344, 0.01612903, 0.01587302, 0.015625  , 0.01538462,\n",
       "       0.01515152, 0.01492537, 0.01470588, 0.01449275, 0.01428571,\n",
       "       0.01408451, 0.01388889, 0.01369863, 0.01351351, 0.01333333,\n",
       "       0.01315789, 0.01298701, 0.01282051, 0.01265823, 0.0125    ,\n",
       "       0.01234568, 0.01219512, 0.01204819, 0.01190476, 0.01176471,\n",
       "       0.01162791, 0.01149425, 0.01136364, 0.01123596, 0.01111111,\n",
       "       0.01098901, 0.01086957, 0.01075269, 0.0106383 , 0.01052632,\n",
       "       0.01041667, 0.01030928, 0.01020408, 0.01010101, 0.01      ])"
      ]
     },
     "execution_count": 300,
     "metadata": {},
     "output_type": "execute_result"
    }
   ],
   "source": [
    "arr15 / arr16 # Element-element operation (because shapes agree)"
   ]
  },
  {
   "cell_type": "code",
   "execution_count": 302,
   "metadata": {},
   "outputs": [
    {
     "ename": "ValueError",
     "evalue": "operands could not be broadcast together with shapes (100,) (10,) ",
     "output_type": "error",
     "traceback": [
      "\u001b[0;31m---------------------------------------------------------------------------\u001b[0m",
      "\u001b[0;31mValueError\u001b[0m                                Traceback (most recent call last)",
      "\u001b[0;32m<ipython-input-302-8d3903c8b5fe>\u001b[0m in \u001b[0;36m<module>\u001b[0;34m\u001b[0m\n\u001b[1;32m      1\u001b[0m \u001b[0;31m# However, if we try:\u001b[0m\u001b[0;34m\u001b[0m\u001b[0;34m\u001b[0m\u001b[0;34m\u001b[0m\u001b[0m\n\u001b[1;32m      2\u001b[0m \u001b[0;34m\u001b[0m\u001b[0m\n\u001b[0;32m----> 3\u001b[0;31m \u001b[0marr15\u001b[0m \u001b[0;34m/\u001b[0m \u001b[0marr16\u001b[0m\u001b[0;34m[\u001b[0m\u001b[0;34m:\u001b[0m\u001b[0;36m10\u001b[0m\u001b[0;34m]\u001b[0m\u001b[0;34m\u001b[0m\u001b[0;34m\u001b[0m\u001b[0m\n\u001b[0m",
      "\u001b[0;31mValueError\u001b[0m: operands could not be broadcast together with shapes (100,) (10,) "
     ]
    }
   ],
   "source": [
    "# However, if we try:\n",
    "\n",
    "arr15 / arr16[:10]"
   ]
  },
  {
   "cell_type": "markdown",
   "metadata": {},
   "source": [
    "### Some broadcasting \"magic\"\n",
    "\n",
    "Array broadcasting is quite powerful. For example:"
   ]
  },
  {
   "cell_type": "code",
   "execution_count": 330,
   "metadata": {},
   "outputs": [
    {
     "data": {
      "text/plain": [
       "array([0, 1, 2, 3, 4, 5, 6, 7, 8, 9])"
      ]
     },
     "execution_count": 330,
     "metadata": {},
     "output_type": "execute_result"
    }
   ],
   "source": [
    "arr17 = np.arange(10)\n",
    "arr17"
   ]
  },
  {
   "cell_type": "code",
   "execution_count": 331,
   "metadata": {},
   "outputs": [],
   "source": [
    "arr18 = arr17.reshape((1,10))\n",
    "arr19 = arr17.reshape((10,1))"
   ]
  },
  {
   "cell_type": "code",
   "execution_count": 332,
   "metadata": {},
   "outputs": [
    {
     "data": {
      "text/plain": [
       "array([[0, 1, 2, 3, 4, 5, 6, 7, 8, 9]])"
      ]
     },
     "execution_count": 332,
     "metadata": {},
     "output_type": "execute_result"
    }
   ],
   "source": [
    "arr18"
   ]
  },
  {
   "cell_type": "code",
   "execution_count": 333,
   "metadata": {},
   "outputs": [
    {
     "data": {
      "text/plain": [
       "array([[0],\n",
       "       [1],\n",
       "       [2],\n",
       "       [3],\n",
       "       [4],\n",
       "       [5],\n",
       "       [6],\n",
       "       [7],\n",
       "       [8],\n",
       "       [9]])"
      ]
     },
     "execution_count": 333,
     "metadata": {},
     "output_type": "execute_result"
    }
   ],
   "source": [
    "arr19"
   ]
  },
  {
   "cell_type": "code",
   "execution_count": 334,
   "metadata": {},
   "outputs": [
    {
     "data": {
      "text/plain": [
       "array([[  1,   2,   3,   4,   5,   6,   7,   8,   9,  10],\n",
       "       [ 11,  12,  13,  14,  15,  16,  17,  18,  19,  20],\n",
       "       [ 21,  22,  23,  24,  25,  26,  27,  28,  29,  30],\n",
       "       [ 31,  32,  33,  34,  35,  36,  37,  38,  39,  40],\n",
       "       [ 41,  42,  43,  44,  45,  46,  47,  48,  49,  50],\n",
       "       [ 51,  52,  53,  54,  55,  56,  57,  58,  59,  60],\n",
       "       [ 61,  62,  63,  64,  65,  66,  67,  68,  69,  70],\n",
       "       [ 71,  72,  73,  74,  75,  76,  77,  78,  79,  80],\n",
       "       [ 81,  82,  83,  84,  85,  86,  87,  88,  89,  90],\n",
       "       [ 91,  92,  93,  94,  95,  96,  97,  98,  99, 100]])"
      ]
     },
     "execution_count": 334,
     "metadata": {},
     "output_type": "execute_result"
    }
   ],
   "source": [
    "arr20 = arr18+arr19*10+1\n",
    "arr20"
   ]
  },
  {
   "cell_type": "code",
   "execution_count": 335,
   "metadata": {},
   "outputs": [
    {
     "data": {
      "text/plain": [
       "<matplotlib.colorbar.Colorbar at 0x7f018c598f50>"
      ]
     },
     "execution_count": 335,
     "metadata": {},
     "output_type": "execute_result"
    },
    {
     "data": {
      "image/png": "[encoded data removed]",
      "text/plain": [
       "<Figure size 432x288 with 2 Axes>"
      ]
     },
     "metadata": {
      "needs_background": "light"
     },
     "output_type": "display_data"
    }
   ],
   "source": [
    "plt.imshow(arr20)\n",
    "plt.colorbar()"
   ]
  },
  {
   "cell_type": "markdown",
   "metadata": {},
   "source": [
    "### IMPORTANT: Using boolean indices as masks\n",
    "\n",
    "It is possible to mask, select and replace values by evaluating arrays. For example, let's replace all even numbers in the previous array:"
   ]
  },
  {
   "cell_type": "code",
   "execution_count": 338,
   "metadata": {},
   "outputs": [],
   "source": [
    "arr_mask = arr20 % 2 == 0"
   ]
  },
  {
   "cell_type": "code",
   "execution_count": 341,
   "metadata": {},
   "outputs": [
    {
     "data": {
      "text/plain": [
       "array([[False,  True, False,  True, False,  True, False,  True, False,\n",
       "         True],\n",
       "       [False,  True, False,  True, False,  True, False,  True, False,\n",
       "         True],\n",
       "       [False,  True, False,  True, False,  True, False,  True, False,\n",
       "         True],\n",
       "       [False,  True, False,  True, False,  True, False,  True, False,\n",
       "         True],\n",
       "       [False,  True, False,  True, False,  True, False,  True, False,\n",
       "         True],\n",
       "       [False,  True, False,  True, False,  True, False,  True, False,\n",
       "         True],\n",
       "       [False,  True, False,  True, False,  True, False,  True, False,\n",
       "         True],\n",
       "       [False,  True, False,  True, False,  True, False,  True, False,\n",
       "         True],\n",
       "       [False,  True, False,  True, False,  True, False,  True, False,\n",
       "         True],\n",
       "       [False,  True, False,  True, False,  True, False,  True, False,\n",
       "         True]])"
      ]
     },
     "execution_count": 341,
     "metadata": {},
     "output_type": "execute_result"
    }
   ],
   "source": [
    "arr_mask"
   ]
  },
  {
   "cell_type": "code",
   "execution_count": 343,
   "metadata": {},
   "outputs": [
    {
     "data": {
      "text/plain": [
       "array([[ 1,  0,  3,  0,  5,  0,  7,  0,  9,  0],\n",
       "       [11,  0, 13,  0, 15,  0, 17,  0, 19,  0],\n",
       "       [21,  0, 23,  0, 25,  0, 27,  0, 29,  0],\n",
       "       [31,  0, 33,  0, 35,  0, 37,  0, 39,  0],\n",
       "       [41,  0, 43,  0, 45,  0, 47,  0, 49,  0],\n",
       "       [51,  0, 53,  0, 55,  0, 57,  0, 59,  0],\n",
       "       [61,  0, 63,  0, 65,  0, 67,  0, 69,  0],\n",
       "       [71,  0, 73,  0, 75,  0, 77,  0, 79,  0],\n",
       "       [81,  0, 83,  0, 85,  0, 87,  0, 89,  0],\n",
       "       [91,  0, 93,  0, 95,  0, 97,  0, 99,  0]])"
      ]
     },
     "execution_count": 343,
     "metadata": {},
     "output_type": "execute_result"
    }
   ],
   "source": [
    "# Replace the numbers by 0:\n",
    "arr20[ arr_mask] = 0\n",
    "arr20"
   ]
  },
  {
   "cell_type": "code",
   "execution_count": 344,
   "metadata": {},
   "outputs": [
    {
     "data": {
      "text/plain": [
       "<matplotlib.image.AxesImage at 0x7f018c476810>"
      ]
     },
     "execution_count": 344,
     "metadata": {},
     "output_type": "execute_result"
    },
    {
     "data": {
      "image/png": "[encoded data removed]",
      "text/plain": [
       "<Figure size 432x288 with 1 Axes>"
      ]
     },
     "metadata": {
      "needs_background": "light"
     },
     "output_type": "display_data"
    }
   ],
   "source": [
    "plt.clf()\n",
    "plt.imshow(arr20)"
   ]
  },
  {
   "cell_type": "code",
   "execution_count": 346,
   "metadata": {},
   "outputs": [
    {
     "data": {
      "text/plain": [
       "array([[ 1,  0,  3,  0,  0,  0,  7,  0,  9,  0],\n",
       "       [11,  0, 13,  0,  0,  0, 17,  0, 19,  0],\n",
       "       [21,  0, 23,  0,  0,  0, 27,  0, 29,  0],\n",
       "       [31,  0, 33,  0,  0,  0, 37,  0, 39,  0],\n",
       "       [41,  0, 43,  0,  0,  0, 47,  0, 49,  0],\n",
       "       [51,  0, 53,  0,  0,  0, 57,  0, 59,  0],\n",
       "       [61,  0, 63,  0,  0,  0, 67,  0, 69,  0],\n",
       "       [71,  0, 73,  0,  0,  0, 77,  0, 79,  0],\n",
       "       [81,  0, 83,  0,  0,  0, 87,  0, 89,  0],\n",
       "       [91,  0, 93,  0,  0,  0, 97,  0, 99,  0]])"
      ]
     },
     "execution_count": 346,
     "metadata": {},
     "output_type": "execute_result"
    }
   ],
   "source": [
    "# This can also be done in place, and even combine using \"and\" (&) and \"or\" (|) operators:\n",
    "arr21 = arr18+arr19*10+1 # Same as arr20\n",
    "\n",
    "arr21[ (arr21 % 2 == 0) | (arr21 % 5 == 0)] = 0\n",
    "arr21"
   ]
  },
  {
   "cell_type": "markdown",
   "metadata": {},
   "source": [
    "### Random number generators and sampling form probability distributions\n",
    "\n",
    "Numpy and scipy include pseudo-random generators. These are very useful in science, for example, for Monte-Carlo methods.\n",
    "\n",
    "A quick example: What is the distribution of the sum of rolling N dice?\n",
    "\n",
    "We can quickly produce an histogram:"
   ]
  },
  {
   "cell_type": "code",
   "execution_count": 386,
   "metadata": {},
   "outputs": [],
   "source": [
    "np.random.seed(42) # Set the random seed, so results are replicable.\n",
    "ndice = 6\n",
    "nrepeats = 100000\n",
    "dice = np.random.randint( 1,7,(nrepeats, ndice), dtype=int)"
   ]
  },
  {
   "cell_type": "code",
   "execution_count": 387,
   "metadata": {},
   "outputs": [
    {
     "data": {
      "text/plain": [
       "array([[4, 5, 3, 5, 5, 2],\n",
       "       [3, 3, 3, 5, 4, 3],\n",
       "       [6, 5, 2, 4, 6, 6],\n",
       "       ...,\n",
       "       [5, 2, 6, 1, 1, 5],\n",
       "       [2, 1, 1, 2, 1, 5],\n",
       "       [1, 2, 3, 3, 1, 3]])"
      ]
     },
     "execution_count": 387,
     "metadata": {},
     "output_type": "execute_result"
    }
   ],
   "source": [
    "dice"
   ]
  },
  {
   "cell_type": "code",
   "execution_count": 388,
   "metadata": {},
   "outputs": [
    {
     "data": {
      "text/plain": [
       "array([24, 21, 29, ..., 20, 12, 13])"
      ]
     },
     "execution_count": 388,
     "metadata": {},
     "output_type": "execute_result"
    }
   ],
   "source": [
    "# Add the dice rolls along axis 1:\n",
    "dice_sum = dice.sum(axis=1)\n",
    "dice_sum"
   ]
  },
  {
   "cell_type": "code",
   "execution_count": 389,
   "metadata": {},
   "outputs": [
    {
     "data": {
      "image/png": "[encoded data removed]",
      "text/plain": [
       "<Figure size 432x288 with 1 Axes>"
      ]
     },
     "metadata": {
      "needs_background": "light"
     },
     "output_type": "display_data"
    }
   ],
   "source": [
    "xmin, xmax = dice_sum.min(), dice_sum.max() # Calculate bins:\n",
    "counts, bins, _ = plt.hist(dice.sum(axis=1), bins=np.linspace(xmin, xmax, (xmax-xmin+1)))"
   ]
  },
  {
   "cell_type": "code",
   "execution_count": 390,
   "metadata": {},
   "outputs": [
    {
     "name": "stdout",
     "output_type": "stream",
     "text": [
      "Maximum occurs at: 21.0\n"
     ]
    }
   ],
   "source": [
    "print( f\"Maximum occurs at: {bins[ counts.argmax()]}\")"
   ]
  },
  {
   "cell_type": "markdown",
   "metadata": {},
   "source": [
    "### Exercise: read about `ogrid` and `mgrid`.\n",
    "\n",
    "After, use either function to generate a 1000x1000 2d array, valued between 0 and 10 in both axes, that you will use to evaluate a 2d Gaussian function centered at (x,y)=(4, 5.5) and sigma=2. Use matplotlib.imshow to show your results."
   ]
  },
  {
   "cell_type": "code",
   "execution_count": null,
   "metadata": {},
   "outputs": [],
   "source": []
  },
  {
   "cell_type": "code",
   "execution_count": null,
   "metadata": {},
   "outputs": [],
   "source": []
  }
 ],
 "metadata": {
  "kernelspec": {
   "display_name": "Python 3",
   "language": "python",
   "name": "python3"
  },
  "language_info": {
   "codemirror_mode": {
    "name": "ipython",
    "version": 3
   },
   "file_extension": ".py",
   "mimetype": "text/x-python",
   "name": "python",
   "nbconvert_exporter": "python",
   "pygments_lexer": "ipython3",
   "version": "3.7.4"
  }
 },
 "nbformat": 4,
 "nbformat_minor": 4
}
