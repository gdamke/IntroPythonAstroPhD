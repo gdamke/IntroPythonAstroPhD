{
 "cells": [
  {
   "cell_type": "code",
   "execution_count": null,
   "metadata": {},
   "outputs": [],
   "source": [
    "__version__ = \"20201111\"\n",
    "__author__ = \"Guillermo Damke <gdamke@gmail.com>\""
   ]
  },
  {
   "cell_type": "markdown",
   "metadata": {},
   "source": [
    "# Conditional Statements and Loops in Python\n",
    "\n",
    "*Python for Astronomy, Astronomy Ph.D. program, Universidad de La Serena, 2020*"
   ]
  },
  {
   "cell_type": "markdown",
   "metadata": {},
   "source": [
    "## Conditional Statements\n",
    "\n",
    "#### Why do we need Conditional Statements?\n",
    "\n",
    "\"In computer science, conditional statements, conditional expressions and conditional constructs are features of a programming language, which perform different computations or actions depending on whether a **programmer-specified boolean condition evaluates to true or false**. [...] This is always achieved by **selectively altering the control flow based on some condition.**\" (from Wikipedia)\n",
    "\n",
    "#### Structure of a Conditional Statement\n",
    "\n",
    "Conditional statements use three instructions:\n",
    "\n",
    "* `if` (mandatory)\n",
    "* `elif`: shortening for *else if* (optional, and may appear multiple times)\n",
    "* `else`: (optional)\n",
    "\n",
    "It is important to note that the instructions always appear in the order used above.\n",
    "\n",
    "The conditions are implemented as shown below:"
   ]
  },
  {
   "cell_type": "raw",
   "metadata": {},
   "source": [
    "if <condition(s) that evaluates to True or False>:\n",
    "     Code to be executed only if condition is True\n",
    "     \n",
    "elif <condition(s) that evaluates to True or False>:\n",
    "     Some code to be executed if the condition evaluates as True AND the previous evaluation(s) were False (i.e., not executed).\n",
    "     \n",
    "else:\n",
    "     Code to be executed if no previous condition was evaluated as True."
   ]
  },
  {
   "cell_type": "markdown",
   "metadata": {},
   "source": [
    "Another relevant consideration is that only *one* block of code will be executed, if more than one conditional evaluates to True.\n",
    "\n",
    "For example, let's review the example below:"
   ]
  },
  {
   "cell_type": "code",
   "execution_count": null,
   "metadata": {},
   "outputs": [],
   "source": [
    "# Set two variables\n",
    "a,b = 1,3 \n",
    "\n",
    "# Implement conditionals:\n",
    "if a < 2 and b > 0:\n",
    "    print('Executing \"if\" block')\n",
    "elif b < 4:\n",
    "    print('Executing \"elif\" block')\n",
    "else:\n",
    "    print('Executing \"else\" block')\n",
    "    \n",
    "print( f'\\nNotice that the expression \"b < 4\" is {(b<4)}')"
   ]
  },
  {
   "cell_type": "markdown",
   "metadata": {},
   "source": [
    "Using the example above, it may be useful to \"see\" the conditional statements being evaluated like this:"
   ]
  },
  {
   "cell_type": "code",
   "execution_count": null,
   "metadata": {},
   "outputs": [],
   "source": [
    "if True and True:\n",
    "    print('Executing \"if\" block')\n",
    "elif True:\n",
    "    print('Executing \"elif\" block')\n",
    "else:\n",
    "    print('Executing \"else\" block')"
   ]
  },
  {
   "cell_type": "markdown",
   "metadata": {},
   "source": [
    "Again, check that the block within the elif statement was not executed."
   ]
  },
  {
   "cell_type": "markdown",
   "metadata": {},
   "source": [
    "#### Exercise 1:\n",
    "\n",
    "- Change the value of `a` above and check how the following instructions are executed.\n",
    "- Change the boolean values in the last block of code."
   ]
  },
  {
   "cell_type": "markdown",
   "metadata": {},
   "source": [
    "### Nested conditional statements (condicionales anidados)\n",
    "\n",
    "It is possible to write nested structures at multiple levels (i.e., conditional statemens within conditional statements). They are implemented in Python according to the indentation level. For example:"
   ]
  },
  {
   "cell_type": "code",
   "execution_count": null,
   "metadata": {},
   "outputs": [],
   "source": [
    "a,b,c,d = 1,3,5,'a nice sentence' # Notice that we can assign several variables simultaneously!\n",
    "\n",
    "if a < 2 and (b < 3 or c >= 5):\n",
    "    print('Executing \"if\" block...')\n",
    "    if \"nice\" in d: # Have you seen that we can evaluate substrings like this?\n",
    "        print('  You executed a nested statement because you wrote a \"nice\" sentence.')\n",
    "    else:\n",
    "        print(\"  The sentence is not nice anymore\")\n"
   ]
  },
  {
   "cell_type": "markdown",
   "metadata": {},
   "source": [
    "Finally, note some important things in the example:\n",
    "* neither the `elif` or the `else` statements were used in the outer statement, because they are optional and we do not want to execute any code if the condition is not met.\n",
    "* the inner statement does not have an `elif` clause because we do not need to evaluate any other option.\n"
   ]
  },
  {
   "cell_type": "markdown",
   "metadata": {},
   "source": [
    "#### Exercise 2:\n",
    "\n",
    "Change the word \"nice\" in the string above and execute the code."
   ]
  },
  {
   "cell_type": "markdown",
   "metadata": {},
   "source": [
    "# Loops\n",
    "\n",
    "*A loop is a sequence of statements which is specified once but which may be carried out several times in succession. The code \"inside\" the loop (the body of the loop) is obeyed a **specified number of times**, or **once for each of a collection of items**, or **until some condition is met**, or **indefinitely**.* (from Wikipedia)\n",
    "\n",
    "\n",
    "Python has two instructions to implement loops:\n",
    "* `for`\n",
    "* `while`\n",
    "\n",
    "Following the cases in definition above:\n",
    "\n",
    "* The `for` instruction in Python is executed over *a collection of items* (actually, always over an *iterable*)\n",
    "* The `while` instruction in Python is executed if *some condition is met*"
   ]
  },
  {
   "cell_type": "markdown",
   "metadata": {},
   "source": [
    "## The `for` loop:\n",
    "\n",
    "The `for` instruction is implemented over an *iterable*. Some examples of iterables in Python are `list`, `tuple`, `dictionary`, `string`, `numpy.array`, `astropy.table` and many others."
   ]
  },
  {
   "cell_type": "code",
   "execution_count": null,
   "metadata": {},
   "outputs": [],
   "source": [
    "a_list = [\"comet\", \"asteroid\", \"planet\"] # Define an object that is iterable.\n",
    "\n",
    "for element in a_list:\n",
    "    print( f\"The solar system has {element}s\")"
   ]
  },
  {
   "cell_type": "code",
   "execution_count": null,
   "metadata": {},
   "outputs": [],
   "source": [
    "a_string = \"I AM NOT YELLING AT YOU!\"\n",
    "\n",
    "for c in a_string:\n",
    "    print(c)"
   ]
  },
  {
   "cell_type": "markdown",
   "metadata": {},
   "source": [
    "Some other ways to iterate over elements are using the `range` and `len` functions function to generate indices (although why would you do that?) and the `enumerate` instruction."
   ]
  },
  {
   "cell_type": "code",
   "execution_count": null,
   "metadata": {},
   "outputs": [],
   "source": [
    "for i in range(len(a_list)):\n",
    "    print(f\"The index is {i} and the element is {a_list[i]}.\")"
   ]
  },
  {
   "cell_type": "markdown",
   "metadata": {},
   "source": [
    "If you need to use the index for something (see below for an example), you can use the `enumerate` function."
   ]
  },
  {
   "cell_type": "code",
   "execution_count": null,
   "metadata": {},
   "outputs": [],
   "source": [
    "for i,element in enumerate(a_list):\n",
    "    print(f\"The index is {i} and the element is {element}.\")"
   ]
  },
  {
   "cell_type": "markdown",
   "metadata": {},
   "source": [
    "Now, let's imagine we have another list that we want to iterate (this is a bad example, because we will show a better way to implement what we will do below)."
   ]
  },
  {
   "cell_type": "code",
   "execution_count": null,
   "metadata": {},
   "outputs": [],
   "source": [
    "colors = ['blue', 'red', 'green']\n",
    "\n",
    "for i,element in enumerate(a_list):\n",
    "    my_object = f\"{colors[i]} {element}\"\n",
    "    print( \"The Solar System has {}s\".format(my_object))"
   ]
  },
  {
   "cell_type": "markdown",
   "metadata": {},
   "source": [
    "However, there is a better way to iterate over multiple lists simultaneously: the `zip` function."
   ]
  },
  {
   "cell_type": "code",
   "execution_count": null,
   "metadata": {},
   "outputs": [],
   "source": [
    "for elements in zip(colors, a_list):\n",
    "    col, obj = elements\n",
    "    my_object = f\"{elements[0]} {elements[1]}\"\n",
    "    print( \"The Solar System has {}s\".format(my_object))"
   ]
  },
  {
   "cell_type": "markdown",
   "metadata": {},
   "source": [
    "What if we need the index anyway?"
   ]
  },
  {
   "cell_type": "code",
   "execution_count": null,
   "metadata": {},
   "outputs": [],
   "source": [
    "for i,(color, objeto) in enumerate( zip(colors, a_list)): # Note the use of () \n",
    "    my_object = f\"{color} {objeto}\"\n",
    "    print( \"The object {N} is a {OBJ}.\".format(OBJ=my_object, N=i+1)) # Another way to use format strings."
   ]
  },
  {
   "cell_type": "markdown",
   "metadata": {},
   "source": [
    "## Loops with `while`\n",
    "\n",
    "Another way to implement loops is through the `while` instruction. Use this function if you need to execute a task *while* some condition evaluates as True (actually, it is more useful to think about it as *not False*, so that the loop stops when a condition is satisfied). For example:"
   ]
  },
  {
   "cell_type": "code",
   "execution_count": null,
   "metadata": {},
   "outputs": [],
   "source": [
    "# What is N so that the sum of N, N-1, N-2... adds up to 1e5?\n",
    "total = 0\n",
    "N = 1\n",
    "while total < 1e5:\n",
    "    total = total + N\n",
    "    N += 1 # This is equivalent to N = N + 1!\n",
    "print(\"Total is {} for N={}\".format(total,N))"
   ]
  },
  {
   "cell_type": "code",
   "execution_count": null,
   "metadata": {},
   "outputs": [],
   "source": [
    "# Equivalently\n",
    "total = 0\n",
    "N = 0\n",
    "while not (total >= 1e5):\n",
    "    N += 1 # This is equivalent to N = N + 1!\n",
    "    total = total + N\n",
    "print(\"Total is {} for N={}\".format(total,N))"
   ]
  },
  {
   "cell_type": "markdown",
   "metadata": {},
   "source": [
    "#### Exercise 3: \n",
    "\n",
    "Compare the value of N in both blocks above. Which is right? Check your reassoning by implementing a code that checks the correct result in the cell below."
   ]
  },
  {
   "cell_type": "code",
   "execution_count": null,
   "metadata": {},
   "outputs": [],
   "source": []
  },
  {
   "cell_type": "markdown",
   "metadata": {},
   "source": [
    "### Nested loops (Loops anidados)\n",
    "\n",
    "Similarly to conditional clauses, you can construct nested loops. As expected, they are implemented according to the level of indentation. For example:"
   ]
  },
  {
   "cell_type": "code",
   "execution_count": null,
   "metadata": {},
   "outputs": [],
   "source": [
    "from math import sqrt\n",
    "xvals = range(150)\n",
    "yvals = range(100)\n",
    "\n",
    "xcenter = 25\n",
    "ycenter = 60\n",
    "\n",
    "image = []\n",
    "for j in yvals:\n",
    "    line = []\n",
    "    yv = (j-ycenter)\n",
    "    for i in xvals:\n",
    "        xv = (i-xcenter)\n",
    "        line.append( sqrt( xv*xv + yv*yv))\n",
    "    image.append(line)\n",
    "\n",
    "print(image, \"\\n N:\", len(image))"
   ]
  },
  {
   "cell_type": "code",
   "execution_count": null,
   "metadata": {},
   "outputs": [],
   "source": [
    "# Do a plot of the nested lists generated.\n",
    "import matplotlib.pyplot as plt\n",
    "fig, ax = plt.subplots(1,1, dpi=(120),subplot_kw={'aspect':'equal'})\n",
    "v = ax.contourf(image, origin='lower', levels=20)\n",
    "cbar = fig.colorbar(v)\n",
    "ax.set_xlabel('X')\n",
    "ax.set_ylabel(\"Y\")\n",
    "ax.set_title(\"Circles\");"
   ]
  },
  {
   "cell_type": "markdown",
   "metadata": {},
   "source": [
    "### Lists by comprehension"
   ]
  },
  {
   "cell_type": "markdown",
   "metadata": {},
   "source": [
    "Lists by comprehension are another useful characteristic. Basically, they are implementations of `for` loops as a one-liner."
   ]
  },
  {
   "cell_type": "code",
   "execution_count": null,
   "metadata": {},
   "outputs": [],
   "source": [
    "squares = [(i+1)**2 for i in range(15)]\n",
    "print(squares)"
   ]
  },
  {
   "cell_type": "markdown",
   "metadata": {},
   "source": [
    "It is possible to also add conditional statements:"
   ]
  },
  {
   "cell_type": "code",
   "execution_count": null,
   "metadata": {},
   "outputs": [],
   "source": [
    "odd_squares = [(i+1)**2 for i in range(15) if (i+1)**2 % 2 != 0]\n",
    "print(odd_squares)"
   ]
  },
  {
   "cell_type": "markdown",
   "metadata": {},
   "source": [
    "And nested `if`'s"
   ]
  },
  {
   "cell_type": "code",
   "execution_count": null,
   "metadata": {},
   "outputs": [],
   "source": [
    "odd_squares_not_mult_5 = [(i+1)**2 for i in range(15) if (i+1)**2 % 2 != 0 if (i+1)**2 % 5 != 0]\n",
    "print(odd_squares_not_mult_5)"
   ]
  },
  {
   "cell_type": "markdown",
   "metadata": {},
   "source": [
    "Constructing `if`-`else` clauses:"
   ]
  },
  {
   "cell_type": "code",
   "execution_count": null,
   "metadata": {},
   "outputs": [],
   "source": [
    "odd_even = [f\"{(i+1)**2}:{'odd'}\" if (i+1)**2 % 2 != 0 else f\"{(i+1)**2}:{'even'}\" for i in range(15)]"
   ]
  },
  {
   "cell_type": "code",
   "execution_count": null,
   "metadata": {},
   "outputs": [],
   "source": [
    "odd_even"
   ]
  },
  {
   "cell_type": "markdown",
   "metadata": {},
   "source": [
    "And, finally, nested list comprehensions:"
   ]
  },
  {
   "cell_type": "code",
   "execution_count": null,
   "metadata": {},
   "outputs": [],
   "source": [
    "matrix_elements = [[f\"{i+1},{j+1}\" for j in range(4)] for i in range(4)]"
   ]
  },
  {
   "cell_type": "code",
   "execution_count": null,
   "metadata": {},
   "outputs": [],
   "source": [
    "matrix_elements"
   ]
  },
  {
   "cell_type": "code",
   "execution_count": null,
   "metadata": {},
   "outputs": [],
   "source": []
  }
 ],
 "metadata": {
  "kernelspec": {
   "display_name": "Python 3",
   "language": "python",
   "name": "python3"
  },
  "language_info": {
   "codemirror_mode": {
    "name": "ipython",
    "version": 3
   },
   "file_extension": ".py",
   "mimetype": "text/x-python",
   "name": "python",
   "nbconvert_exporter": "python",
   "pygments_lexer": "ipython3",
   "version": "3.7.4"
  }
 },
 "nbformat": 4,
 "nbformat_minor": 4
}
