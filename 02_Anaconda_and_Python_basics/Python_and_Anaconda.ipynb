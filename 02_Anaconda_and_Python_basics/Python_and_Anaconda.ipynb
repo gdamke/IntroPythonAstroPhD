{
 "cells": [
  {
   "cell_type": "code",
   "execution_count": 1,
   "metadata": {},
   "outputs": [],
   "source": [
    "# version = 20211023\n",
    "# author = Guillermo Damke (gdamke@gmail.com)"
   ]
  },
  {
   "cell_type": "markdown",
   "metadata": {},
   "source": [
    "# Python, Anaconda and Python environments"
   ]
  },
  {
   "cell_type": "markdown",
   "metadata": {},
   "source": [
    "*Python is an interpreted, high-level and general-purpose programming language. Created by Guido van Rossum and first released in 1991, Python's design philosophy emphasizes code readability with its notable use of significant whitespace.*"
   ]
  },
  {
   "cell_type": "markdown",
   "metadata": {},
   "source": [
    "Because it is usual that  `Python` is already installed as part of your operating system, you could ---in theory--- be able to execute any Python code in your system. However, it is more complex than that."
   ]
  },
  {
   "cell_type": "code",
   "execution_count": 2,
   "metadata": {},
   "outputs": [],
   "source": [
    "# I will run this command to deactivate the conda environment that I am using for this Notebook momentarily.\n",
    "conda deactivate"
   ]
  },
  {
   "cell_type": "markdown",
   "metadata": {},
   "source": [
    "Most Linux/MacOS distributions should include a Python installation. To test this, you could try finding where your system will try to execute `python` with following command in a Terminal. Some systems (Debian-based in my case) will ship a Python 3 installed as `python3`.\n",
    "\n",
    "An important note: It was usual to use the name `python` for Python 2 executable and `python3` for the Python 3 executable, which would live alongside on the same system. However, recent Linux systems do not carry a Python 2 install anymore, because Python 2 reached its end-of-life with its latest release (2.7.18) on April 20, 2020."
   ]
  },
  {
   "cell_type": "code",
   "execution_count": 3,
   "metadata": {},
   "outputs": [
    {
     "name": "stdout",
     "output_type": "stream",
     "text": [
      "/usr/bin/python3\n"
     ]
    }
   ],
   "source": [
    "which python3"
   ]
  },
  {
   "cell_type": "markdown",
   "metadata": {},
   "source": [
    "The output `/usr/bin/python3` is telling us that the execultable is in our operating system (in the `/usr/bin` directory, where binary/executable files live)"
   ]
  },
  {
   "cell_type": "markdown",
   "metadata": {},
   "source": [
    "Python has several versions. As of today (Oct. 23, 2021) the latest release is Python 3.10. To check what version of Python is your OS' default, try:"
   ]
  },
  {
   "cell_type": "code",
   "execution_count": 4,
   "metadata": {},
   "outputs": [
    {
     "name": "stdout",
     "output_type": "stream",
     "text": [
      "Python 3.9.5\n"
     ]
    }
   ],
   "source": [
    "python3 --version"
   ]
  },
  {
   "cell_type": "markdown",
   "metadata": {},
   "source": [
    "As you can see, the default Python install in my system is Python 3.9.5, which is the last Python 3 release."
   ]
  },
  {
   "cell_type": "markdown",
   "metadata": {},
   "source": [
    "In principle, you could administrate this Python installation and use the tools in your OS to install/uninstall package. However, this is **highly discouraged**. Why?\n",
    "\n",
    "* Usually, the libraries in your OS won't be updated (depends on the OS), or not all packages will be included.\n",
    "* As we will see, you could use some other package administrators to install other packages or update the libraries in your system; however, this can break some software in your system that relies on an specific version of Python and libraries.\n",
    "\n",
    "What can we do then? Here is where Anaconda comes into the game!"
   ]
  },
  {
   "cell_type": "markdown",
   "metadata": {},
   "source": [
    "### Anaconda Python* distribution\n",
    "\n",
    "###### * and other languages"
   ]
  },
  {
   "cell_type": "markdown",
   "metadata": {},
   "source": [
    "*Anaconda is a free and open-source distribution of the Python and R programming languages for scientific computing (data science, machine learning applications, large-scale data processing, predictive analytics, etc.), that aims to simplify package management and deployment. The distribution includes data-science packages suitable for Windows, Linux, and macOS. It is developed and maintained by Anaconda, Inc.*"
   ]
  },
  {
   "cell_type": "markdown",
   "metadata": {},
   "source": [
    "Anaconda can be found in the following link: hppt://www.anaconda.com"
   ]
  },
  {
   "cell_type": "markdown",
   "metadata": {},
   "source": [
    "Acconding to their creators, Anaconda offers:\n",
    "\n",
    "* Open Source\n",
    "* Conda packages\n",
    "* Manage environments"
   ]
  },
  {
   "cell_type": "markdown",
   "metadata": {},
   "source": [
    "In addition to the advantages of Open Source software, Anaconda allows you to **manage environments**. This is, you can manage multiple, separate Python (and other languages) installations independently and *as a user* (i.e., no need for root privileges)."
   ]
  },
  {
   "cell_type": "markdown",
   "metadata": {},
   "source": [
    "#### Installing Anaconda\n",
    "\n",
    "Personally, I recommend installing *miniconda*. Miniconda is a minimal Python install within the *base* environment. You then create your own work environments as new environments. Then, if you break your working environment, you do not break the base environment of the install. Adittionally, a minimal base environment will use less space, and you only install the specific packages required for your work.\n",
    "\n",
    "For instance, the Miniconda installer (Linux, Python 3.8) is only 88.3 MB, while the Anaconda installer for the same OS and Python version uses 550 MB.\n",
    "\n",
    "Before installing Anaconda (miniconda), you first need to download the installer from https://docs.conda.io/en/latest/miniconda.html.\n",
    "\n",
    "For Linux: In your terminal, you can execute `wget https://repo.anaconda.com/miniconda/Miniconda3-latest-Linux-x86_64.sh`\n",
    "\n",
    "Then, execute the bash script and follow the instructions to install within your home directory."
   ]
  },
  {
   "cell_type": "markdown",
   "metadata": {},
   "source": [
    "### Managing the conda environments"
   ]
  },
  {
   "cell_type": "markdown",
   "metadata": {},
   "source": [
    "After installing conda, your install will contain the `base` environment. However, you need to activate the envorinment. For that, just do:\n",
    "\n",
    "`conda activate`\n",
    "\n",
    "Your BASH prompt will now contain the *(base)* string prepended:"
   ]
  },
  {
   "attachments": {
    "conda_base.png": {
     "image/png": "[encoded data removed]"
    }
   },
   "cell_type": "markdown",
   "metadata": {},
   "source": [
    "![conda_base.png](attachment:conda_base.png)"
   ]
  },
  {
   "cell_type": "markdown",
   "metadata": {},
   "source": [
    "Let's activate the base environment. For that, the anaconda (miniconda) install will add the `conda` command to your system. To activate an environment, use the `conda` command, followed by the `activate` argument:"
   ]
  },
  {
   "cell_type": "code",
   "execution_count": 5,
   "metadata": {},
   "outputs": [
    {
     "name": "stdout",
     "output_type": "stream",
     "text": [
      "(base) "
     ]
    },
    {
     "ename": "",
     "evalue": "1",
     "output_type": "error",
     "traceback": []
    }
   ],
   "source": [
    "conda activate"
   ]
  },
  {
   "cell_type": "markdown",
   "metadata": {},
   "source": [
    "Now, let's check what is the executable for Python:"
   ]
  },
  {
   "cell_type": "code",
   "execution_count": 6,
   "metadata": {},
   "outputs": [
    {
     "name": "stdout",
     "output_type": "stream",
     "text": [
      "/home/gdamke/miniconda/bin/python\n",
      "(base) "
     ]
    },
    {
     "ename": "",
     "evalue": "1",
     "output_type": "error",
     "traceback": []
    }
   ],
   "source": [
    "which python"
   ]
  },
  {
   "cell_type": "markdown",
   "metadata": {},
   "source": [
    "As you can see, now my python executable is within my `miniconda` install. Let's check the Python version:"
   ]
  },
  {
   "cell_type": "code",
   "execution_count": 7,
   "metadata": {},
   "outputs": [
    {
     "name": "stdout",
     "output_type": "stream",
     "text": [
      "Python 3.8.5\n",
      "(base) "
     ]
    },
    {
     "ename": "",
     "evalue": "1",
     "output_type": "error",
     "traceback": []
    }
   ],
   "source": [
    "python --version"
   ]
  },
  {
   "cell_type": "markdown",
   "metadata": {},
   "source": [
    "#### How to use the `conda` package manager?\n",
    "\n",
    "As we saw in the previous class, the best way to learn what a command does and how to use it is, arguably, checking its own *help*."
   ]
  },
  {
   "cell_type": "code",
   "execution_count": 8,
   "metadata": {},
   "outputs": [
    {
     "name": "stdout",
     "output_type": "stream",
     "text": [
      "usage: conda [-h] [-V] command ...\n",
      "\n",
      "conda is a tool for managing and deploying applications, environments and packages.\n",
      "\n",
      "Options:\n",
      "\n",
      "positional arguments:\n",
      "  command\n",
      "    clean        Remove unused packages and caches.\n",
      "    compare      Compare packages between conda environments.\n",
      "    config       Modify configuration values in .condarc. This is modeled\n",
      "                 after the git config command. Writes to the user .condarc\n",
      "                 file (/home/gdamke/.condarc) by default.\n",
      "    create       Create a new conda environment from a list of specified\n",
      "                 packages.\n",
      "    help         Displays a list of available conda commands and their help\n",
      "                 strings.\n",
      "    info         Display information about current conda install.\n",
      "    init         Initialize conda for shell interaction. [Experimental]\n",
      "    install      Installs a list of packages into a specified conda\n",
      "                 environment.\n",
      "    list         List linked packages in a conda environment.\n",
      "    package      Low-level conda package utility. (EXPERIMENTAL)\n",
      "    remove       Remove a list of packages from a specified conda environment.\n",
      "    uninstall    Alias for conda remove.\n",
      "    run          Run an executable in a conda environment. [Experimental]\n",
      "    search       Search for packages and display associated information. The\n",
      "                 input is a MatchSpec, a query language for conda packages.\n",
      "                 See examples below.\n",
      "    update       Updates conda packages to the latest compatible version.\n",
      "    upgrade      Alias for conda update.\n",
      "\n",
      "optional arguments:\n",
      "  -h, --help     Show this help message and exit.\n",
      "  -V, --version  Show the conda version number and exit.\n",
      "\n",
      "conda commands available from other packages:\n",
      "  env\n",
      "(base) "
     ]
    },
    {
     "ename": "",
     "evalue": "1",
     "output_type": "error",
     "traceback": []
    }
   ],
   "source": [
    "conda --help"
   ]
  },
  {
   "cell_type": "markdown",
   "metadata": {},
   "source": [
    "It is important to notice two things:\n",
    "\n",
    "* any of these arguments above will perform a different action that will result in a specific action and,\n",
    "* each of these arguments will have its own help. For example, let's check what conda does with the `create` argument."
   ]
  },
  {
   "cell_type": "code",
   "execution_count": 9,
   "metadata": {},
   "outputs": [
    {
     "name": "stdout",
     "output_type": "stream",
     "text": [
      "usage: conda create [-h] [--clone ENV] [-n ENVIRONMENT | -p PATH] [-c CHANNEL]\n",
      "                    [--use-local] [--override-channels]\n",
      "                    [--repodata-fn REPODATA_FNS] [--strict-channel-priority]\n",
      "                    [--no-channel-priority] [--no-deps | --only-deps]\n",
      "                    [--no-pin] [--copy] [-C] [-k] [--offline] [-d] [--json]\n",
      "                    [-q] [-v] [-y] [--download-only] [--show-channel-urls]\n",
      "                    [--file FILE] [--no-default-packages] [--dev]\n",
      "                    [package_spec [package_spec ...]]\n",
      "\n",
      "Create a new conda environment from a list of specified packages. To use the created environment, use 'conda activate envname' look in that directory first.  This command requires either the -n NAME or -p PREFIX option.\n",
      "\n",
      "Options:\n",
      "\n",
      "positional arguments:\n",
      "  package_spec          Packages to install or update in the conda\n",
      "                        environment.\n",
      "\n",
      "optional arguments:\n",
      "  -h, --help            Show this help message and exit.\n",
      "  --clone ENV           Path to (or name of) existing local environment.\n",
      "  --file FILE           Read package versions from the given file. Repeated\n",
      "                        file specifications can be passed (e.g. --file=file1\n",
      "                        --file=file2).\n",
      "  --dev                 Use `sys.executable -m conda` in wrapper scripts\n",
      "                        instead of CONDA_EXE. This is mainly for use during\n",
      "                        tests where we test new conda source against old\n",
      "                        Python versions.\n",
      "\n",
      "Target Environment Specification:\n",
      "  -n ENVIRONMENT, --name ENVIRONMENT\n",
      "                        Name of environment.\n",
      "  -p PATH, --prefix PATH\n",
      "                        Full path to environment location (i.e. prefix).\n",
      "\n",
      "Channel Customization:\n",
      "  -c CHANNEL, --channel CHANNEL\n",
      "                        Additional channel to search for packages. These are\n",
      "                        URLs searched in the order they are given (including\n",
      "                        local directories using the 'file://' syntax or simply\n",
      "                        a path like '/home/conda/mychan' or '../mychan').\n",
      "                        Then, the defaults or channels from .condarc are\n",
      "                        searched (unless --override-channels is given). You\n",
      "                        can use 'defaults' to get the default packages for\n",
      "                        conda. You can also use any name and the .condarc\n",
      "                        channel_alias value will be prepended. The default\n",
      "                        channel_alias is http://conda.anaconda.org/.\n",
      "  --use-local           Use locally built packages. Identical to '-c local'.\n",
      "  --override-channels   Do not search default or .condarc channels. Requires\n",
      "                        --channel.\n",
      "  --repodata-fn REPODATA_FNS\n",
      "                        Specify name of repodata on remote server. Conda will\n",
      "                        try whatever you specify, but will ultimately fall\n",
      "                        back to repodata.json if your specs are not\n",
      "                        satisfiable with what you specify here. This is used\n",
      "                        to employ repodata that is reduced in time scope. You\n",
      "                        may pass this flag more than once. Leftmost entries\n",
      "                        are tried first, and the fallback to repodata.json is\n",
      "                        added for you automatically.\n",
      "\n",
      "Solver Mode Modifiers:\n",
      "  --strict-channel-priority\n",
      "                        Packages in lower priority channels are not considered\n",
      "                        if a package with the same name appears in a higher\n",
      "                        priority channel.\n",
      "  --no-channel-priority\n",
      "                        Package version takes precedence over channel\n",
      "                        priority. Overrides the value given by `conda config\n",
      "                        --show channel_priority`.\n",
      "  --no-deps             Do not install, update, remove, or change\n",
      "                        dependencies. This WILL lead to broken environments\n",
      "                        and inconsistent behavior. Use at your own risk.\n",
      "  --only-deps           Only install dependencies.\n",
      "  --no-pin              Ignore pinned file.\n",
      "  --no-default-packages\n",
      "                        Ignore create_default_packages in the .condarc file.\n",
      "\n",
      "Package Linking and Install-time Options:\n",
      "  --copy                Install all packages using copies instead of hard- or\n",
      "                        soft-linking.\n",
      "\n",
      "Networking Options:\n",
      "  -C, --use-index-cache\n",
      "                        Use cache of channel index files, even if it has\n",
      "                        expired.\n",
      "  -k, --insecure        Allow conda to perform \"insecure\" SSL connections and\n",
      "                        transfers. Equivalent to setting 'ssl_verify' to\n",
      "                        'false'.\n",
      "  --offline             Offline mode. Don't connect to the Internet.\n",
      "\n",
      "Output, Prompt, and Flow Control Options:\n",
      "  -d, --dry-run         Only display what would have been done.\n",
      "  --json                Report all output as json. Suitable for using conda\n",
      "                        programmatically.\n",
      "  -q, --quiet           Do not display progress bar.\n",
      "  -v, --verbose         Can be used multiple times. Once for INFO, twice for\n",
      "                        DEBUG, three times for TRACE.\n",
      "  -y, --yes             Do not ask for confirmation.\n",
      "  --download-only       Solve an environment and ensure package caches are\n",
      "                        populated, but exit prior to unlinking and linking\n",
      "                        packages into the prefix.\n",
      "  --show-channel-urls   Show channel urls. Overrides the value given by `conda\n",
      "                        config --show show_channel_urls`.\n",
      "\n",
      "Examples:\n",
      "\n",
      "    conda create -n myenv sqlite\n",
      "(base) "
     ]
    },
    {
     "ename": "",
     "evalue": "1",
     "output_type": "error",
     "traceback": []
    }
   ],
   "source": [
    "conda create --help"
   ]
  },
  {
   "cell_type": "markdown",
   "metadata": {},
   "source": [
    "### Creating a minimal Python environment for astronomy:\n",
    "\n",
    "\n",
    "Let's create a Python environment for astronomy. First, begin by choosing a Python version and a name for it. For instance: Python 3.9 and \"astr39\", respectively. What parameters do we need to create it?"
   ]
  },
  {
   "cell_type": "markdown",
   "metadata": {},
   "source": [
    "**Exercise: Find the arguments for `conda create` to generate the Python environment with the requisites defined above.**"
   ]
  },
  {
   "cell_type": "markdown",
   "metadata": {},
   "source": [
    "Next, we will install the minimal required libraries. Based on my own experience, I suggest installing the following packages:\n",
    "* Numpy\n",
    "* Scipy\n",
    "* Matplotlib\n",
    "* Astropy\n",
    "* Pandas"
   ]
  },
  {
   "cell_type": "markdown",
   "metadata": {},
   "source": [
    "### How to proceed with the installation?\n",
    "\n",
    "We could have added these packages in the previous step, however, we will do now. This is simple:\n",
    "\n",
    "* First, use the `activate` argument to switch to the *astr39* environment.\n",
    "* Second, use `install` argument to add the required packages. Conda will seek these packages in repositories containing multiple Python packages.\n",
    "\n",
    "### IMPORTANT:\n",
    "\n",
    "Some packages *are not* available through `conda install`, but usually most packages can be reached through the `pip` tool. Similarly to `conda install`, `pip` lets you install Python packages in your current environment.\n",
    "\n",
    "*`pip` is the **package installer for Python**. You can use `pip` to install packages from the Python Package Index and other indexes. The Python Package index is a repository of software for the Python programming language (Visit https://pypi.org for more info)*"
   ]
  },
  {
   "cell_type": "markdown",
   "metadata": {},
   "source": [
    "### Some other relevant information"
   ]
  },
  {
   "cell_type": "markdown",
   "metadata": {},
   "source": [
    "The conda package manager also allows you to create an `xml` file with all the packages in an environment. This is quite useful in many situations, for example: you can create a list of the packages that you use to run some specific software/code, or as a backup of your work environment. This becomes handy, for example, if you want to share your code with a collaborator because you can include the specific required libraries; or if you want to replicate your conda environments in a second computer or if you get a new machine.\n",
    "\n",
    "Another useful argument is `info`. The following command will list all the installed environments."
   ]
  },
  {
   "cell_type": "code",
   "execution_count": 10,
   "metadata": {},
   "outputs": [
    {
     "name": "stdout",
     "output_type": "stream",
     "text": [
      "# conda environments:\n",
      "#\n",
      "base                  *  /home/gdamke/miniconda\n",
      "astr39                   /home/gdamke/miniconda/envs/astr39\n",
      "email                    /home/gdamke/miniconda/envs/email\n",
      "email_new                /home/gdamke/miniconda/envs/email_new\n",
      "spyder-env               /home/gdamke/miniconda/envs/spyder-env\n",
      "\n",
      "(base) "
     ]
    },
    {
     "ename": "",
     "evalue": "1",
     "output_type": "error",
     "traceback": []
    }
   ],
   "source": [
    "conda info --envs"
   ]
  },
  {
   "cell_type": "markdown",
   "metadata": {},
   "source": [
    "In this case, the `*` shows what environment is currently active."
   ]
  },
  {
   "cell_type": "markdown",
   "metadata": {},
   "source": [
    "Finally, it is important to keep your conda install up to date. This is a good practice to keep your system safe.\n",
    "To do so, activate the `base` environment and run `conda update conda` from time to time."
   ]
  }
 ],
 "metadata": {
  "kernelspec": {
   "display_name": "Bash",
   "language": "bash",
   "name": "bash"
  },
  "language_info": {
   "codemirror_mode": "shell",
   "file_extension": ".sh",
   "mimetype": "text/x-sh",
   "name": "bash"
  }
 },
 "nbformat": 4,
 "nbformat_minor": 4
}
