{
 "cells": [
  {
   "cell_type": "code",
   "execution_count": 1,
   "metadata": {},
   "outputs": [],
   "source": [
    "__author__ = \"Guillermo Damke <gdamke@gmail.com>\"\n",
    "__version__ = 20201218"
   ]
  },
  {
   "cell_type": "markdown",
   "metadata": {},
   "source": [
    "# Optimization with LMFIT"
   ]
  },
  {
   "cell_type": "markdown",
   "metadata": {},
   "source": [
    "\"Mathematical optimization is the selection of a best element (with regard to some criterion) from some set of available alternatives. Optimization problems of sorts arise in all quantitative disciplines from computer science and engineering to operations research and economics, and the development of solution methods has been of interest in mathematics for centuries\n",
    "\n",
    "In the simplest case, an optimization problem consists of maximizing or minimizing a real function by systematically choosing input values from within an allowed set and computing the value of the function. The generalization of optimization theory and techniques to other formulations constitutes a large area of applied mathematics. More generally, optimization includes finding \"best available\" values of some objective function given a defined domain (or input), including a variety of different types of objective functions and different types of domains.\" (quote from Wikipedia)"
   ]
  },
  {
   "cell_type": "markdown",
   "metadata": {},
   "source": [
    "Generally, an optimization problem can be represented in the following way:\n",
    "\n",
    "*Given:* a function $f : A → ℝ$ from some set $A$ to the real numbers\n",
    "\n",
    "*Sought:* an element $x_0 ∈ A$ such that:\n",
    "\n",
    "* $f(x0) ≤ f(x)$ for all $x ∈ A$ (\"minimization\")\n",
    "\n",
    "or such that:\n",
    "\n",
    "* $f(x0) ≥ f(x)$ for all $x ∈ A$ (\"maximization\").\n",
    "\n",
    "\n",
    "In addition, since the following is valid:\n",
    "\n",
    "$f(x_0) ≥ f(x) ⇔ f'(x0) ≤ f'(x)$\n",
    "\n",
    "with $f'(x)=-f(x)$, $f': A → R$\n",
    "    \n",
    "it is usual to solve maximization problem as a minimization problem. "
   ]
  },
  {
   "cell_type": "markdown",
   "metadata": {},
   "source": [
    "## LMFIT: Non-Linear Least-Squares Minimization and Curve-Fitting for Python\n",
    "\n",
    "For installation instructions, it is better to visit its website:\n",
    "\n",
    "https://lmfit.github.io/lmfit-py/installation.html\n",
    "\n",
    "The general documentation in the lmfit website is worth to read!"
   ]
  },
  {
   "cell_type": "markdown",
   "metadata": {},
   "source": [
    "From the LMFIT introduction:\n",
    "\n",
    "\"The lmfit package provides simple tools to help you build complex fitting models for non-linear least-squares problems and apply these models to real data. This section gives an overview of the concepts and describes how to set up and perform simple fits. Some basic knowledge of Python, NumPy, and modeling data are assumed – this is not a tutorial on why or how to perform a minimization or fit data, but is rather aimed at explaining how to use lmfit to do these things.\n",
    "\n",
    "In order to do a non-linear least-squares fit of a model to data or for any other optimization problem, the main task is to write an objective function that takes the values of the fitting variables and calculates either a scalar value to be minimized or an array of values that are to be minimized, typically in the least-squares sense. For many data fitting processes, the latter approach is used, and the objective function should return an array of (data-model), perhaps scaled by some weighting factor such as the inverse of the uncertainty in the data. For such a problem, the chi-square (𝜒2) statistic is often defined as:\n",
    "\n",
    "$\\large𝜒^2=∑_{𝑖}^{𝑁}\\frac{[𝑦_{i}^{meas}-𝑦_{𝑖}^{model}(𝐯)]^2}{𝜖^{2}_{𝑖}}$\n",
    "\n",
    "where $\\large𝑦^{meas}_{𝑖}$ is the set of measured data, $\\large𝑦^{model}_{𝑖}(𝐯)$ is the model calculation, $𝐯$ is the set of variables in the model to be optimized in the fit, and $\\large𝜖_{𝑖}$ is the estimated uncertainty in the data.\n",
    "\n",
    "In a traditional non-linear fit, one writes an objective function that takes the variable values and calculates the residual array $\\large𝑦^{meas}_{𝑖}-𝑦^{model}_{𝑖}(𝐯)$, or the residual array scaled by the data uncertainties, $\\large \\frac{[𝑦^{meas}_{𝑖}-𝑦^{model}_{𝑖}(𝐯)]}{𝜖_{𝑖}}$, or some other weighting factor.\n",
    "\n",
    "\n",
    "It is important to notice that LMFIT is based on the (powerful) `scipy.optimize` package. However, its API is  simpler and now provides more tools than the Scipy package.\n",
    "\n",
    "* The addition of the `Parameter` class provides a clean interface to parameters.\n",
    "* Posibility to define parameters that have lower and upper constraints, that are fixed, linked, or are inequalities.\n",
    "* User defined and built-in models.\n",
    "* Creation of complex models by combination of simpler models."
   ]
  },
  {
   "cell_type": "markdown",
   "metadata": {},
   "source": [
    "## Using LMFIT\n",
    "\n",
    "First, we import the library:"
   ]
  },
  {
   "cell_type": "code",
   "execution_count": 2,
   "metadata": {},
   "outputs": [],
   "source": [
    "import lmfit as lm # Not a standard alias, but useful."
   ]
  },
  {
   "cell_type": "markdown",
   "metadata": {},
   "source": [
    "### As a simple example:\n"
   ]
  },
  {
   "cell_type": "code",
   "execution_count": 3,
   "metadata": {},
   "outputs": [],
   "source": [
    "# Generate some data:\n",
    "import numpy as np\n",
    "\n",
    "X = np.linspace(-10, 10, 15)\n",
    "Ytrue = 2.6 * X - 5\n",
    "Ymeas = Ytrue  + 5*np.random.randn(len(X))"
   ]
  },
  {
   "cell_type": "code",
   "execution_count": 4,
   "metadata": {},
   "outputs": [
    {
     "data": {
      "text/plain": [
       "<matplotlib.legend.Legend at 0x7f7f4b8a9890>"
      ]
     },
     "execution_count": 4,
     "metadata": {},
     "output_type": "execute_result"
    },
    {
     "data": {
      "image/png": "[encoded data removed]",
      "text/plain": [
       "<Figure size 432x288 with 1 Axes>"
      ]
     },
     "metadata": {
      "needs_background": "light"
     },
     "output_type": "display_data"
    }
   ],
   "source": [
    "import matplotlib.pyplot as plt\n",
    "plt.plot(X, Ytrue, 'r:', label='True')\n",
    "plt.plot(X, Ymeas, 'o', label='Measured')\n",
    "plt.legend(loc=0)"
   ]
  },
  {
   "cell_type": "markdown",
   "metadata": {},
   "source": [
    "### Setting up a model:\n",
    "\n",
    "First, we need to define a function to be minimized (this is why we solve an *optimization* problem!).\n",
    "\n",
    "We will write a function that calculates the *residuals* of our model, "
   ]
  },
  {
   "cell_type": "code",
   "execution_count": 5,
   "metadata": {},
   "outputs": [],
   "source": [
    "#  Define a model of a straight line:\n",
    "def line_residuals(params, x, data = None, eps_data = None):\n",
    "    '''\n",
    "    We define a function that also returns the model only if no data is passed.\n",
    "    '''\n",
    "    m = params['slope']\n",
    "    n = params['zpt']\n",
    "    \n",
    "    model = m * x + n\n",
    "    \n",
    "    if data is not None:\n",
    "        diff = data - model\n",
    "        if eps_data is not None:\n",
    "            return diff / eps_data\n",
    "        return diff\n",
    "    \n",
    "    return model\n",
    "\n"
   ]
  },
  {
   "cell_type": "markdown",
   "metadata": {},
   "source": [
    "### The `Parameters` class\n",
    "\n",
    "As mentioned above, lmfit works with parameters that are easy to modify, fix, constrain, etc. This is achivede with the `Parameters` class.\n",
    "\n",
    "We will create the Parameters for our example:"
   ]
  },
  {
   "cell_type": "code",
   "execution_count": 6,
   "metadata": {},
   "outputs": [],
   "source": [
    "params_line = lm.Parameters()\n",
    "params_line.add('slope', value=1) # In their simplest form, we need the name of the parameter and its initial value (guess)\n",
    "params_line.add('zpt', value=-0.5)\n"
   ]
  },
  {
   "cell_type": "markdown",
   "metadata": {},
   "source": [
    "Check what information is stored for each parameter:"
   ]
  },
  {
   "cell_type": "code",
   "execution_count": 7,
   "metadata": {},
   "outputs": [
    {
     "data": {
      "text/html": [
       "<table><tr><th> name </th><th> value </th><th> initial value </th><th> min </th><th> max </th><th> vary </th></tr><tr><td> slope </td><td>  1.00000000 </td><td> 1 </td><td>        -inf </td><td>         inf </td><td> True </td></tr><tr><td> zpt </td><td> -0.50000000 </td><td> -0.5 </td><td>        -inf </td><td>         inf </td><td> True </td></tr></table>"
      ],
      "text/plain": [
       "Parameters([('slope', <Parameter 'slope', 1, bounds=[-inf:inf]>),\n",
       "            ('zpt', <Parameter 'zpt', -0.5, bounds=[-inf:inf]>)])"
      ]
     },
     "execution_count": 7,
     "metadata": {},
     "output_type": "execute_result"
    }
   ],
   "source": [
    "params_line"
   ]
  },
  {
   "cell_type": "markdown",
   "metadata": {},
   "source": [
    "You can see that a minimum, maximum and vary arguments also exist. These three can also be set by the user at creation time.\n",
    "\n",
    "### Minimizing (fitting) the model:"
   ]
  },
  {
   "cell_type": "code",
   "execution_count": 8,
   "metadata": {},
   "outputs": [],
   "source": [
    "results_line = lm.minimize( line_residuals, params_line, args=(X, Ymeas))"
   ]
  },
  {
   "cell_type": "code",
   "execution_count": 9,
   "metadata": {},
   "outputs": [
    {
     "data": {
      "text/html": [
       "<h2>Fit Statistics</h2><table><tr><td>fitting method</td><td>leastsq</td><td></td></tr><tr><td># function evals</td><td>6</td><td></td></tr><tr><td># data points</td><td>15</td><td></td></tr><tr><td># variables</td><td>2</td><td></td></tr><tr><td>chi-square</td><td> 359.924539</td><td></td></tr><tr><td>reduced chi-square</td><td> 27.6865030</td><td></td></tr><tr><td>Akaike info crit.</td><td> 51.6676629</td><td></td></tr><tr><td>Bayesian info crit.</td><td> 53.0837633</td><td></td></tr></table><h2>Variables</h2><table><tr><th> name </th><th> value </th><th> standard error </th><th> relative error </th><th> initial value </th><th> min </th><th> max </th><th> vary </th></tr><tr><td> slope </td><td>  2.69837111 </td><td>  0.22011674 </td><td> 8.16% </td><td> 1 </td><td>        -inf </td><td>         inf </td><td> True </td></tr><tr><td> zpt </td><td> -4.90413103 </td><td>  1.35859002 </td><td> -27.70% </td><td> -0.5 </td><td>        -inf </td><td>         inf </td><td> True </td></tr></table>"
      ],
      "text/plain": [
       "<lmfit.minimizer.MinimizerResult at 0x7f7f4b03fa90>"
      ]
     },
     "execution_count": 9,
     "metadata": {},
     "output_type": "execute_result"
    }
   ],
   "source": [
    "results_line"
   ]
  },
  {
   "cell_type": "markdown",
   "metadata": {},
   "source": [
    "We can check that the routine in fact converged:"
   ]
  },
  {
   "cell_type": "code",
   "execution_count": 10,
   "metadata": {},
   "outputs": [
    {
     "data": {
      "text/plain": [
       "(True, False)"
      ]
     },
     "execution_count": 10,
     "metadata": {},
     "output_type": "execute_result"
    }
   ],
   "source": [
    "results_line.success, results_line.aborted"
   ]
  },
  {
   "cell_type": "code",
   "execution_count": 11,
   "metadata": {},
   "outputs": [
    {
     "data": {
      "text/plain": [
       "'One or more variable did not affect the fit.'"
      ]
     },
     "execution_count": 11,
     "metadata": {},
     "output_type": "execute_result"
    }
   ],
   "source": [
    "results_line.message"
   ]
  },
  {
   "cell_type": "code",
   "execution_count": 12,
   "metadata": {},
   "outputs": [
    {
     "data": {
      "text/plain": [
       "[<matplotlib.lines.Line2D at 0x7f7f4ab96cd0>]"
      ]
     },
     "execution_count": 12,
     "metadata": {},
     "output_type": "execute_result"
    },
    {
     "data": {
      "image/png": "[encoded data removed]",
      "text/plain": [
       "<Figure size 432x288 with 1 Axes>"
      ]
     },
     "metadata": {
      "needs_background": "light"
     },
     "output_type": "display_data"
    }
   ],
   "source": [
    "line_eval = line_residuals( results_line.params, X)\n",
    "\n",
    "plt.clf()\n",
    "plt.plot(X, Ytrue, 'r:', label='True')\n",
    "plt.plot(X, Ymeas, 'o', label='Measured')\n",
    "plt.plot(X, line_eval, 'b--', label='Fit')\n",
    "plt.legend(loc=0)\n",
    "plt.plot(X, line_eval+results_line.residual, 'x') # Evaluation + residuals equals to data."
   ]
  },
  {
   "cell_type": "code",
   "execution_count": 13,
   "metadata": {},
   "outputs": [
    {
     "data": {
      "text/plain": [
       "(2.6983711071497165, -4.904131029820327)"
      ]
     },
     "execution_count": 13,
     "metadata": {},
     "output_type": "execute_result"
    }
   ],
   "source": [
    "# We can access the parameter estimated value:\n",
    "results_line.params['slope'].value, results_line.params['zpt'].value"
   ]
  },
  {
   "cell_type": "code",
   "execution_count": 14,
   "metadata": {},
   "outputs": [
    {
     "data": {
      "text/plain": [
       "(0.22011674232758593, 1.3585900171135454)"
      ]
     },
     "execution_count": 14,
     "metadata": {},
     "output_type": "execute_result"
    }
   ],
   "source": [
    "# We can also access the calculated 1-sigma error:\n",
    "results_line.params['slope'].stderr, results_line.params['zpt'].stderr"
   ]
  },
  {
   "cell_type": "markdown",
   "metadata": {},
   "source": [
    "### Parameter constraints and fixing parameters:\n",
    "\n",
    "It is possible to constraint parameters by passing the `min` and/or `max` arguments.\n",
    "\n",
    "In addition, one can fix a parameter to its initial value by doing setting `vary=False`. "
   ]
  },
  {
   "cell_type": "code",
   "execution_count": 15,
   "metadata": {},
   "outputs": [],
   "source": [
    "params_line_fixed = lm.Parameters()\n",
    "params_line_fixed.add('slope', value=0.1)  # In their simplest form, we need the name of the parameter and its initial value (guess)\n",
    "params_line_fixed.add('zpt', value=1, vary=False) # Set zpt=1"
   ]
  },
  {
   "cell_type": "code",
   "execution_count": 16,
   "metadata": {},
   "outputs": [
    {
     "data": {
      "text/html": [
       "<h2>Fit Statistics</h2><table><tr><td>fitting method</td><td>leastsq</td><td></td></tr><tr><td># function evals</td><td>4</td><td></td></tr><tr><td># data points</td><td>15</td><td></td></tr><tr><td># variables</td><td>1</td><td></td></tr><tr><td>chi-square</td><td> 882.805985</td><td></td></tr><tr><td>reduced chi-square</td><td> 63.0575703</td><td></td></tr><tr><td>Akaike info crit.</td><td> 63.1258288</td><td></td></tr><tr><td>Bayesian info crit.</td><td> 63.8338790</td><td></td></tr></table><h2>Variables</h2><table><tr><th> name </th><th> value </th><th> standard error </th><th> relative error </th><th> initial value </th><th> min </th><th> max </th><th> vary </th></tr><tr><td> slope </td><td>  2.69837107 </td><td>  0.33219083 </td><td> 12.31% </td><td> 0.1 </td><td>        -inf </td><td>         inf </td><td> True </td></tr><tr><td> zpt </td><td>  1.00000000 </td><td>  0.00000000 </td><td> 0.00% </td><td> 1 </td><td>        -inf </td><td>         inf </td><td> False </td></tr></table>"
      ],
      "text/plain": [
       "<lmfit.minimizer.MinimizerResult at 0x7f7f4ab669d0>"
      ]
     },
     "execution_count": 16,
     "metadata": {},
     "output_type": "execute_result"
    }
   ],
   "source": [
    "results_line_fixed = lm.minimize( line_residuals, params_line_fixed, args=(X, Ymeas))\n",
    "results_line_fixed"
   ]
  },
  {
   "cell_type": "code",
   "execution_count": 17,
   "metadata": {},
   "outputs": [],
   "source": [
    "line_eval_fixed = line_residuals( results_line_fixed.params, X)\n"
   ]
  },
  {
   "cell_type": "code",
   "execution_count": 18,
   "metadata": {},
   "outputs": [
    {
     "data": {
      "text/plain": [
       "<matplotlib.legend.Legend at 0x7f7f4ab16690>"
      ]
     },
     "execution_count": 18,
     "metadata": {},
     "output_type": "execute_result"
    },
    {
     "data": {
      "image/png": "[encoded data removed]",
      "text/plain": [
       "<Figure size 432x288 with 1 Axes>"
      ]
     },
     "metadata": {
      "needs_background": "light"
     },
     "output_type": "display_data"
    }
   ],
   "source": [
    "plt.clf()\n",
    "plt.plot(X, Ytrue, 'r:', label='True')\n",
    "plt.plot(X, Ymeas, 'o', label='Measured')\n",
    "plt.plot(X, line_eval_fixed, 'b--', label='Fit fixed zpt')\n",
    "plt.legend(loc=0)"
   ]
  },
  {
   "cell_type": "markdown",
   "metadata": {},
   "source": [
    "Similarly, we can set parameter constraints using the `min` and/or `max` arguments:"
   ]
  },
  {
   "cell_type": "code",
   "execution_count": 19,
   "metadata": {},
   "outputs": [],
   "source": [
    "params_line_cons = lm.Parameters()\n",
    "params_line_cons.add('slope', value=0.1)  # In their simplest form, we need the name of the parameter and its initial value (guess)\n",
    "params_line_cons.add('zpt', value=1, min=-8, max=-5.5) # Set zpt=1"
   ]
  },
  {
   "cell_type": "code",
   "execution_count": 20,
   "metadata": {},
   "outputs": [
    {
     "data": {
      "text/html": [
       "<h2>Fit Statistics</h2><table><tr><td>fitting method</td><td>leastsq</td><td></td></tr><tr><td># function evals</td><td>6</td><td></td></tr><tr><td># data points</td><td>15</td><td></td></tr><tr><td># variables</td><td>2</td><td></td></tr><tr><td>chi-square</td><td> 365.250436</td><td></td></tr><tr><td>reduced chi-square</td><td> 28.0961874</td><td></td></tr><tr><td>Akaike info crit.</td><td> 51.8879957</td><td></td></tr><tr><td>Bayesian info crit.</td><td> 53.3040961</td><td></td></tr></table><h2>Variables</h2><table><tr><th> name </th><th> value </th><th> initial value </th><th> min </th><th> max </th><th> vary </th></tr><tr><td> slope </td><td>  2.69837118 </td><td> 0.1 </td><td>        -inf </td><td>         inf </td><td> True </td></tr><tr><td> zpt </td><td> -5.50000000 </td><td> -5.5 </td><td> -8.00000000 </td><td> -5.50000000 </td><td> True </td></tr></table>"
      ],
      "text/plain": [
       "<lmfit.minimizer.MinimizerResult at 0x7f7f4aafea50>"
      ]
     },
     "execution_count": 20,
     "metadata": {},
     "output_type": "execute_result"
    }
   ],
   "source": [
    "results_line_cons = lm.minimize( line_residuals, params_line_cons, args=(X, Ymeas))\n",
    "results_line_cons"
   ]
  },
  {
   "cell_type": "code",
   "execution_count": 21,
   "metadata": {},
   "outputs": [],
   "source": [
    "line_eval_cons = line_residuals( results_line_cons.params, X)\n"
   ]
  },
  {
   "cell_type": "code",
   "execution_count": 22,
   "metadata": {},
   "outputs": [
    {
     "data": {
      "text/plain": [
       "<matplotlib.legend.Legend at 0x7f7f4aaaccd0>"
      ]
     },
     "execution_count": 22,
     "metadata": {},
     "output_type": "execute_result"
    },
    {
     "data": {
      "image/png": "[encoded data removed]",
      "text/plain": [
       "<Figure size 432x288 with 1 Axes>"
      ]
     },
     "metadata": {
      "needs_background": "light"
     },
     "output_type": "display_data"
    }
   ],
   "source": [
    "plt.clf()\n",
    "plt.plot(X, Ytrue, 'r:', label='True')\n",
    "plt.plot(X, Ymeas, 'o', label='Measured')\n",
    "plt.plot(X, line_eval_cons, 'b--', label='Fit fixed zpt')\n",
    "plt.legend(loc=0)"
   ]
  },
  {
   "cell_type": "markdown",
   "metadata": {},
   "source": [
    "It is important to mention that you can add parameters in two other ways. Check the documentation:\n",
    "\n",
    "https://lmfit.github.io/lmfit-py/parameters.html#the-parameters-class"
   ]
  },
  {
   "cell_type": "markdown",
   "metadata": {},
   "source": [
    "## The Model class\n",
    "\n",
    "At some point, LMFIT incorporated the `Model` class that allows you to interact in an easier way with you function to be minimized:"
   ]
  },
  {
   "cell_type": "code",
   "execution_count": 23,
   "metadata": {},
   "outputs": [],
   "source": [
    "# Define the function to evaluate in the model:\n",
    "def parabola(x,a,b,c):\n",
    "    return a*x**2 + b*x + c"
   ]
  },
  {
   "cell_type": "code",
   "execution_count": 24,
   "metadata": {},
   "outputs": [],
   "source": [
    "parab_model = lm.Model( parabola)"
   ]
  },
  {
   "cell_type": "code",
   "execution_count": 25,
   "metadata": {},
   "outputs": [
    {
     "name": "stdout",
     "output_type": "stream",
     "text": [
      "parameter names: ['a', 'b', 'c']\n",
      "independent variables: ['x']\n"
     ]
    }
   ],
   "source": [
    "# The class also guesses the paramenters and independent variables:\n",
    "print('parameter names: {}'.format(parab_model.param_names))\n",
    "print('independent variables: {}'.format(parab_model.independent_vars))"
   ]
  },
  {
   "cell_type": "code",
   "execution_count": 26,
   "metadata": {},
   "outputs": [],
   "source": [
    "Ypar_true = parabola(X, 0.65, -4.4, 10.2)"
   ]
  },
  {
   "cell_type": "code",
   "execution_count": 27,
   "metadata": {},
   "outputs": [
    {
     "data": {
      "text/html": [
       "<table><tr><th> name </th><th> value </th><th> initial value </th><th> min </th><th> max </th><th> vary </th></tr><tr><td> a </td><td>  1.00000000 </td><td> None </td><td>        -inf </td><td>         inf </td><td> True </td></tr><tr><td> b </td><td>  1.00000000 </td><td> None </td><td>        -inf </td><td>         inf </td><td> True </td></tr><tr><td> c </td><td>  1.00000000 </td><td> None </td><td>        -inf </td><td>         inf </td><td> True </td></tr></table>"
      ],
      "text/plain": [
       "Parameters([('a', <Parameter 'a', 1, bounds=[-inf:inf]>),\n",
       "            ('b', <Parameter 'b', 1, bounds=[-inf:inf]>),\n",
       "            ('c', <Parameter 'c', 1, bounds=[-inf:inf]>)])"
      ]
     },
     "execution_count": 27,
     "metadata": {},
     "output_type": "execute_result"
    }
   ],
   "source": [
    "parab_params = parab_model.make_params( a=1, b=1, c=1)\n",
    "parab_params"
   ]
  },
  {
   "cell_type": "code",
   "execution_count": 28,
   "metadata": {},
   "outputs": [],
   "source": [
    "Ypar_guess = parab_model.eval(parab_params, x=X)"
   ]
  },
  {
   "cell_type": "code",
   "execution_count": 29,
   "metadata": {},
   "outputs": [
    {
     "data": {
      "text/plain": [
       "<matplotlib.legend.Legend at 0x7f7f4aa3bd10>"
      ]
     },
     "execution_count": 29,
     "metadata": {},
     "output_type": "execute_result"
    },
    {
     "data": {
      "image/png": "[encoded data removed]",
      "text/plain": [
       "<Figure size 432x288 with 1 Axes>"
      ]
     },
     "metadata": {
      "needs_background": "light"
     },
     "output_type": "display_data"
    }
   ],
   "source": [
    "plt.clf()\n",
    "plt.plot(X, Ypar_true, 'r:', label='True')\n",
    "plt.plot(X, Ypar_guess, 'k--', label='Guess')\n",
    "plt.legend(loc=0)"
   ]
  },
  {
   "cell_type": "code",
   "execution_count": 30,
   "metadata": {},
   "outputs": [],
   "source": [
    "# Create some mock data:\n",
    "Ypar_meas = Ypar_true + 8*np.random.randn(len(X))"
   ]
  },
  {
   "cell_type": "code",
   "execution_count": 31,
   "metadata": {},
   "outputs": [
    {
     "data": {
      "text/html": [
       "<h2> Model</h2> Model(parabola) <h2>Fit Statistics</h2><table><tr><td>fitting method</td><td>leastsq</td><td></td></tr><tr><td># function evals</td><td>8</td><td></td></tr><tr><td># data points</td><td>15</td><td></td></tr><tr><td># variables</td><td>3</td><td></td></tr><tr><td>chi-square</td><td> 760.623536</td><td></td></tr><tr><td>reduced chi-square</td><td> 63.3852947</td><td></td></tr><tr><td>Akaike info crit.</td><td> 64.8913251</td><td></td></tr><tr><td>Bayesian info crit.</td><td> 67.0154757</td><td></td></tr></table><h2>Variables</h2><table><tr><th> name </th><th> value </th><th> standard error </th><th> relative error </th><th> initial value </th><th> min </th><th> max </th><th> vary </th></tr><tr><td> a </td><td>  0.76556164 </td><td>  0.06073805 </td><td> 7.93% </td><td> 1 </td><td>        -inf </td><td>         inf </td><td> True </td></tr><tr><td> b </td><td> -4.53344997 </td><td>  0.33305295 </td><td> -7.35% </td><td> 1 </td><td>        -inf </td><td>         inf </td><td> True </td></tr><tr><td> c </td><td>  4.70938615 </td><td>  3.09507622 </td><td> 65.72% </td><td> 1 </td><td>        -inf </td><td>         inf </td><td> True </td></tr></table><h2>Correlations (unreported correlations are < 0.100)</h2><table><tr><td>a</td><td>c</td><td>-0.7476</td></tr></table>"
      ],
      "text/plain": [
       "<lmfit.model.ModelResult at 0x7f7f4a9a28d0>"
      ]
     },
     "execution_count": 31,
     "metadata": {},
     "output_type": "execute_result"
    }
   ],
   "source": [
    "results_parab = parab_model.fit(Ypar_meas, parab_params, x=X)\n",
    "results_parab"
   ]
  },
  {
   "cell_type": "code",
   "execution_count": 32,
   "metadata": {},
   "outputs": [
    {
     "data": {
      "image/png": "[encoded data removed]",
      "text/plain": [
       "<Figure size 432x288 with 1 Axes>"
      ]
     },
     "metadata": {
      "needs_background": "light"
     },
     "output_type": "display_data"
    }
   ],
   "source": [
    "plt.clf()\n",
    "plt.plot(X, Ypar_true, 'r:', label='True')\n",
    "plt.plot(X, results_parab.init_fit, 'k--', label='Guess') # See how the initial params are evaluated?\n",
    "plt.plot(X, Ypar_meas, 'o', label='Data')\n",
    "plt.plot(X, results_parab.eval(), 'g-.', label='Fit') # See how we can evaluate the model?\n",
    "plt.plot(X, results_parab.eval() - results_parab.residual, '-.', label='Using residuals') # See how we can recover the data points?\n",
    "plt.legend(loc=0)\n",
    "plt.xlabel(\"X\")\n",
    "plt.ylabel(\"Y\");"
   ]
  },
  {
   "cell_type": "markdown",
   "metadata": {},
   "source": [
    "## Built-in models and Composite models\n",
    "\n",
    "\n",
    "LMFIT includes some common models that are used in multiple disciplines. We will first solve the previous optimization problem using the built-in model, and after we will introduce a composite model with an example (from LMFIT documentation) which is pertinent to astronomy: "
   ]
  },
  {
   "cell_type": "code",
   "execution_count": 33,
   "metadata": {},
   "outputs": [],
   "source": [
    "# We first create an instance of the LinearModel:\n",
    "parab_builtin = lm.models.ParabolicModel()\n"
   ]
  },
  {
   "cell_type": "code",
   "execution_count": 34,
   "metadata": {},
   "outputs": [
    {
     "data": {
      "text/html": [
       "<table><tr><th> name </th><th> value </th><th> initial value </th><th> min </th><th> max </th><th> vary </th></tr><tr><td> c </td><td>  0.00000000 </td><td> None </td><td>        -inf </td><td>         inf </td><td> True </td></tr><tr><td> b </td><td>  0.00000000 </td><td> None </td><td>        -inf </td><td>         inf </td><td> True </td></tr><tr><td> a </td><td>  0.00000000 </td><td> None </td><td>        -inf </td><td>         inf </td><td> True </td></tr></table>"
      ],
      "text/plain": [
       "Parameters([('c', <Parameter 'c', 0.0, bounds=[-inf:inf]>),\n",
       "            ('b', <Parameter 'b', 0.0, bounds=[-inf:inf]>),\n",
       "            ('a', <Parameter 'a', 0.0, bounds=[-inf:inf]>)])"
      ]
     },
     "execution_count": 34,
     "metadata": {},
     "output_type": "execute_result"
    }
   ],
   "source": [
    "parab_params_builtin = parab_builtin.make_params()\n",
    "parab_params_builtin"
   ]
  },
  {
   "cell_type": "code",
   "execution_count": 35,
   "metadata": {},
   "outputs": [
    {
     "data": {
      "text/html": [
       "<table><tr><th> name </th><th> value </th><th> initial value </th><th> min </th><th> max </th><th> vary </th></tr><tr><td> c </td><td>  3.77436030 </td><td> None </td><td>        -inf </td><td>         inf </td><td> True </td></tr><tr><td> b </td><td> -0.10492006 </td><td> None </td><td>        -inf </td><td>         inf </td><td> True </td></tr><tr><td> a </td><td> -8.3070e-05 </td><td> None </td><td>        -inf </td><td>         inf </td><td> True </td></tr></table>"
      ],
      "text/plain": [
       "Parameters([('c', <Parameter 'c', 3.774360303762234, bounds=[-inf:inf]>),\n",
       "            ('b', <Parameter 'b', -0.10492005628167607, bounds=[-inf:inf]>),\n",
       "            ('a', <Parameter 'a', -8.307045195922592e-05, bounds=[-inf:inf]>)])"
      ]
     },
     "execution_count": 35,
     "metadata": {},
     "output_type": "execute_result"
    }
   ],
   "source": [
    "# Some built-in models include the \"guess\" parameters function!\n",
    "par_guess_builtin = parab_builtin.guess(X, Ypar_meas)\n",
    "par_guess_builtin"
   ]
  },
  {
   "cell_type": "code",
   "execution_count": 36,
   "metadata": {},
   "outputs": [],
   "source": [
    "results_parab_builtin = parab_builtin.fit(  Ypar_meas, par_guess_builtin, x=X)"
   ]
  },
  {
   "cell_type": "code",
   "execution_count": 37,
   "metadata": {},
   "outputs": [
    {
     "data": {
      "text/html": [
       "<h2> Model</h2> Model(parabolic) <h2>Fit Statistics</h2><table><tr><td>fitting method</td><td>leastsq</td><td></td></tr><tr><td># function evals</td><td>9</td><td></td></tr><tr><td># data points</td><td>15</td><td></td></tr><tr><td># variables</td><td>3</td><td></td></tr><tr><td>chi-square</td><td> 760.623536</td><td></td></tr><tr><td>reduced chi-square</td><td> 63.3852947</td><td></td></tr><tr><td>Akaike info crit.</td><td> 64.8913251</td><td></td></tr><tr><td>Bayesian info crit.</td><td> 67.0154757</td><td></td></tr></table><h2>Variables</h2><table><tr><th> name </th><th> value </th><th> standard error </th><th> relative error </th><th> initial value </th><th> min </th><th> max </th><th> vary </th></tr><tr><td> c </td><td>  4.70938628 </td><td>  3.09507630 </td><td> 65.72% </td><td> 3.774360303762234 </td><td>        -inf </td><td>         inf </td><td> True </td></tr><tr><td> b </td><td> -4.53344997 </td><td>  0.33305295 </td><td> -7.35% </td><td> -0.10492005628167607 </td><td>        -inf </td><td>         inf </td><td> True </td></tr><tr><td> a </td><td>  0.76556164 </td><td>  0.06073805 </td><td> 7.93% </td><td> -8.307045195922592e-05 </td><td>        -inf </td><td>         inf </td><td> True </td></tr></table><h2>Correlations (unreported correlations are < 0.100)</h2><table><tr><td>c</td><td>a</td><td>-0.7476</td></tr></table>"
      ],
      "text/plain": [
       "<lmfit.model.ModelResult at 0x7f7f4a8d7ad0>"
      ]
     },
     "execution_count": 37,
     "metadata": {},
     "output_type": "execute_result"
    }
   ],
   "source": [
    "results_parab_builtin"
   ]
  },
  {
   "cell_type": "code",
   "execution_count": 38,
   "metadata": {},
   "outputs": [
    {
     "data": {
      "image/png": "[encoded data removed]",
      "text/plain": [
       "<Figure size 432x288 with 1 Axes>"
      ]
     },
     "metadata": {
      "needs_background": "light"
     },
     "output_type": "display_data"
    }
   ],
   "source": [
    "plt.clf()\n",
    "plt.plot(X, Ypar_true, 'r:', label='True')\n",
    "plt.plot(X, Ypar_meas, 'o', label='Data')\n",
    "plt.plot(X, results_parab.eval(), 'g-.', label='Fit') # See how we can evaluate the model?\n",
    "plt.plot(X, results_parab_builtin.eval(), ':', label='Fit built-in') # See how we can recover the data points?\n",
    "plt.legend(loc=0)\n",
    "plt.xlabel(\"X\")\n",
    "plt.ylabel(\"Y\");"
   ]
  },
  {
   "cell_type": "markdown",
   "metadata": {},
   "source": [
    "## Working with composite models:"
   ]
  },
  {
   "cell_type": "code",
   "execution_count": 39,
   "metadata": {},
   "outputs": [],
   "source": [
    "# Import models to be used to compose a final model\"\n",
    "\n",
    "peak = lm.models.GaussianModel()\n",
    "background = lm.models.LinearModel()\n",
    "\n",
    "model = peak + background # Define a model as a combination"
   ]
  },
  {
   "cell_type": "code",
   "execution_count": 40,
   "metadata": {},
   "outputs": [
    {
     "data": {
      "text/plain": [
       "['sigma', 'center', 'amplitude', 'intercept', 'slope']"
      ]
     },
     "execution_count": 40,
     "metadata": {},
     "output_type": "execute_result"
    }
   ],
   "source": [
    "model.param_names"
   ]
  },
  {
   "cell_type": "code",
   "execution_count": 55,
   "metadata": {},
   "outputs": [],
   "source": [
    "Xm = np.linspace(-20,20,50)\n",
    "m_params = lm.Parameters()\n",
    "for p,v in zip( model.param_names, [2.5,-3, 20, 6, 0.1]):\n",
    "    m_params.add( p, value=v)\n",
    "\n",
    "Ym_true = model.eval( m_params, x=Xm)\n",
    "Ym_meas = Ym_true + 0.1*np.random.randn(len(Ym_true))"
   ]
  },
  {
   "cell_type": "code",
   "execution_count": 56,
   "metadata": {},
   "outputs": [
    {
     "data": {
      "text/plain": [
       "<matplotlib.legend.Legend at 0x7f7f48f68450>"
      ]
     },
     "execution_count": 56,
     "metadata": {},
     "output_type": "execute_result"
    },
    {
     "data": {
      "image/png": "[encoded data removed]",
      "text/plain": [
       "<Figure size 432x288 with 1 Axes>"
      ]
     },
     "metadata": {
      "needs_background": "light"
     },
     "output_type": "display_data"
    }
   ],
   "source": [
    "plt.plot(Xm, Ym_true, 'r:', label='True')\n",
    "plt.plot(Xm, Ym_meas, 'o', label='Measured')\n",
    "plt.legend(loc=0)"
   ]
  },
  {
   "cell_type": "code",
   "execution_count": 57,
   "metadata": {},
   "outputs": [
    {
     "data": {
      "text/html": [
       "<table><tr><th> name </th><th> value </th><th> initial value </th><th> min </th><th> max </th><th> vary </th></tr><tr><td> intercept </td><td> -0.49965501 </td><td> None </td><td>        -inf </td><td>         inf </td><td> True </td></tr><tr><td> slope </td><td>  1.00442091 </td><td> None </td><td>        -inf </td><td>         inf </td><td> True </td></tr></table>"
      ],
      "text/plain": [
       "Parameters([('intercept',\n",
       "             <Parameter 'intercept', -0.49965500941181645, bounds=[-inf:inf]>),\n",
       "            ('slope',\n",
       "             <Parameter 'slope', 1.0044209135186402, bounds=[-inf:inf]>)])"
      ]
     },
     "execution_count": 57,
     "metadata": {},
     "output_type": "execute_result"
    }
   ],
   "source": [
    "#m_pars1 = peak.make_params()\n",
    "m_guess = background.guess(Xm, Ym_meas)\n",
    "m_guess"
   ]
  },
  {
   "cell_type": "code",
   "execution_count": 58,
   "metadata": {},
   "outputs": [],
   "source": [
    "m_guess += peak.guess( Xm, Ym_true)"
   ]
  },
  {
   "cell_type": "code",
   "execution_count": 59,
   "metadata": {},
   "outputs": [
    {
     "data": {
      "text/html": [
       "<table><tr><th> name </th><th> value </th><th> initial value </th><th> min </th><th> max </th><th> vary </th><th> expression </th></tr><tr><td> intercept </td><td> -0.49965501 </td><td> None </td><td>        -inf </td><td>         inf </td><td> True </td><td>  </td></tr><tr><td> slope </td><td>  1.00442091 </td><td> None </td><td>        -inf </td><td>         inf </td><td> True </td><td>  </td></tr><tr><td> sigma </td><td>  9.16582692 </td><td> None </td><td>  0.00000000 </td><td>         inf </td><td> True </td><td>  </td></tr><tr><td> center </td><td>  10.3158304 </td><td> None </td><td>        -inf </td><td>         inf </td><td> True </td><td>  </td></tr><tr><td> amplitude </td><td>  1099.89923 </td><td> None </td><td>        -inf </td><td>         inf </td><td> True </td><td>  </td></tr><tr><td> fwhm </td><td>  21.5838726 </td><td> None </td><td>        -inf </td><td>         inf </td><td> False </td><td> 2.3548200*sigma </td></tr><tr><td> height </td><td>  47.8730760 </td><td> None </td><td>        -inf </td><td>         inf </td><td> False </td><td> 0.3989423*amplitude/max(1.e-15, sigma) </td></tr></table>"
      ],
      "text/plain": [
       "Parameters([('intercept',\n",
       "             <Parameter 'intercept', -0.49965500941181645, bounds=[-inf:inf]>),\n",
       "            ('slope',\n",
       "             <Parameter 'slope', 1.0044209135186402, bounds=[-inf:inf]>),\n",
       "            ('sigma',\n",
       "             <Parameter 'sigma', 9.165826922464818, bounds=[0.0:inf]>),\n",
       "            ('center',\n",
       "             <Parameter 'center', 10.315830441081152, bounds=[-inf:inf]>),\n",
       "            ('amplitude',\n",
       "             <Parameter 'amplitude', 1099.8992306957782, bounds=[-inf:inf]>),\n",
       "            ('fwhm',\n",
       "             <Parameter 'fwhm', 21.583872553558606, bounds=[-inf:inf], expr='2.3548200*sigma'>),\n",
       "            ('height',\n",
       "             <Parameter 'height', 47.873076000000005, bounds=[-inf:inf], expr='0.3989423*amplitude/max(1.e-15, sigma)'>)])"
      ]
     },
     "execution_count": 59,
     "metadata": {},
     "output_type": "execute_result"
    }
   ],
   "source": [
    "m_guess"
   ]
  },
  {
   "cell_type": "code",
   "execution_count": 60,
   "metadata": {},
   "outputs": [
    {
     "data": {
      "text/html": [
       "<table><tr><th> name </th><th> value </th><th> initial value </th><th> min </th><th> max </th><th> vary </th><th> expression </th></tr><tr><td> intercept </td><td>  1.00000000 </td><td> None </td><td>        -inf </td><td>         inf </td><td> True </td><td>  </td></tr><tr><td> slope </td><td>  0.50000000 </td><td> None </td><td> -0.50000000 </td><td>  0.50000000 </td><td> True </td><td>  </td></tr><tr><td> sigma </td><td>  2.00000000 </td><td> None </td><td>  0.00000000 </td><td>         inf </td><td> True </td><td>  </td></tr><tr><td> center </td><td>  10.0000000 </td><td> None </td><td> -10.0000000 </td><td>  10.0000000 </td><td> True </td><td>  </td></tr><tr><td> amplitude </td><td>  10.0000000 </td><td> None </td><td>  0.00000000 </td><td>         inf </td><td> True </td><td>  </td></tr><tr><td> fwhm </td><td>  4.70964000 </td><td> None </td><td>        -inf </td><td>         inf </td><td> False </td><td> 2.3548200*sigma </td></tr><tr><td> height </td><td>  1.99471150 </td><td> None </td><td>        -inf </td><td>         inf </td><td> False </td><td> 0.3989423*amplitude/max(1.e-15, sigma) </td></tr></table>"
      ],
      "text/plain": [
       "Parameters([('intercept', <Parameter 'intercept', 1, bounds=[-inf:inf]>),\n",
       "            ('slope', <Parameter 'slope', 0.5, bounds=[-0.5:0.5]>),\n",
       "            ('sigma', <Parameter 'sigma', 2, bounds=[0.0:inf]>),\n",
       "            ('center', <Parameter 'center', 10, bounds=[-10:10]>),\n",
       "            ('amplitude', <Parameter 'amplitude', 10, bounds=[0.0:inf]>),\n",
       "            ('fwhm',\n",
       "             <Parameter 'fwhm', 4.70964, bounds=[-inf:inf], expr='2.3548200*sigma'>),\n",
       "            ('height',\n",
       "             <Parameter 'height', 1.9947115000000002, bounds=[-inf:inf], expr='0.3989423*amplitude/max(1.e-15, sigma)'>)])"
      ]
     },
     "execution_count": 60,
     "metadata": {},
     "output_type": "execute_result"
    }
   ],
   "source": [
    "m_guess['amplitude'].set(value = 10, min=0.)\n",
    "m_guess['sigma'].set(value = 2)\n",
    "m_guess['intercept'].set(value = 1)\n",
    "m_guess['center'].set(min=-10, max=10)\n",
    "m_guess['slope'].set(min=-0.5, max=0.5)\n",
    "m_guess"
   ]
  },
  {
   "cell_type": "code",
   "execution_count": 61,
   "metadata": {
    "scrolled": true
   },
   "outputs": [
    {
     "data": {
      "text/html": [
       "<h2> Model</h2> (Model(gaussian) + Model(linear)) <h2>Fit Statistics</h2><table><tr><td>fitting method</td><td>leastsq</td><td></td></tr><tr><td># function evals</td><td>14</td><td></td></tr><tr><td># data points</td><td>50</td><td></td></tr><tr><td># variables</td><td>5</td><td></td></tr><tr><td>chi-square</td><td> 1635.49260</td><td></td></tr><tr><td>reduced chi-square</td><td> 36.3442801</td><td></td></tr><tr><td>Akaike info crit.</td><td> 184.383816</td><td></td></tr><tr><td>Bayesian info crit.</td><td> 193.943931</td><td></td></tr></table><h2>Variables</h2><table><tr><th> name </th><th> value </th><th> standard error </th><th> relative error </th><th> initial value </th><th> min </th><th> max </th><th> vary </th><th> expression </th></tr><tr><td> intercept </td><td>  1.00000000 </td><td>  1.03937350 </td><td> 103.94% </td><td> 1 </td><td>        -inf </td><td>         inf </td><td> True </td><td>  </td></tr><tr><td> slope </td><td>  0.50000000 </td><td>  5.8969e-10 </td><td> 0.00% </td><td> 0.5 </td><td> -0.50000000 </td><td>  0.50000000 </td><td> True </td><td>  </td></tr><tr><td> sigma </td><td>  2.00000000 </td><td>  5.01732929 </td><td> 250.87% </td><td> 2 </td><td>  0.00000000 </td><td>         inf </td><td> True </td><td>  </td></tr><tr><td> center </td><td>  10.0000000 </td><td>  1.7194e-08 </td><td> 0.00% </td><td> 10 </td><td> -10.0000000 </td><td>  10.0000000 </td><td> True </td><td>  </td></tr><tr><td> amplitude </td><td>  10.0000000 </td><td>  25.0390138 </td><td> 250.39% </td><td> 10 </td><td>  0.00000000 </td><td>         inf </td><td> True </td><td>  </td></tr><tr><td> fwhm </td><td>  4.70964000 </td><td>  11.8149074 </td><td> 250.87% </td><td> 4.70964 </td><td>        -inf </td><td>         inf </td><td> False </td><td> 2.3548200*sigma </td></tr><tr><td> height </td><td>  1.99471150 </td><td>  3.63382824 </td><td> 182.17% </td><td> 1.9947115000000002 </td><td>        -inf </td><td>         inf </td><td> False </td><td> 0.3989423*amplitude/max(1.e-15, sigma) </td></tr></table><h2>Correlations (unreported correlations are < 0.100)</h2><table><tr><td>sigma</td><td>amplitude</td><td>0.7358</td></tr><tr><td>intercept</td><td>amplitude</td><td>-0.5712</td></tr><tr><td>slope</td><td>amplitude</td><td>0.5651</td></tr><tr><td>slope</td><td>sigma</td><td>0.5000</td></tr><tr><td>intercept</td><td>sigma</td><td>-0.4180</td></tr><tr><td>intercept</td><td>slope</td><td>-0.2997</td></tr></table>"
      ],
      "text/plain": [
       "<lmfit.model.ModelResult at 0x7f7f487fcc10>"
      ]
     },
     "execution_count": 61,
     "metadata": {},
     "output_type": "execute_result"
    }
   ],
   "source": [
    "model_results = model.fit( Ym_meas, m_guess, x=Xm)\n",
    "model_results"
   ]
  },
  {
   "cell_type": "code",
   "execution_count": 62,
   "metadata": {},
   "outputs": [
    {
     "data": {
      "text/plain": [
       "[<matplotlib.lines.Line2D at 0x7f7f48c6b710>]"
      ]
     },
     "execution_count": 62,
     "metadata": {},
     "output_type": "execute_result"
    },
    {
     "data": {
      "image/png": "[encoded data removed]",
      "text/plain": [
       "<Figure size 432x288 with 1 Axes>"
      ]
     },
     "metadata": {
      "needs_background": "light"
     },
     "output_type": "display_data"
    }
   ],
   "source": [
    "plt.plot(Xm,model_results.best_fit)\n",
    "plt.plot(Xm,Ym_meas, 'o')"
   ]
  },
  {
   "cell_type": "code",
   "execution_count": null,
   "metadata": {},
   "outputs": [],
   "source": []
  },
  {
   "cell_type": "code",
   "execution_count": null,
   "metadata": {},
   "outputs": [],
   "source": []
  }
 ],
 "metadata": {
  "kernelspec": {
   "display_name": "Python 3",
   "language": "python",
   "name": "python3"
  },
  "language_info": {
   "codemirror_mode": {
    "name": "ipython",
    "version": 3
   },
   "file_extension": ".py",
   "mimetype": "text/x-python",
   "name": "python",
   "nbconvert_exporter": "python",
   "pygments_lexer": "ipython3",
   "version": "3.7.4"
  }
 },
 "nbformat": 4,
 "nbformat_minor": 4
}
